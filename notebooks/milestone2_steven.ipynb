{
 "cells": [
  {
   "cell_type": "code",
   "execution_count": 6,
   "id": "9b06c258-b397-43a2-80f8-2f2c8624c951",
   "metadata": {
    "tags": []
   },
   "outputs": [],
   "source": [
    "import pandas as pd"
   ]
  },
  {
   "cell_type": "code",
   "execution_count": 7,
   "id": "bda0d04a-961e-41e6-9130-e87cffdd0177",
   "metadata": {},
   "outputs": [
    {
     "name": "stdout",
     "output_type": "stream",
     "text": [
      "/Users/stevenprivate/mds/525/web_and_cloud_group_1/data\n"
     ]
    }
   ],
   "source": [
    "%cd ~/mds/525/web_and_cloud_group_1/data"
   ]
  },
  {
   "cell_type": "code",
   "execution_count": 8,
   "id": "12ca5051-c33c-4668-aa62-edb889bf4264",
   "metadata": {},
   "outputs": [
    {
     "name": "stdout",
     "output_type": "stream",
     "text": [
      "    text  number\n",
      "0   this       2\n",
      "1     is       3\n",
      "2      a       4\n",
      "3  dummy       5\n",
      "4    csv       6\n",
      "5   file       7\n"
     ]
    }
   ],
   "source": [
    "df = pd.read_csv(\"dummy.csv\")\n",
    "print(df)"
   ]
  },
  {
   "cell_type": "code",
   "execution_count": null,
   "id": "dd1ff073-e822-4ca0-9ec9-2e11274fe9a0",
   "metadata": {},
   "outputs": [],
   "source": []
  }
 ],
 "metadata": {
  "kernelspec": {
   "display_name": "Python [conda env:525_2022]",
   "language": "python",
   "name": "conda-env-525_2022-py"
  },
  "language_info": {
   "codemirror_mode": {
    "name": "ipython",
    "version": 3
   },
   "file_extension": ".py",
   "mimetype": "text/x-python",
   "name": "python",
   "nbconvert_exporter": "python",
   "pygments_lexer": "ipython3",
   "version": "3.8.6"
  }
 },
 "nbformat": 4,
 "nbformat_minor": 5
}
