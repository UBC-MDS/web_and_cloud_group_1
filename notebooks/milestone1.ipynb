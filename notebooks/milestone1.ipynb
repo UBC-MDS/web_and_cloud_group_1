{
 "cells": [
  {
   "cell_type": "markdown",
   "id": "thorough-dictionary",
   "metadata": {
    "id": "thorough-dictionary"
   },
   "source": [
    "## Milestone 1"
   ]
  },
  {
   "cell_type": "markdown",
   "id": "pressed-williams",
   "metadata": {
    "id": "pressed-williams"
   },
   "source": [
    "## Import libraries"
   ]
  },
  {
   "cell_type": "code",
   "execution_count": 1,
   "id": "f7e37a43",
   "metadata": {
    "id": "f7e37a43"
   },
   "outputs": [],
   "source": [
    "import re\n",
    "import os\n",
    "import glob\n",
    "import zipfile\n",
    "import requests\n",
    "from urllib.request import urlretrieve\n",
    "import json\n",
    "import pandas as pd"
   ]
  },
  {
   "cell_type": "markdown",
   "id": "genuine-blowing",
   "metadata": {
    "id": "genuine-blowing"
   },
   "source": [
    "## GET request to list the available files"
   ]
  },
  {
   "cell_type": "code",
   "execution_count": 2,
   "id": "mental-breast",
   "metadata": {
    "id": "mental-breast"
   },
   "outputs": [],
   "source": [
    "# Necessary metadata\n",
    "article_id = 14226968  # this is the unique identifier of the article on figshare\n",
    "url = f\"https://api.figshare.com/v2/articles/{article_id}\"\n",
    "headers = {\"Content-Type\": \"application/json\"}\n",
    "output_directory = \"figshareairline/\""
   ]
  },
  {
   "cell_type": "code",
   "execution_count": 3,
   "id": "hybrid-amendment",
   "metadata": {
    "id": "hybrid-amendment"
   },
   "outputs": [
    {
     "data": {
      "text/plain": [
       "[{'id': 26844650,\n",
       "  'name': 'allyears.csv.zip',\n",
       "  'size': 2405908113,\n",
       "  'is_link_only': False,\n",
       "  'download_url': 'https://ndownloader.figshare.com/files/26844650',\n",
       "  'supplied_md5': '9e046ac05ecd2c32a256a47dd1098b81',\n",
       "  'computed_md5': '9e046ac05ecd2c32a256a47dd1098b81'},\n",
       " {'id': 26863682,\n",
       "  'name': 'individual_years.zip',\n",
       "  'size': 1896206676,\n",
       "  'is_link_only': False,\n",
       "  'download_url': 'https://ndownloader.figshare.com/files/26863682',\n",
       "  'supplied_md5': '921da748974b07b2a70bbfcc04535a77',\n",
       "  'computed_md5': '921da748974b07b2a70bbfcc04535a77'},\n",
       " {'id': 27515426,\n",
       "  'name': 'combined_model_data.csv.zip',\n",
       "  'size': 821308997,\n",
       "  'is_link_only': False,\n",
       "  'download_url': 'https://ndownloader.figshare.com/files/27515426',\n",
       "  'supplied_md5': '7638434c44a7d29cbb29fe200b4fd65d',\n",
       "  'computed_md5': '7638434c44a7d29cbb29fe200b4fd65d'},\n",
       " {'id': 27520682,\n",
       "  'name': 'combined_model_data_parti.parquet.zip',\n",
       "  'size': 519743915,\n",
       "  'is_link_only': False,\n",
       "  'download_url': 'https://ndownloader.figshare.com/files/27520682',\n",
       "  'supplied_md5': '02f4e3df8d16580a02291de225072689',\n",
       "  'computed_md5': '02f4e3df8d16580a02291de225072689'},\n",
       " {'id': 27520808,\n",
       "  'name': 'combined_model_data.parquet',\n",
       "  'size': 565872005,\n",
       "  'is_link_only': False,\n",
       "  'download_url': 'https://ndownloader.figshare.com/files/27520808',\n",
       "  'supplied_md5': 'ae63699ab21ffa8006559c6afbcd2271',\n",
       "  'computed_md5': 'ae63699ab21ffa8006559c6afbcd2271'}]"
      ]
     },
     "execution_count": 3,
     "metadata": {},
     "output_type": "execute_result"
    }
   ],
   "source": [
    "response = requests.request(\"GET\", url, headers=headers)\n",
    "data = json.loads(response.text)  # this contains all the articles data, feel free to check it out\n",
    "files = data[\"files\"]             # this is just the data about the files, which is what we want\n",
    "files"
   ]
  },
  {
   "cell_type": "markdown",
   "id": "involved-official",
   "metadata": {
    "id": "involved-official"
   },
   "source": [
    "## Combining data CSVs\n",
    "\n"
   ]
  },
  {
   "cell_type": "code",
   "execution_count": null,
   "id": "bac45c32",
   "metadata": {
    "id": "bac45c32"
   },
   "outputs": [],
   "source": []
  },
  {
   "cell_type": "markdown",
   "id": "premium-binary",
   "metadata": {
    "id": "premium-binary"
   },
   "source": [
    "### Load the combined CSV to memory and perform a simple EDA"
   ]
  },
  {
   "cell_type": "code",
   "execution_count": null,
   "id": "amino-removal",
   "metadata": {
    "id": "amino-removal"
   },
   "outputs": [],
   "source": []
  },
  {
   "cell_type": "markdown",
   "id": "universal-recipient",
   "metadata": {
    "id": "universal-recipient"
   },
   "source": [
    "### Perform a simple EDA in R"
   ]
  },
  {
   "cell_type": "code",
   "execution_count": null,
   "id": "thick-preliminary",
   "metadata": {
    "id": "thick-preliminary"
   },
   "outputs": [],
   "source": []
  },
  {
   "cell_type": "code",
   "execution_count": 4,
   "id": "former-vocabulary",
   "metadata": {
    "id": "former-vocabulary"
   },
   "outputs": [
    {
     "ename": "NameError",
     "evalue": "name 'df_formatted' is not defined",
     "output_type": "error",
     "traceback": [
      "\u001b[0;31m---------------------------------------------------------------------------\u001b[0m",
      "\u001b[0;31mNameError\u001b[0m                                 Traceback (most recent call last)",
      "Input \u001b[0;32mIn [4]\u001b[0m, in \u001b[0;36m<module>\u001b[0;34m\u001b[0m\n\u001b[1;32m      1\u001b[0m \u001b[38;5;66;03m#See your summarized stats\u001b[39;00m\n\u001b[0;32m----> 2\u001b[0m \u001b[38;5;28mprint\u001b[39m(\u001b[38;5;124m'\u001b[39m\u001b[38;5;124mTotal views =\u001b[39m\u001b[38;5;124m'\u001b[39m, \u001b[43mdf_formatted\u001b[49m[\u001b[38;5;124m'\u001b[39m\u001b[38;5;124mviews\u001b[39m\u001b[38;5;124m'\u001b[39m]\u001b[38;5;241m.\u001b[39msum(),\u001b[38;5;124m'\u001b[39m\u001b[38;5;124mand total downloads=\u001b[39m\u001b[38;5;124m'\u001b[39m,df_formatted[\u001b[38;5;124m'\u001b[39m\u001b[38;5;124mdownloads\u001b[39m\u001b[38;5;124m'\u001b[39m]\u001b[38;5;241m.\u001b[39msum())\n",
      "\u001b[0;31mNameError\u001b[0m: name 'df_formatted' is not defined"
     ]
    }
   ],
   "source": [
    "#See your summarized stats\n",
    "print('Total views =', df_formatted['views'].sum(),'and total downloads=',df_formatted['downloads'].sum())\n"
   ]
  },
  {
   "cell_type": "markdown",
   "id": "generic-adoption",
   "metadata": {
    "id": "generic-adoption"
   },
   "source": [
    "## Compare performance"
   ]
  },
  {
   "cell_type": "markdown",
   "id": "ace017dd-e731-4dc1-96c1-c42c93e076a8",
   "metadata": {
    "id": "SA709mKthURp"
   },
   "source": [
    "| Team Member | Operating System | RAM | Processor | Is SSD | Time taken |\n",
    "|:-----------:|:----------------:|:---:|:---------:|:------:|:----------:|\n",
    "| Joyce Wang  |                  |     |           |        |            |\n",
    "| Macy Chan   |                  |     |           |        |            |\n",
    "| Steven Leung|                  |     |           |        |            |\n",
    "| Zack Tang   |                  |     |           |        |            |"
   ]
  },
  {
   "cell_type": "code",
   "execution_count": null,
   "id": "c93ffbe3-ca48-409d-94d6-4dbcd404750a",
   "metadata": {},
   "outputs": [],
   "source": []
  }
 ],
 "metadata": {
  "colab": {
   "name": "ACCOUNT-ITEMS-COLLECTIONS.ipynb",
   "provenance": []
  },
  "kernelspec": {
   "display_name": "Python 3 (ipykernel)",
   "language": "python",
   "name": "python3"
  },
  "language_info": {
   "codemirror_mode": {
    "name": "ipython",
    "version": 3
   },
   "file_extension": ".py",
   "mimetype": "text/x-python",
   "name": "python",
   "nbconvert_exporter": "python",
   "pygments_lexer": "ipython3",
   "version": "3.9.9"
  }
 },
 "nbformat": 4,
 "nbformat_minor": 5
}
