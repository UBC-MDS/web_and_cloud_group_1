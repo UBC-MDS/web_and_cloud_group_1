{
 "cells": [
  {
   "cell_type": "markdown",
   "id": "thorough-dictionary",
   "metadata": {
    "id": "thorough-dictionary"
   },
   "source": [
    "## Milestone 1"
   ]
  },
  {
   "cell_type": "markdown",
   "id": "pressed-williams",
   "metadata": {
    "id": "pressed-williams"
   },
   "source": [
    "## Import libraries"
   ]
  },
  {
   "cell_type": "code",
   "execution_count": 1,
   "id": "f7e37a43",
   "metadata": {
    "id": "f7e37a43"
   },
   "outputs": [],
   "source": [
    "import re\n",
    "import os\n",
    "import glob\n",
    "import zipfile\n",
    "import requests\n",
    "from urllib.request import urlretrieve\n",
    "import json\n",
    "import pandas as pd"
   ]
  },
  {
   "cell_type": "markdown",
   "id": "genuine-blowing",
   "metadata": {
    "id": "genuine-blowing"
   },
   "source": [
    "## GET request to list the available files"
   ]
  },
  {
   "cell_type": "code",
   "execution_count": 2,
   "id": "mental-breast",
   "metadata": {
    "id": "mental-breast"
   },
   "outputs": [],
   "source": [
    "# Necessary metadata\n",
    "article_id = 14096681  # this is the unique identifier of the article on figshare\n",
    "url = f\"https://api.figshare.com/v2/articles/{article_id}\"\n",
    "headers = {\"Content-Type\": \"application/json\"}\n",
    "output_directory = \"figshare/\""
   ]
  },
  {
   "cell_type": "code",
   "execution_count": 3,
   "id": "hybrid-amendment",
   "metadata": {
    "id": "hybrid-amendment"
   },
   "outputs": [
    {
     "data": {
      "text/plain": [
       "[{'id': 26579150,\n",
       "  'name': 'daily_rainfall_2014.png',\n",
       "  'size': 58863,\n",
       "  'is_link_only': False,\n",
       "  'download_url': 'https://ndownloader.figshare.com/files/26579150',\n",
       "  'supplied_md5': 'fd32a2ffde300a31f8d63b1825d47e5e',\n",
       "  'computed_md5': 'fd32a2ffde300a31f8d63b1825d47e5e'},\n",
       " {'id': 26579171,\n",
       "  'name': 'environment.yml',\n",
       "  'size': 192,\n",
       "  'is_link_only': False,\n",
       "  'download_url': 'https://ndownloader.figshare.com/files/26579171',\n",
       "  'supplied_md5': '060b2020017eed93a1ee7dd8c65b2f34',\n",
       "  'computed_md5': '060b2020017eed93a1ee7dd8c65b2f34'},\n",
       " {'id': 26586554,\n",
       "  'name': 'README.md',\n",
       "  'size': 5422,\n",
       "  'is_link_only': False,\n",
       "  'download_url': 'https://ndownloader.figshare.com/files/26586554',\n",
       "  'supplied_md5': '61858c6cc0e6a6d6663a7e4c75bbd88c',\n",
       "  'computed_md5': '61858c6cc0e6a6d6663a7e4c75bbd88c'},\n",
       " {'id': 26766812,\n",
       "  'name': 'data.zip',\n",
       "  'size': 814041183,\n",
       "  'is_link_only': False,\n",
       "  'download_url': 'https://ndownloader.figshare.com/files/26766812',\n",
       "  'supplied_md5': 'b517383f76e77bd03755a63a8ff83ee9',\n",
       "  'computed_md5': 'b517383f76e77bd03755a63a8ff83ee9'},\n",
       " {'id': 26766815,\n",
       "  'name': 'get_data.py',\n",
       "  'size': 4113,\n",
       "  'is_link_only': False,\n",
       "  'download_url': 'https://ndownloader.figshare.com/files/26766815',\n",
       "  'supplied_md5': '7829028495fd9dec9680ea013474afa6',\n",
       "  'computed_md5': '7829028495fd9dec9680ea013474afa6'}]"
      ]
     },
     "execution_count": 3,
     "metadata": {},
     "output_type": "execute_result"
    }
   ],
   "source": [
    "response = requests.request(\"GET\", url, headers=headers)\n",
    "data = json.loads(response.text)  # this contains all the articles data, feel free to check it out\n",
    "files = data[\"files\"]             # this is just the data about the files, which is what we want\n",
    "files"
   ]
  },
  {
   "cell_type": "code",
   "execution_count": 4,
   "id": "5a907119-a733-4cf1-956d-ecd82506252a",
   "metadata": {},
   "outputs": [
    {
     "name": "stdout",
     "output_type": "stream",
     "text": [
      "CPU times: user 4.66 s, sys: 6.07 s, total: 10.7 s\n",
      "Wall time: 1min 15s\n"
     ]
    }
   ],
   "source": [
    "%%time\n",
    "files_to_dl = [\"data.zip\"]  # feel free to add other files here\n",
    "for file in files:\n",
    "    if file[\"name\"] in files_to_dl:\n",
    "        os.makedirs(output_directory, exist_ok=True)\n",
    "        urlretrieve(file[\"download_url\"], output_directory + file[\"name\"])"
   ]
  },
  {
   "cell_type": "code",
   "execution_count": 5,
   "id": "ab8f7b4d-882a-4a4b-97ee-666162eff1a4",
   "metadata": {},
   "outputs": [
    {
     "name": "stdout",
     "output_type": "stream",
     "text": [
      "CPU times: user 15.6 s, sys: 2.77 s, total: 18.4 s\n",
      "Wall time: 19.9 s\n"
     ]
    }
   ],
   "source": [
    "%%time\n",
    "with zipfile.ZipFile(os.path.join(output_directory, \"data.zip\"), 'r') as f:\n",
    "    f.extractall(output_directory)"
   ]
  },
  {
   "cell_type": "code",
   "execution_count": 6,
   "id": "16f2b24b-9e72-4a7e-944e-59381a985e11",
   "metadata": {},
   "outputs": [
    {
     "name": "stdout",
     "output_type": "stream",
     "text": [
      "total 12218440\n",
      "-rw-r--r--   1 tangyiyi113  staff  814041183 29 Mar 17:58 data.zip\n",
      "-rw-r--r--   1 tangyiyi113  staff   95376895 29 Mar 17:58 MPI-ESM-1-2-HAM_daily_rainfall_NSW.csv\n",
      "-rw-r--r--   1 tangyiyi113  staff   94960113 29 Mar 17:58 AWI-ESM-1-1-LR_daily_rainfall_NSW.csv\n",
      "-rw-r--r--   1 tangyiyi113  staff   82474546 29 Mar 17:59 NorESM2-LM_daily_rainfall_NSW.csv\n",
      "-rw-r--r--   1 tangyiyi113  staff  127613760 29 Mar 17:59 ACCESS-CM2_daily_rainfall_NSW.csv\n",
      "-rw-r--r--   1 tangyiyi113  staff  232118894 29 Mar 17:59 FGOALS-f3-L_daily_rainfall_NSW.csv\n",
      "-rw-r--r--   1 tangyiyi113  staff  330360682 29 Mar 17:59 CMCC-CM2-HR4_daily_rainfall_NSW.csv\n",
      "-rw-r--r--   1 tangyiyi113  staff  254009247 29 Mar 17:59 MRI-ESM2-0_daily_rainfall_NSW.csv\n",
      "-rw-r--r--   1 tangyiyi113  staff  235661418 29 Mar 17:59 GFDL-CM4_daily_rainfall_NSW.csv\n",
      "-rw-r--r--   1 tangyiyi113  staff  294260911 29 Mar 17:59 BCC-CSM2-MR_daily_rainfall_NSW.csv\n",
      "-rw-r--r--   1 tangyiyi113  staff  295768615 29 Mar 17:59 EC-Earth3-Veg-LR_daily_rainfall_NSW.csv\n",
      "-rw-r--r--   1 tangyiyi113  staff  328852379 29 Mar 17:59 CMCC-ESM2_daily_rainfall_NSW.csv\n",
      "-rw-r--r--   1 tangyiyi113  staff   67784105 29 Mar 17:59 NESM3_daily_rainfall_NSW.csv\n",
      "-rw-r--r--   1 tangyiyi113  staff   95640682 29 Mar 17:59 MPI-ESM1-2-LR_daily_rainfall_NSW.csv\n",
      "-rw-r--r--   1 tangyiyi113  staff  114707410 29 Mar 17:59 ACCESS-ESM1-5_daily_rainfall_NSW.csv\n",
      "-rw-r--r--   1 tangyiyi113  staff  116179272 29 Mar 17:59 FGOALS-g3_daily_rainfall_NSW.csv\n",
      "-rw-r--r--   1 tangyiyi113  staff  102517965 29 Mar 17:59 INM-CM4-8_daily_rainfall_NSW.csv\n",
      "-rw-r--r--   1 tangyiyi113  staff  515458033 29 Mar 17:59 MPI-ESM1-2-HR_daily_rainfall_NSW.csv\n",
      "-rw-r--r--   1 tangyiyi113  staff  332813281 29 Mar 17:59 TaiESM1_daily_rainfall_NSW.csv\n",
      "-rw-r--r--   1 tangyiyi113  staff  337555851 29 Mar 17:59 NorESM2-MM_daily_rainfall_NSW.csv\n",
      "-rw-r--r--   1 tangyiyi113  staff  328787320 29 Mar 17:59 CMCC-CM2-SR5_daily_rainfall_NSW.csv\n",
      "-rw-r--r--   1 tangyiyi113  staff     952202 29 Mar 17:59 observed_daily_rainfall_SYD.csv\n",
      "-rw-r--r--   1 tangyiyi113  staff   93829697 29 Mar 17:59 KIOST-ESM_daily_rainfall_NSW.csv\n",
      "-rw-r--r--   1 tangyiyi113  staff  102692289 29 Mar 17:59 INM-CM5-0_daily_rainfall_NSW.csv\n",
      "-rw-r--r--   1 tangyiyi113  staff  206822938 29 Mar 17:59 MIROC6_daily_rainfall_NSW.csv\n",
      "-rw-r--r--   1 tangyiyi113  staff   55224437 29 Mar 17:59 BCC-ESM1_daily_rainfall_NSW.csv\n",
      "-rw-r--r--   1 tangyiyi113  staff  124586961 29 Mar 17:59 GFDL-ESM4_daily_rainfall_NSW.csv\n",
      "-rw-r--r--   1 tangyiyi113  staff   46286371 29 Mar 17:59 CanESM5_daily_rainfall_NSW.csv\n",
      "-rw-r--r--   1 tangyiyi113  staff  333489879 29 Mar 17:59 SAM0-UNICON_daily_rainfall_NSW.csv\n",
      "drwxr-xr-x  30 tangyiyi113  staff        960 29 Mar 17:59 \u001b[1m\u001b[34m__MACOSX\u001b[m\u001b[m/\n"
     ]
    }
   ],
   "source": [
    "current_path = %pwd\n",
    "data_path =  current_path + \"/figshare\"\n",
    "%ls -ltr $data_path"
   ]
  },
  {
   "cell_type": "markdown",
   "id": "involved-official",
   "metadata": {
    "id": "involved-official"
   },
   "source": [
    "## Combining data CSVs\n",
    "\n"
   ]
  },
  {
   "cell_type": "code",
   "execution_count": 7,
   "id": "16746165-4c65-4719-91d5-37ccf1e97f4f",
   "metadata": {},
   "outputs": [
    {
     "name": "stdout",
     "output_type": "stream",
     "text": [
      "CPU times: user 7min 25s, sys: 15.3 s, total: 7min 40s\n",
      "Wall time: 7min 50s\n"
     ]
    }
   ],
   "source": [
    "%%time\n",
    "files_to_combine = glob.glob(data_path + \"/*.csv\")\n",
    "files_to_combine.remove(data_path + \"/observed_daily_rainfall_SYD.csv\")\n",
    "df = pd.concat(\n",
    "    (pd.read_csv(file, index_col=0, parse_dates=True)\n",
    "                .assign(model=re.findall(r'[^\\/&\\\\]+(?=_daily_rainfall_NSW\\.)', file)[0])\n",
    "                for file in files_to_combine)\n",
    "    )\n",
    "df.to_csv(current_path + \"/combined_data.csv\")"
   ]
  },
  {
   "cell_type": "code",
   "execution_count": 8,
   "id": "5e8c84fd-f8ed-427f-9b65-fd96a2cbebf4",
   "metadata": {},
   "outputs": [
    {
     "name": "stdout",
     "output_type": "stream",
     "text": [
      "(62467843, 6)\n"
     ]
    }
   ],
   "source": [
    "print(df.shape)"
   ]
  },
  {
   "cell_type": "code",
   "execution_count": 9,
   "id": "5ce86357-ecc2-4328-a84d-ae6324679c65",
   "metadata": {},
   "outputs": [
    {
     "data": {
      "text/html": [
       "<div>\n",
       "<style scoped>\n",
       "    .dataframe tbody tr th:only-of-type {\n",
       "        vertical-align: middle;\n",
       "    }\n",
       "\n",
       "    .dataframe tbody tr th {\n",
       "        vertical-align: top;\n",
       "    }\n",
       "\n",
       "    .dataframe thead th {\n",
       "        text-align: right;\n",
       "    }\n",
       "</style>\n",
       "<table border=\"1\" class=\"dataframe\">\n",
       "  <thead>\n",
       "    <tr style=\"text-align: right;\">\n",
       "      <th></th>\n",
       "      <th>lat_min</th>\n",
       "      <th>lat_max</th>\n",
       "      <th>lon_min</th>\n",
       "      <th>lon_max</th>\n",
       "      <th>rain (mm/day)</th>\n",
       "      <th>model</th>\n",
       "    </tr>\n",
       "    <tr>\n",
       "      <th>time</th>\n",
       "      <th></th>\n",
       "      <th></th>\n",
       "      <th></th>\n",
       "      <th></th>\n",
       "      <th></th>\n",
       "      <th></th>\n",
       "    </tr>\n",
       "  </thead>\n",
       "  <tbody>\n",
       "    <tr>\n",
       "      <th>1889-01-01 12:00:00</th>\n",
       "      <td>-35.439867</td>\n",
       "      <td>-33.574619</td>\n",
       "      <td>141.5625</td>\n",
       "      <td>143.4375</td>\n",
       "      <td>4.244226e-13</td>\n",
       "      <td>MPI-ESM-1-2-HAM</td>\n",
       "    </tr>\n",
       "    <tr>\n",
       "      <th>1889-01-02 12:00:00</th>\n",
       "      <td>-35.439867</td>\n",
       "      <td>-33.574619</td>\n",
       "      <td>141.5625</td>\n",
       "      <td>143.4375</td>\n",
       "      <td>4.217326e-13</td>\n",
       "      <td>MPI-ESM-1-2-HAM</td>\n",
       "    </tr>\n",
       "    <tr>\n",
       "      <th>1889-01-03 12:00:00</th>\n",
       "      <td>-35.439867</td>\n",
       "      <td>-33.574619</td>\n",
       "      <td>141.5625</td>\n",
       "      <td>143.4375</td>\n",
       "      <td>4.498125e-13</td>\n",
       "      <td>MPI-ESM-1-2-HAM</td>\n",
       "    </tr>\n",
       "    <tr>\n",
       "      <th>1889-01-04 12:00:00</th>\n",
       "      <td>-35.439867</td>\n",
       "      <td>-33.574619</td>\n",
       "      <td>141.5625</td>\n",
       "      <td>143.4375</td>\n",
       "      <td>4.251282e-13</td>\n",
       "      <td>MPI-ESM-1-2-HAM</td>\n",
       "    </tr>\n",
       "    <tr>\n",
       "      <th>1889-01-05 12:00:00</th>\n",
       "      <td>-35.439867</td>\n",
       "      <td>-33.574619</td>\n",
       "      <td>141.5625</td>\n",
       "      <td>143.4375</td>\n",
       "      <td>4.270161e-13</td>\n",
       "      <td>MPI-ESM-1-2-HAM</td>\n",
       "    </tr>\n",
       "  </tbody>\n",
       "</table>\n",
       "</div>"
      ],
      "text/plain": [
       "                       lat_min    lat_max   lon_min   lon_max  rain (mm/day)  \\\n",
       "time                                                                           \n",
       "1889-01-01 12:00:00 -35.439867 -33.574619  141.5625  143.4375   4.244226e-13   \n",
       "1889-01-02 12:00:00 -35.439867 -33.574619  141.5625  143.4375   4.217326e-13   \n",
       "1889-01-03 12:00:00 -35.439867 -33.574619  141.5625  143.4375   4.498125e-13   \n",
       "1889-01-04 12:00:00 -35.439867 -33.574619  141.5625  143.4375   4.251282e-13   \n",
       "1889-01-05 12:00:00 -35.439867 -33.574619  141.5625  143.4375   4.270161e-13   \n",
       "\n",
       "                               model  \n",
       "time                                  \n",
       "1889-01-01 12:00:00  MPI-ESM-1-2-HAM  \n",
       "1889-01-02 12:00:00  MPI-ESM-1-2-HAM  \n",
       "1889-01-03 12:00:00  MPI-ESM-1-2-HAM  \n",
       "1889-01-04 12:00:00  MPI-ESM-1-2-HAM  \n",
       "1889-01-05 12:00:00  MPI-ESM-1-2-HAM  "
      ]
     },
     "execution_count": 9,
     "metadata": {},
     "output_type": "execute_result"
    }
   ],
   "source": [
    "df.head()"
   ]
  },
  {
   "cell_type": "markdown",
   "id": "premium-binary",
   "metadata": {
    "id": "premium-binary"
   },
   "source": [
    "## Load the combined CSV to memory and perform a simple EDA"
   ]
  },
  {
   "cell_type": "code",
   "execution_count": 10,
   "id": "8ae98b64-3228-40e3-9cac-fc36425c3e3a",
   "metadata": {},
   "outputs": [
    {
     "data": {
      "text/plain": [
       "(62467843, 6)"
      ]
     },
     "execution_count": 10,
     "metadata": {},
     "output_type": "execute_result"
    }
   ],
   "source": [
    "df.shape"
   ]
  },
  {
   "cell_type": "markdown",
   "id": "5a3d3568-a85f-472a-a9db-a2c1b6169a96",
   "metadata": {},
   "source": [
    "**Observations:**\n",
    "\n",
    "This is a relatively large dataset with 62,467,843 instances and 6 features. So, running the whole data set for data wrangling and analysis may be time-consuming. "
   ]
  },
  {
   "cell_type": "code",
   "execution_count": 11,
   "id": "e3fae57f-2f8d-423e-8724-8b369fdef568",
   "metadata": {},
   "outputs": [
    {
     "data": {
      "text/plain": [
       "lat_min          float64\n",
       "lat_max          float64\n",
       "lon_min          float64\n",
       "lon_max          float64\n",
       "rain (mm/day)    float64\n",
       "model             object\n",
       "dtype: object"
      ]
     },
     "execution_count": 11,
     "metadata": {},
     "output_type": "execute_result"
    }
   ],
   "source": [
    "df.dtypes"
   ]
  },
  {
   "cell_type": "markdown",
   "id": "0ab45278-ba52-423b-9d3f-d64725bc3f4c",
   "metadata": {},
   "source": [
    "**Observations:**\n",
    "\n",
    "As the memory usage is quite large (around 3.7+ GB), running `df.info()` would not be an efficient way to extract data type information. Instead, we used `df.dtypes`, which gives desired information with minimal time. \n",
    "\n",
    "As we can observe from the result, there are five numerical features (\"lat_min\", \"lat_max\", \"lon_min\", \"lon_max\", \"rain (mm/day)\") and one categorical feature (\"model\"). And all numerical features is the data type of `float 64`, which consumes a lot of memory; therefore, we may think about changing data types to decrease the memory usage. "
   ]
  },
  {
   "cell_type": "markdown",
   "id": "204f435b-b639-4e7a-a0a7-6ef72d792dc7",
   "metadata": {},
   "source": [
    "### Change data types of numerical features"
   ]
  },
  {
   "cell_type": "code",
   "execution_count": 12,
   "id": "3e2f1166-94d2-4117-9ee2-12d1011abb7b",
   "metadata": {},
   "outputs": [
    {
     "name": "stdout",
     "output_type": "stream",
     "text": [
      "MPI-ESM1-2-HR       5154240\n",
      "CMCC-CM2-HR4        3541230\n",
      "CMCC-ESM2           3541230\n",
      "CMCC-CM2-SR5        3541230\n",
      "NorESM2-MM          3541230\n",
      "TaiESM1             3541230\n",
      "SAM0-UNICON         3541153\n",
      "GFDL-ESM4           3219300\n",
      "FGOALS-f3-L         3219300\n",
      "GFDL-CM4            3219300\n",
      "MRI-ESM2-0          3037320\n",
      "EC-Earth3-Veg-LR    3037320\n",
      "BCC-CSM2-MR         3035340\n",
      "MIROC6              2070900\n",
      "ACCESS-CM2          1932840\n",
      "ACCESS-ESM1-5       1610700\n",
      "INM-CM4-8           1609650\n",
      "INM-CM5-0           1609650\n",
      "FGOALS-g3           1287720\n",
      "KIOST-ESM           1287720\n",
      "AWI-ESM-1-1-LR       966420\n",
      "MPI-ESM1-2-LR        966420\n",
      "NESM3                966420\n",
      "MPI-ESM-1-2-HAM      966420\n",
      "NorESM2-LM           919800\n",
      "BCC-ESM1             551880\n",
      "CanESM5              551880\n",
      "Name: model, dtype: int64\n",
      "CPU times: user 1min 2s, sys: 6.75 s, total: 1min 8s\n",
      "Wall time: 1min 9s\n"
     ]
    }
   ],
   "source": [
    "%%time\n",
    "# Change data types of numerical features\n",
    "data_types = {'lat_min': 'float16', \n",
    "          'lat_max': 'float16', \n",
    "          'lon_min': 'float16', \n",
    "          'lon_max': 'float16',\n",
    "          'rain (mm/day)':'float16',\n",
    "          'model':'str'}\n",
    "df_1 = pd.read_csv(current_path + \"/combined_data.csv\", index_col=0, parse_dates=True, dtype=data_types)\n",
    "print(df_1[\"model\"].value_counts())"
   ]
  },
  {
   "cell_type": "code",
   "execution_count": 13,
   "id": "09e3a4a7-cb7b-4a2c-9916-9bff9eb6af3a",
   "metadata": {},
   "outputs": [
    {
     "data": {
      "text/plain": [
       "lat_min          float16\n",
       "lat_max          float16\n",
       "lon_min          float16\n",
       "lon_max          float16\n",
       "rain (mm/day)    float16\n",
       "model             object\n",
       "dtype: object"
      ]
     },
     "execution_count": 13,
     "metadata": {},
     "output_type": "execute_result"
    }
   ],
   "source": [
    "df_1.dtypes"
   ]
  },
  {
   "cell_type": "code",
   "execution_count": 14,
   "id": "62f30942-c29f-47d8-924a-506b4e60a086",
   "metadata": {},
   "outputs": [
    {
     "data": {
      "text/plain": [
       "27"
      ]
     },
     "execution_count": 14,
     "metadata": {},
     "output_type": "execute_result"
    }
   ],
   "source": [
    "len(df_1[\"model\"].unique())"
   ]
  },
  {
   "cell_type": "code",
   "execution_count": 15,
   "id": "8fefa7a7-c46a-4092-a2cc-b95bf215f9c7",
   "metadata": {},
   "outputs": [
    {
     "name": "stdout",
     "output_type": "stream",
     "text": [
      "Memory usage with float64: 3498.20 MB\n",
      "Memory usage with float16: 1624.16 MB\n"
     ]
    }
   ],
   "source": [
    "print(f\"Memory usage with float64: {df.memory_usage().sum() / 1e6:.2f} MB\")\n",
    "print(f\"Memory usage with float16: {df_1.memory_usage().sum() / 1e6:.2f} MB\")"
   ]
  },
  {
   "cell_type": "markdown",
   "id": "89a189b5-b330-4dfe-b61c-9b3312141433",
   "metadata": {},
   "source": [
    "**Observations:**\n",
    "\n",
    "By changing the data types of numerical features from `float 64` to `float 16`, we successfully reduce the memory usage by almost a half. However, we are not able to know the most suitable data type for each column before changing it.\n",
    "\n",
    "There are 27 unique models in the data frame, and each of them has at least 550,000 instances. Additionally, the model has the highest number of examples is MPI-ESM1-2-HR, and the model with the lowest number of examples is CanESM5"
   ]
  },
  {
   "cell_type": "markdown",
   "id": "90e3bf91-64f1-4b61-be6b-57e115ffa714",
   "metadata": {},
   "source": [
    "### Load just columns what we want"
   ]
  },
  {
   "cell_type": "code",
   "execution_count": 16,
   "id": "13feb3e1-aa22-45ba-b7af-ecdc4dbab8ec",
   "metadata": {},
   "outputs": [
    {
     "name": "stdout",
     "output_type": "stream",
     "text": [
      "MPI-ESM1-2-HR       5154240\n",
      "CMCC-CM2-HR4        3541230\n",
      "CMCC-ESM2           3541230\n",
      "CMCC-CM2-SR5        3541230\n",
      "NorESM2-MM          3541230\n",
      "TaiESM1             3541230\n",
      "SAM0-UNICON         3541153\n",
      "GFDL-ESM4           3219300\n",
      "FGOALS-f3-L         3219300\n",
      "GFDL-CM4            3219300\n",
      "MRI-ESM2-0          3037320\n",
      "EC-Earth3-Veg-LR    3037320\n",
      "BCC-CSM2-MR         3035340\n",
      "MIROC6              2070900\n",
      "ACCESS-CM2          1932840\n",
      "ACCESS-ESM1-5       1610700\n",
      "INM-CM4-8           1609650\n",
      "INM-CM5-0           1609650\n",
      "FGOALS-g3           1287720\n",
      "KIOST-ESM           1287720\n",
      "AWI-ESM-1-1-LR       966420\n",
      "MPI-ESM1-2-LR        966420\n",
      "NESM3                966420\n",
      "MPI-ESM-1-2-HAM      966420\n",
      "NorESM2-LM           919800\n",
      "BCC-ESM1             551880\n",
      "CanESM5              551880\n",
      "Name: model, dtype: int64\n",
      "CPU times: user 30.9 s, sys: 2.14 s, total: 33 s\n",
      "Wall time: 33.1 s\n"
     ]
    }
   ],
   "source": [
    "%%time\n",
    "# Choose columns, which are needed\n",
    "use_cols = ['rain (mm/day)', 'model']\n",
    "df_2 = pd.read_csv(current_path + \"/combined_data.csv\", usecols=use_cols)\n",
    "print(df_2[\"model\"].value_counts())"
   ]
  },
  {
   "cell_type": "code",
   "execution_count": 17,
   "id": "ae0d60d3-9874-4551-b4d2-d42d345ec580",
   "metadata": {},
   "outputs": [
    {
     "name": "stdout",
     "output_type": "stream",
     "text": [
      "Original memory usage: 3498.20 MB\n",
      "Memory usage after loading selected columns: 999.49 MB\n"
     ]
    }
   ],
   "source": [
    "print(f\"Original memory usage: {df.memory_usage().sum() / 1e6:.2f} MB\")\n",
    "print(f\"Memory usage after loading selected columns: {df_2.memory_usage().sum() / 1e6:.2f} MB\")"
   ]
  },
  {
   "cell_type": "markdown",
   "id": "b149f2e1-7549-44ae-a297-94d708bc7307",
   "metadata": {},
   "source": [
    "**Observations:**\n",
    "\n",
    "As our main interest is the rainfall, so in order to speed up the process, we only load the needed columns. By reducing the number of columns, we are able to reduce the time to 34.5 sec, which is a big improvement on processing time. Also, the memory usage is way lower than the original data frame. However, we do not know which column would be unnecessary for future analysis. For example, if we would like to perform spatial visualization for rainfall, then latitude and longitude may be useful."
   ]
  },
  {
   "cell_type": "markdown",
   "id": "b810c79f-3e92-4d6e-82f5-cd30ac8d88e6",
   "metadata": {},
   "source": [
    "### Process data in chunks"
   ]
  },
  {
   "cell_type": "code",
   "execution_count": 18,
   "id": "8162ed02-182c-423f-bf13-b574935a37c0",
   "metadata": {},
   "outputs": [
    {
     "name": "stdout",
     "output_type": "stream",
     "text": [
      "ACCESS-CM2          1932840.0\n",
      "ACCESS-ESM1-5       1610700.0\n",
      "AWI-ESM-1-1-LR       966420.0\n",
      "BCC-CSM2-MR         3035340.0\n",
      "BCC-ESM1             551880.0\n",
      "CMCC-CM2-HR4        3541230.0\n",
      "CMCC-CM2-SR5        3541230.0\n",
      "CMCC-ESM2           3541230.0\n",
      "CanESM5              551880.0\n",
      "EC-Earth3-Veg-LR    3037320.0\n",
      "FGOALS-f3-L         3219300.0\n",
      "FGOALS-g3           1287720.0\n",
      "GFDL-CM4            3219300.0\n",
      "GFDL-ESM4           3219300.0\n",
      "INM-CM4-8           1609650.0\n",
      "INM-CM5-0           1609650.0\n",
      "KIOST-ESM           1287720.0\n",
      "MIROC6              2070900.0\n",
      "MPI-ESM-1-2-HAM      966420.0\n",
      "MPI-ESM1-2-HR       5154240.0\n",
      "MPI-ESM1-2-LR        966420.0\n",
      "MRI-ESM2-0          3037320.0\n",
      "NESM3                966420.0\n",
      "NorESM2-LM           919800.0\n",
      "NorESM2-MM          3541230.0\n",
      "SAM0-UNICON         3541153.0\n",
      "TaiESM1             3541230.0\n",
      "dtype: float64\n",
      "CPU times: user 55.6 s, sys: 7.45 s, total: 1min 3s\n",
      "Wall time: 1min 3s\n"
     ]
    }
   ],
   "source": [
    "%%time\n",
    "#process data in chunks\n",
    "df_3 = pd.Series(dtype=float)\n",
    "for chunk in pd.read_csv(current_path + \"/combined_data.csv\", chunksize=10_000_000):\n",
    "    df_3 = df_3.add(chunk[\"model\"].value_counts(), fill_value=0)\n",
    "print(df_3.astype(float))"
   ]
  },
  {
   "cell_type": "markdown",
   "id": "095c4d8c-8ec0-4f93-8514-60bf0b1bb726",
   "metadata": {},
   "source": [
    "**Observations:**\n",
    "\n",
    "By loading data in chunks with chunk size of 10 millions, we can reduce the loading time to 1min and 3s!"
   ]
  },
  {
   "cell_type": "markdown",
   "id": "universal-recipient",
   "metadata": {
    "id": "universal-recipient"
   },
   "source": [
    "### Perform a simple EDA in R"
   ]
  },
  {
   "cell_type": "code",
   "execution_count": 19,
   "id": "former-vocabulary",
   "metadata": {
    "id": "former-vocabulary"
   },
   "outputs": [
    {
     "ename": "NameError",
     "evalue": "name 'df_formatted' is not defined",
     "output_type": "error",
     "traceback": [
      "\u001b[0;31m---------------------------------------------------------------------------\u001b[0m",
      "\u001b[0;31mNameError\u001b[0m                                 Traceback (most recent call last)",
      "Input \u001b[0;32mIn [19]\u001b[0m, in \u001b[0;36m<cell line: 2>\u001b[0;34m()\u001b[0m\n\u001b[1;32m      1\u001b[0m \u001b[38;5;66;03m#See your summarized stats\u001b[39;00m\n\u001b[0;32m----> 2\u001b[0m \u001b[38;5;28mprint\u001b[39m(\u001b[38;5;124m'\u001b[39m\u001b[38;5;124mTotal views =\u001b[39m\u001b[38;5;124m'\u001b[39m, \u001b[43mdf_formatted\u001b[49m[\u001b[38;5;124m'\u001b[39m\u001b[38;5;124mviews\u001b[39m\u001b[38;5;124m'\u001b[39m]\u001b[38;5;241m.\u001b[39msum(),\u001b[38;5;124m'\u001b[39m\u001b[38;5;124mand total downloads=\u001b[39m\u001b[38;5;124m'\u001b[39m,df_formatted[\u001b[38;5;124m'\u001b[39m\u001b[38;5;124mdownloads\u001b[39m\u001b[38;5;124m'\u001b[39m]\u001b[38;5;241m.\u001b[39msum())\n",
      "\u001b[0;31mNameError\u001b[0m: name 'df_formatted' is not defined"
     ]
    }
   ],
   "source": [
    "#See your summarized stats\n",
    "print('Total views =', df_formatted['views'].sum(),'and total downloads=',df_formatted['downloads'].sum())\n"
   ]
  },
  {
   "cell_type": "markdown",
   "id": "generic-adoption",
   "metadata": {
    "id": "generic-adoption"
   },
   "source": [
    "## Compare performance"
   ]
  },
  {
   "cell_type": "markdown",
   "id": "ace017dd-e731-4dc1-96c1-c42c93e076a8",
   "metadata": {
    "id": "SA709mKthURp"
   },
   "source": [
    "#### Performance for Combining Data CSV\n",
    "\n",
    "| Team Member | Operating System | RAM | Processor | Is SSD | Time taken |\n",
    "|:-----------:|:----------------:|:---:|:---------:|:------:|:----------:|\n",
    "| Joyce Wang  |     Windows      |16GB | 11th Gen Intel(R) Core(TM) i7-1165G7 2.80GHz | yes| 9min 29s   |\n",
    "| Macy Chan   |              |     |        |        |            |\n",
    "| Steven Leung|          Mac           |  16GB   |     Apple M1      |    yes    |     7min 25s       |\n",
    "| Zack Tang   |   Mac         |   16GB  |       2.2 GHz 6-Core Intel Core i7    |    yes    |    7min 25s |      \n",
    "\n",
    "\n",
    "#### Performance for EDA in python (Changing data types)\n",
    "\n",
    "| Team Member | Operating System | RAM | Processor | Is SSD | Time taken |\n",
    "|:-----------:|:----------------:|:---:|:---------:|:------:|:----------:|\n",
    "| Joyce Wang  |                  |     |           |        |            |\n",
    "| Macy Chan   |                  |     |           |        |            |\n",
    "| Steven Leung|       Mac           |  16GB   |     Apple M1      |    yes    |     1min 2s       |\n",
    "| Zack Tang   |     Mac         |   16GB  |       2.2 GHz 6-Core Intel Core i7    |    yes    | 1min 2s |\n",
    "\n",
    "#### Performance for EDA in python (Loading what is needed)\n",
    "\n",
    "| Team Member | Operating System | RAM | Processor | Is SSD | Time taken |\n",
    "|:-----------:|:----------------:|:---:|:---------:|:------:|:----------:|\n",
    "| Joyce Wang  |                  |     |           |        |            |\n",
    "| Macy Chan   |                  |     |           |        |            |\n",
    "| Steven Leung|      Mac           |  16GB   |     Apple M1      |    yes    |     30.3s       |\n",
    "| Zack Tang   |     Mac         |   16GB  |       2.2 GHz 6-Core Intel Core i7    |    yes    | 30.9s |\n",
    "\n",
    "#### Performance for EDA in python (Loading data in chunks)\n",
    "\n",
    "| Team Member | Operating System | RAM | Processor | Is SSD | Time taken |\n",
    "|:-----------:|:----------------:|:---:|:---------:|:------:|:----------:|\n",
    "| Joyce Wang  |                  |     |           |        |            |\n",
    "| Macy Chan   |                  |     |           |        |            |\n",
    "| Steven Leung|      Mac           |  16GB   |     Apple M1      |    yes    |     52.3s       |\n",
    "| Zack Tang   |     Mac         |   16GB  |       2.2 GHz 6-Core Intel Core i7    |    yes    | 1min 3s |\n",
    "\n"
   ]
  },
  {
   "cell_type": "code",
   "execution_count": null,
   "id": "35669a13-ae16-4642-855c-3f8f96aecb85",
   "metadata": {},
   "outputs": [],
   "source": []
  }
 ],
 "metadata": {
  "colab": {
   "name": "ACCOUNT-ITEMS-COLLECTIONS.ipynb",
   "provenance": []
  },
  "kernelspec": {
   "display_name": "Python [conda env:525_2022]",
   "language": "python",
   "name": "conda-env-525_2022-py"
  },
  "language_info": {
   "codemirror_mode": {
    "name": "ipython",
    "version": 3
   },
   "file_extension": ".py",
   "mimetype": "text/x-python",
   "name": "python",
   "nbconvert_exporter": "python",
   "pygments_lexer": "ipython3",
   "version": "3.8.6"
  }
 },
 "nbformat": 4,
 "nbformat_minor": 5
}
