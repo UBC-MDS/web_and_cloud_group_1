{
 "cells": [
  {
   "cell_type": "markdown",
   "id": "thorough-dictionary",
   "metadata": {
    "id": "thorough-dictionary"
   },
   "source": [
    "## Milestone 1"
   ]
  },
  {
   "cell_type": "markdown",
   "id": "pressed-williams",
   "metadata": {
    "id": "pressed-williams"
   },
   "source": [
    "## Import libraries"
   ]
  },
  {
   "cell_type": "code",
   "execution_count": 1,
   "id": "92b661e6-8e3d-4e6e-9c6d-1affb1a00619",
   "metadata": {},
   "outputs": [],
   "source": [
    "%load_ext rpy2.ipython"
   ]
  },
  {
   "cell_type": "code",
   "execution_count": 2,
   "id": "f7e37a43",
   "metadata": {
    "id": "f7e37a43"
   },
   "outputs": [],
   "source": [
    "import re\n",
    "import os\n",
    "import glob\n",
    "import zipfile\n",
    "import requests\n",
    "from urllib.request import urlretrieve\n",
    "import json\n",
    "import pandas as pd"
   ]
  },
  {
   "cell_type": "markdown",
   "id": "genuine-blowing",
   "metadata": {
    "id": "genuine-blowing"
   },
   "source": [
    "## GET request to list the available files"
   ]
  },
  {
   "cell_type": "code",
   "execution_count": 3,
   "id": "mental-breast",
   "metadata": {
    "id": "mental-breast"
   },
   "outputs": [],
   "source": [
    "# Necessary metadata\n",
    "article_id = 14096681  # this is the unique identifier of the article on figshare\n",
    "url = f\"https://api.figshare.com/v2/articles/{article_id}\"\n",
    "headers = {\"Content-Type\": \"application/json\"}\n",
    "output_directory = \"figshare/\""
   ]
  },
  {
   "cell_type": "code",
   "execution_count": 4,
   "id": "hybrid-amendment",
   "metadata": {
    "id": "hybrid-amendment"
   },
   "outputs": [
    {
     "data": {
      "text/plain": [
       "[{'id': 26579150,\n",
       "  'name': 'daily_rainfall_2014.png',\n",
       "  'size': 58863,\n",
       "  'is_link_only': False,\n",
       "  'download_url': 'https://ndownloader.figshare.com/files/26579150',\n",
       "  'supplied_md5': 'fd32a2ffde300a31f8d63b1825d47e5e',\n",
       "  'computed_md5': 'fd32a2ffde300a31f8d63b1825d47e5e'},\n",
       " {'id': 26579171,\n",
       "  'name': 'environment.yml',\n",
       "  'size': 192,\n",
       "  'is_link_only': False,\n",
       "  'download_url': 'https://ndownloader.figshare.com/files/26579171',\n",
       "  'supplied_md5': '060b2020017eed93a1ee7dd8c65b2f34',\n",
       "  'computed_md5': '060b2020017eed93a1ee7dd8c65b2f34'},\n",
       " {'id': 26586554,\n",
       "  'name': 'README.md',\n",
       "  'size': 5422,\n",
       "  'is_link_only': False,\n",
       "  'download_url': 'https://ndownloader.figshare.com/files/26586554',\n",
       "  'supplied_md5': '61858c6cc0e6a6d6663a7e4c75bbd88c',\n",
       "  'computed_md5': '61858c6cc0e6a6d6663a7e4c75bbd88c'},\n",
       " {'id': 26766812,\n",
       "  'name': 'data.zip',\n",
       "  'size': 814041183,\n",
       "  'is_link_only': False,\n",
       "  'download_url': 'https://ndownloader.figshare.com/files/26766812',\n",
       "  'supplied_md5': 'b517383f76e77bd03755a63a8ff83ee9',\n",
       "  'computed_md5': 'b517383f76e77bd03755a63a8ff83ee9'},\n",
       " {'id': 26766815,\n",
       "  'name': 'get_data.py',\n",
       "  'size': 4113,\n",
       "  'is_link_only': False,\n",
       "  'download_url': 'https://ndownloader.figshare.com/files/26766815',\n",
       "  'supplied_md5': '7829028495fd9dec9680ea013474afa6',\n",
       "  'computed_md5': '7829028495fd9dec9680ea013474afa6'}]"
      ]
     },
     "execution_count": 4,
     "metadata": {},
     "output_type": "execute_result"
    }
   ],
   "source": [
    "response = requests.request(\"GET\", url, headers=headers)\n",
    "data = json.loads(response.text)  # this contains all the articles data, feel free to check it out\n",
    "files = data[\"files\"]             # this is just the data about the files, which is what we want\n",
    "files"
   ]
  },
  {
   "cell_type": "code",
   "execution_count": 5,
   "id": "5a907119-a733-4cf1-956d-ecd82506252a",
   "metadata": {},
   "outputs": [
    {
     "name": "stdout",
     "output_type": "stream",
     "text": [
      "CPU times: user 4.4 s, sys: 4.04 s, total: 8.44 s\n",
      "Wall time: 54.7 s\n"
     ]
    }
   ],
   "source": [
    "%%time\n",
    "files_to_dl = [\"data.zip\"]  # feel free to add other files here\n",
    "for file in files:\n",
    "    if file[\"name\"] in files_to_dl:\n",
    "        os.makedirs(output_directory, exist_ok=True)\n",
    "        urlretrieve(file[\"download_url\"], output_directory + file[\"name\"])"
   ]
  },
  {
   "cell_type": "code",
   "execution_count": 6,
   "id": "ab8f7b4d-882a-4a4b-97ee-666162eff1a4",
   "metadata": {},
   "outputs": [
    {
     "name": "stdout",
     "output_type": "stream",
     "text": [
      "CPU times: user 14.2 s, sys: 967 ms, total: 15.2 s\n",
      "Wall time: 15.8 s\n"
     ]
    }
   ],
   "source": [
    "%%time\n",
    "with zipfile.ZipFile(os.path.join(output_directory, \"data.zip\"), 'r') as f:\n",
    "    f.extractall(output_directory)"
   ]
  },
  {
   "cell_type": "code",
   "execution_count": 7,
   "id": "16f2b24b-9e72-4a7e-944e-59381a985e11",
   "metadata": {},
   "outputs": [
    {
     "name": "stdout",
     "output_type": "stream",
     "text": [
      "total 13811464\n",
      "drwxr-xr-x  30 stevenprivate  staff        960 29 Mar 19:09 \u001b[1m\u001b[34m__MACOSX\u001b[m\u001b[m/\n",
      "-rw-r--r--   1 stevenprivate  staff  707986522 30 Mar 09:16 combined_data_2.feather\n",
      "-rw-r--r--   1 stevenprivate  staff  814041183 30 Mar 10:18 data.zip\n",
      "-rw-r--r--   1 stevenprivate  staff   95376895 30 Mar 10:18 MPI-ESM-1-2-HAM_daily_rainfall_NSW.csv\n",
      "-rw-r--r--   1 stevenprivate  staff   94960113 30 Mar 10:18 AWI-ESM-1-1-LR_daily_rainfall_NSW.csv\n",
      "-rw-r--r--   1 stevenprivate  staff   82474546 30 Mar 10:18 NorESM2-LM_daily_rainfall_NSW.csv\n",
      "-rw-r--r--   1 stevenprivate  staff  127613760 30 Mar 10:18 ACCESS-CM2_daily_rainfall_NSW.csv\n",
      "-rw-r--r--   1 stevenprivate  staff  232118894 30 Mar 10:18 FGOALS-f3-L_daily_rainfall_NSW.csv\n",
      "-rw-r--r--   1 stevenprivate  staff  330360682 30 Mar 10:18 CMCC-CM2-HR4_daily_rainfall_NSW.csv\n",
      "-rw-r--r--   1 stevenprivate  staff  254009247 30 Mar 10:18 MRI-ESM2-0_daily_rainfall_NSW.csv\n",
      "-rw-r--r--   1 stevenprivate  staff  235661418 30 Mar 10:18 GFDL-CM4_daily_rainfall_NSW.csv\n",
      "-rw-r--r--   1 stevenprivate  staff  294260911 30 Mar 10:18 BCC-CSM2-MR_daily_rainfall_NSW.csv\n",
      "-rw-r--r--   1 stevenprivate  staff  295768615 30 Mar 10:18 EC-Earth3-Veg-LR_daily_rainfall_NSW.csv\n",
      "-rw-r--r--   1 stevenprivate  staff  328852379 30 Mar 10:18 CMCC-ESM2_daily_rainfall_NSW.csv\n",
      "-rw-r--r--   1 stevenprivate  staff   67784105 30 Mar 10:18 NESM3_daily_rainfall_NSW.csv\n",
      "-rw-r--r--   1 stevenprivate  staff   95640682 30 Mar 10:18 MPI-ESM1-2-LR_daily_rainfall_NSW.csv\n",
      "-rw-r--r--   1 stevenprivate  staff  114707410 30 Mar 10:18 ACCESS-ESM1-5_daily_rainfall_NSW.csv\n",
      "-rw-r--r--   1 stevenprivate  staff  116179272 30 Mar 10:18 FGOALS-g3_daily_rainfall_NSW.csv\n",
      "-rw-r--r--   1 stevenprivate  staff  102517965 30 Mar 10:18 INM-CM4-8_daily_rainfall_NSW.csv\n",
      "-rw-r--r--   1 stevenprivate  staff  515458033 30 Mar 10:18 MPI-ESM1-2-HR_daily_rainfall_NSW.csv\n",
      "-rw-r--r--   1 stevenprivate  staff  332813281 30 Mar 10:18 TaiESM1_daily_rainfall_NSW.csv\n",
      "-rw-r--r--   1 stevenprivate  staff  337555851 30 Mar 10:18 NorESM2-MM_daily_rainfall_NSW.csv\n",
      "-rw-r--r--   1 stevenprivate  staff  328787320 30 Mar 10:18 CMCC-CM2-SR5_daily_rainfall_NSW.csv\n",
      "-rw-r--r--   1 stevenprivate  staff     952202 30 Mar 10:18 observed_daily_rainfall_SYD.csv\n",
      "-rw-r--r--   1 stevenprivate  staff   93829697 30 Mar 10:18 KIOST-ESM_daily_rainfall_NSW.csv\n",
      "-rw-r--r--   1 stevenprivate  staff  102692289 30 Mar 10:18 INM-CM5-0_daily_rainfall_NSW.csv\n",
      "-rw-r--r--   1 stevenprivate  staff  206822938 30 Mar 10:18 MIROC6_daily_rainfall_NSW.csv\n",
      "-rw-r--r--   1 stevenprivate  staff   55224437 30 Mar 10:18 BCC-ESM1_daily_rainfall_NSW.csv\n",
      "-rw-r--r--   1 stevenprivate  staff  124586961 30 Mar 10:18 GFDL-ESM4_daily_rainfall_NSW.csv\n",
      "-rw-r--r--   1 stevenprivate  staff   46286371 30 Mar 10:18 CanESM5_daily_rainfall_NSW.csv\n",
      "-rw-r--r--   1 stevenprivate  staff  333489879 30 Mar 10:18 SAM0-UNICON_daily_rainfall_NSW.csv\n"
     ]
    }
   ],
   "source": [
    "current_path = %pwd\n",
    "data_path =  current_path + \"/figshare\"\n",
    "%ls -ltr $data_path"
   ]
  },
  {
   "cell_type": "markdown",
   "id": "involved-official",
   "metadata": {
    "id": "involved-official"
   },
   "source": [
    "## Combining data CSVs\n",
    "\n"
   ]
  },
  {
   "cell_type": "code",
   "execution_count": 8,
   "id": "16746165-4c65-4719-91d5-37ccf1e97f4f",
   "metadata": {},
   "outputs": [
    {
     "name": "stdout",
     "output_type": "stream",
     "text": [
      "CPU times: user 6min 36s, sys: 9.1 s, total: 6min 45s\n",
      "Wall time: 6min 49s\n"
     ]
    }
   ],
   "source": [
    "%%time\n",
    "files_to_combine = glob.glob(data_path + \"/*.csv\")\n",
    "files_to_combine.remove(data_path + \"/observed_daily_rainfall_SYD.csv\")\n",
    "df = pd.concat(\n",
    "    (pd.read_csv(file, index_col=0, parse_dates=True)\n",
    "                .assign(model=re.findall(r'[^\\/&\\\\]+(?=_daily_rainfall_NSW\\.)', file)[0])\n",
    "                for file in files_to_combine)\n",
    "    )\n",
    "df.to_csv(current_path + \"/combined_data.csv\")"
   ]
  },
  {
   "cell_type": "code",
   "execution_count": 9,
   "id": "5e8c84fd-f8ed-427f-9b65-fd96a2cbebf4",
   "metadata": {},
   "outputs": [
    {
     "name": "stdout",
     "output_type": "stream",
     "text": [
      "(62467843, 6)\n"
     ]
    }
   ],
   "source": [
    "print(df.shape)"
   ]
  },
  {
   "cell_type": "code",
   "execution_count": 10,
   "id": "5ce86357-ecc2-4328-a84d-ae6324679c65",
   "metadata": {},
   "outputs": [
    {
     "data": {
      "text/html": [
       "<div>\n",
       "<style scoped>\n",
       "    .dataframe tbody tr th:only-of-type {\n",
       "        vertical-align: middle;\n",
       "    }\n",
       "\n",
       "    .dataframe tbody tr th {\n",
       "        vertical-align: top;\n",
       "    }\n",
       "\n",
       "    .dataframe thead th {\n",
       "        text-align: right;\n",
       "    }\n",
       "</style>\n",
       "<table border=\"1\" class=\"dataframe\">\n",
       "  <thead>\n",
       "    <tr style=\"text-align: right;\">\n",
       "      <th></th>\n",
       "      <th>lat_min</th>\n",
       "      <th>lat_max</th>\n",
       "      <th>lon_min</th>\n",
       "      <th>lon_max</th>\n",
       "      <th>rain (mm/day)</th>\n",
       "      <th>model</th>\n",
       "    </tr>\n",
       "    <tr>\n",
       "      <th>time</th>\n",
       "      <th></th>\n",
       "      <th></th>\n",
       "      <th></th>\n",
       "      <th></th>\n",
       "      <th></th>\n",
       "      <th></th>\n",
       "    </tr>\n",
       "  </thead>\n",
       "  <tbody>\n",
       "    <tr>\n",
       "      <th>1889-01-01 12:00:00</th>\n",
       "      <td>-35.439867</td>\n",
       "      <td>-33.574619</td>\n",
       "      <td>141.5625</td>\n",
       "      <td>143.4375</td>\n",
       "      <td>4.244226e-13</td>\n",
       "      <td>MPI-ESM-1-2-HAM</td>\n",
       "    </tr>\n",
       "    <tr>\n",
       "      <th>1889-01-02 12:00:00</th>\n",
       "      <td>-35.439867</td>\n",
       "      <td>-33.574619</td>\n",
       "      <td>141.5625</td>\n",
       "      <td>143.4375</td>\n",
       "      <td>4.217326e-13</td>\n",
       "      <td>MPI-ESM-1-2-HAM</td>\n",
       "    </tr>\n",
       "    <tr>\n",
       "      <th>1889-01-03 12:00:00</th>\n",
       "      <td>-35.439867</td>\n",
       "      <td>-33.574619</td>\n",
       "      <td>141.5625</td>\n",
       "      <td>143.4375</td>\n",
       "      <td>4.498125e-13</td>\n",
       "      <td>MPI-ESM-1-2-HAM</td>\n",
       "    </tr>\n",
       "    <tr>\n",
       "      <th>1889-01-04 12:00:00</th>\n",
       "      <td>-35.439867</td>\n",
       "      <td>-33.574619</td>\n",
       "      <td>141.5625</td>\n",
       "      <td>143.4375</td>\n",
       "      <td>4.251282e-13</td>\n",
       "      <td>MPI-ESM-1-2-HAM</td>\n",
       "    </tr>\n",
       "    <tr>\n",
       "      <th>1889-01-05 12:00:00</th>\n",
       "      <td>-35.439867</td>\n",
       "      <td>-33.574619</td>\n",
       "      <td>141.5625</td>\n",
       "      <td>143.4375</td>\n",
       "      <td>4.270161e-13</td>\n",
       "      <td>MPI-ESM-1-2-HAM</td>\n",
       "    </tr>\n",
       "  </tbody>\n",
       "</table>\n",
       "</div>"
      ],
      "text/plain": [
       "                       lat_min    lat_max   lon_min   lon_max  rain (mm/day)  \\\n",
       "time                                                                           \n",
       "1889-01-01 12:00:00 -35.439867 -33.574619  141.5625  143.4375   4.244226e-13   \n",
       "1889-01-02 12:00:00 -35.439867 -33.574619  141.5625  143.4375   4.217326e-13   \n",
       "1889-01-03 12:00:00 -35.439867 -33.574619  141.5625  143.4375   4.498125e-13   \n",
       "1889-01-04 12:00:00 -35.439867 -33.574619  141.5625  143.4375   4.251282e-13   \n",
       "1889-01-05 12:00:00 -35.439867 -33.574619  141.5625  143.4375   4.270161e-13   \n",
       "\n",
       "                               model  \n",
       "time                                  \n",
       "1889-01-01 12:00:00  MPI-ESM-1-2-HAM  \n",
       "1889-01-02 12:00:00  MPI-ESM-1-2-HAM  \n",
       "1889-01-03 12:00:00  MPI-ESM-1-2-HAM  \n",
       "1889-01-04 12:00:00  MPI-ESM-1-2-HAM  \n",
       "1889-01-05 12:00:00  MPI-ESM-1-2-HAM  "
      ]
     },
     "execution_count": 10,
     "metadata": {},
     "output_type": "execute_result"
    }
   ],
   "source": [
    "df.head()"
   ]
  },
  {
   "cell_type": "markdown",
   "id": "premium-binary",
   "metadata": {
    "id": "premium-binary"
   },
   "source": [
    "## Load the combined CSV to memory and perform a simple EDA"
   ]
  },
  {
   "cell_type": "code",
   "execution_count": 11,
   "id": "8ae98b64-3228-40e3-9cac-fc36425c3e3a",
   "metadata": {},
   "outputs": [
    {
     "data": {
      "text/plain": [
       "(62467843, 6)"
      ]
     },
     "execution_count": 11,
     "metadata": {},
     "output_type": "execute_result"
    }
   ],
   "source": [
    "df.shape"
   ]
  },
  {
   "cell_type": "markdown",
   "id": "5a3d3568-a85f-472a-a9db-a2c1b6169a96",
   "metadata": {},
   "source": [
    "**Observations:**\n",
    "\n",
    "This is a relatively large dataset with 62,467,843 instances and 6 features. So, running the whole data set for data wrangling and analysis may be time-consuming. "
   ]
  },
  {
   "cell_type": "code",
   "execution_count": 12,
   "id": "e3fae57f-2f8d-423e-8724-8b369fdef568",
   "metadata": {},
   "outputs": [
    {
     "data": {
      "text/plain": [
       "lat_min          float64\n",
       "lat_max          float64\n",
       "lon_min          float64\n",
       "lon_max          float64\n",
       "rain (mm/day)    float64\n",
       "model             object\n",
       "dtype: object"
      ]
     },
     "execution_count": 12,
     "metadata": {},
     "output_type": "execute_result"
    }
   ],
   "source": [
    "df.dtypes"
   ]
  },
  {
   "cell_type": "markdown",
   "id": "0ab45278-ba52-423b-9d3f-d64725bc3f4c",
   "metadata": {},
   "source": [
    "**Observations:**\n",
    "\n",
    "As the memory usage is quite large (around 3.7+ GB), running `df.info()` would not be an efficient way to extract data type information. Instead, we used `df.dtypes`, which gives desired information with minimal time. \n",
    "\n",
    "As we can observe from the result, there are five numerical features (\"lat_min\", \"lat_max\", \"lon_min\", \"lon_max\", \"rain (mm/day)\") and one categorical feature (\"model\"). And all numerical features is the data type of `float 64`, which consumes a lot of memory; therefore, we may think about changing data types to decrease the memory usage. "
   ]
  },
  {
   "cell_type": "markdown",
   "id": "204f435b-b639-4e7a-a0a7-6ef72d792dc7",
   "metadata": {},
   "source": [
    "### Change data types of numerical features"
   ]
  },
  {
   "cell_type": "code",
   "execution_count": 13,
   "id": "3e2f1166-94d2-4117-9ee2-12d1011abb7b",
   "metadata": {},
   "outputs": [
    {
     "name": "stdout",
     "output_type": "stream",
     "text": [
      "MPI-ESM1-2-HR       5154240\n",
      "CMCC-CM2-HR4        3541230\n",
      "CMCC-ESM2           3541230\n",
      "CMCC-CM2-SR5        3541230\n",
      "NorESM2-MM          3541230\n",
      "TaiESM1             3541230\n",
      "SAM0-UNICON         3541153\n",
      "GFDL-ESM4           3219300\n",
      "FGOALS-f3-L         3219300\n",
      "GFDL-CM4            3219300\n",
      "MRI-ESM2-0          3037320\n",
      "EC-Earth3-Veg-LR    3037320\n",
      "BCC-CSM2-MR         3035340\n",
      "MIROC6              2070900\n",
      "ACCESS-CM2          1932840\n",
      "ACCESS-ESM1-5       1610700\n",
      "INM-CM4-8           1609650\n",
      "INM-CM5-0           1609650\n",
      "FGOALS-g3           1287720\n",
      "KIOST-ESM           1287720\n",
      "AWI-ESM-1-1-LR       966420\n",
      "MPI-ESM1-2-LR        966420\n",
      "NESM3                966420\n",
      "MPI-ESM-1-2-HAM      966420\n",
      "NorESM2-LM           919800\n",
      "BCC-ESM1             551880\n",
      "CanESM5              551880\n",
      "Name: model, dtype: int64\n",
      "CPU times: user 54.1 s, sys: 4.98 s, total: 59.1 s\n",
      "Wall time: 1min 1s\n"
     ]
    }
   ],
   "source": [
    "%%time\n",
    "# Change data types of numerical features\n",
    "data_types = {'lat_min': 'float16', \n",
    "          'lat_max': 'float16', \n",
    "          'lon_min': 'float16', \n",
    "          'lon_max': 'float16',\n",
    "          'rain (mm/day)':'float16',\n",
    "          'model':'str'}\n",
    "df_1 = pd.read_csv(current_path + \"/combined_data.csv\", index_col=0, parse_dates=True, dtype=data_types)\n",
    "print(df_1[\"model\"].value_counts())"
   ]
  },
  {
   "cell_type": "code",
   "execution_count": 14,
   "id": "09e3a4a7-cb7b-4a2c-9916-9bff9eb6af3a",
   "metadata": {},
   "outputs": [
    {
     "data": {
      "text/plain": [
       "lat_min          float16\n",
       "lat_max          float16\n",
       "lon_min          float16\n",
       "lon_max          float16\n",
       "rain (mm/day)    float16\n",
       "model             object\n",
       "dtype: object"
      ]
     },
     "execution_count": 14,
     "metadata": {},
     "output_type": "execute_result"
    }
   ],
   "source": [
    "df_1.dtypes"
   ]
  },
  {
   "cell_type": "code",
   "execution_count": 15,
   "id": "62f30942-c29f-47d8-924a-506b4e60a086",
   "metadata": {},
   "outputs": [
    {
     "data": {
      "text/plain": [
       "27"
      ]
     },
     "execution_count": 15,
     "metadata": {},
     "output_type": "execute_result"
    }
   ],
   "source": [
    "len(df_1[\"model\"].unique())"
   ]
  },
  {
   "cell_type": "code",
   "execution_count": 16,
   "id": "8fefa7a7-c46a-4092-a2cc-b95bf215f9c7",
   "metadata": {},
   "outputs": [
    {
     "name": "stdout",
     "output_type": "stream",
     "text": [
      "Memory usage with float64: 3498.20 MB\n",
      "Memory usage with float16: 1624.16 MB\n"
     ]
    }
   ],
   "source": [
    "print(f\"Memory usage with float64: {df.memory_usage().sum() / 1e6:.2f} MB\")\n",
    "print(f\"Memory usage with float16: {df_1.memory_usage().sum() / 1e6:.2f} MB\")"
   ]
  },
  {
   "cell_type": "markdown",
   "id": "89a189b5-b330-4dfe-b61c-9b3312141433",
   "metadata": {},
   "source": [
    "**Observations:**\n",
    "\n",
    "By changing the data types of numerical features from `float 64` to `float 16`, we successfully reduce the memory usage by almost a half. However, we are not able to know the most suitable data type for each column before changing it.\n",
    "\n",
    "There are 27 unique models in the data frame, and each of them has at least 550,000 instances. Additionally, the model has the highest number of examples is MPI-ESM1-2-HR, and the model with the lowest number of examples is CanESM5"
   ]
  },
  {
   "cell_type": "markdown",
   "id": "90e3bf91-64f1-4b61-be6b-57e115ffa714",
   "metadata": {},
   "source": [
    "### Load just the columns we want"
   ]
  },
  {
   "cell_type": "code",
   "execution_count": 17,
   "id": "13feb3e1-aa22-45ba-b7af-ecdc4dbab8ec",
   "metadata": {},
   "outputs": [
    {
     "name": "stdout",
     "output_type": "stream",
     "text": [
      "MPI-ESM1-2-HR       5154240\n",
      "CMCC-CM2-HR4        3541230\n",
      "CMCC-ESM2           3541230\n",
      "CMCC-CM2-SR5        3541230\n",
      "NorESM2-MM          3541230\n",
      "TaiESM1             3541230\n",
      "SAM0-UNICON         3541153\n",
      "GFDL-ESM4           3219300\n",
      "FGOALS-f3-L         3219300\n",
      "GFDL-CM4            3219300\n",
      "MRI-ESM2-0          3037320\n",
      "EC-Earth3-Veg-LR    3037320\n",
      "BCC-CSM2-MR         3035340\n",
      "MIROC6              2070900\n",
      "ACCESS-CM2          1932840\n",
      "ACCESS-ESM1-5       1610700\n",
      "INM-CM4-8           1609650\n",
      "INM-CM5-0           1609650\n",
      "FGOALS-g3           1287720\n",
      "KIOST-ESM           1287720\n",
      "AWI-ESM-1-1-LR       966420\n",
      "MPI-ESM1-2-LR        966420\n",
      "NESM3                966420\n",
      "MPI-ESM-1-2-HAM      966420\n",
      "NorESM2-LM           919800\n",
      "BCC-ESM1             551880\n",
      "CanESM5              551880\n",
      "Name: model, dtype: int64\n",
      "CPU times: user 29.1 s, sys: 1.83 s, total: 30.9 s\n",
      "Wall time: 31.6 s\n"
     ]
    }
   ],
   "source": [
    "%%time\n",
    "# Choose columns, which are needed\n",
    "use_cols = ['rain (mm/day)', 'model']\n",
    "df_2 = pd.read_csv(current_path + \"/combined_data.csv\", usecols=use_cols)\n",
    "print(df_2[\"model\"].value_counts())"
   ]
  },
  {
   "cell_type": "code",
   "execution_count": 18,
   "id": "ae0d60d3-9874-4551-b4d2-d42d345ec580",
   "metadata": {},
   "outputs": [
    {
     "name": "stdout",
     "output_type": "stream",
     "text": [
      "Original memory usage: 3498.20 MB\n",
      "Memory usage after loading selected columns: 999.49 MB\n"
     ]
    }
   ],
   "source": [
    "print(f\"Original memory usage: {df.memory_usage().sum() / 1e6:.2f} MB\")\n",
    "print(f\"Memory usage after loading selected columns: {df_2.memory_usage().sum() / 1e6:.2f} MB\")"
   ]
  },
  {
   "cell_type": "markdown",
   "id": "b149f2e1-7549-44ae-a297-94d708bc7307",
   "metadata": {},
   "source": [
    "**Observations:**\n",
    "\n",
    "As our main interest is the rainfall, so in order to speed up the process, we only load the needed columns. By reducing the number of columns, we are able to reduce the time to 34.5 sec, which is a big improvement on processing time. Also, the memory usage is way lower than the original data frame. However, we do not know which column would be unnecessary for future analysis. For example, if we would like to perform spatial visualization for rainfall, then latitude and longitude may be useful."
   ]
  },
  {
   "cell_type": "markdown",
   "id": "b810c79f-3e92-4d6e-82f5-cd30ac8d88e6",
   "metadata": {},
   "source": [
    "### Process data in chunks"
   ]
  },
  {
   "cell_type": "code",
   "execution_count": 19,
   "id": "8162ed02-182c-423f-bf13-b574935a37c0",
   "metadata": {},
   "outputs": [
    {
     "name": "stdout",
     "output_type": "stream",
     "text": [
      "ACCESS-CM2          1932840.0\n",
      "ACCESS-ESM1-5       1610700.0\n",
      "AWI-ESM-1-1-LR       966420.0\n",
      "BCC-CSM2-MR         3035340.0\n",
      "BCC-ESM1             551880.0\n",
      "CMCC-CM2-HR4        3541230.0\n",
      "CMCC-CM2-SR5        3541230.0\n",
      "CMCC-ESM2           3541230.0\n",
      "CanESM5              551880.0\n",
      "EC-Earth3-Veg-LR    3037320.0\n",
      "FGOALS-f3-L         3219300.0\n",
      "FGOALS-g3           1287720.0\n",
      "GFDL-CM4            3219300.0\n",
      "GFDL-ESM4           3219300.0\n",
      "INM-CM4-8           1609650.0\n",
      "INM-CM5-0           1609650.0\n",
      "KIOST-ESM           1287720.0\n",
      "MIROC6              2070900.0\n",
      "MPI-ESM-1-2-HAM      966420.0\n",
      "MPI-ESM1-2-HR       5154240.0\n",
      "MPI-ESM1-2-LR        966420.0\n",
      "MRI-ESM2-0          3037320.0\n",
      "NESM3                966420.0\n",
      "NorESM2-LM           919800.0\n",
      "NorESM2-MM          3541230.0\n",
      "SAM0-UNICON         3541153.0\n",
      "TaiESM1             3541230.0\n",
      "dtype: float64\n",
      "CPU times: user 45.5 s, sys: 4.49 s, total: 50 s\n",
      "Wall time: 51 s\n"
     ]
    }
   ],
   "source": [
    "%%time\n",
    "#process data in chunks\n",
    "df_3 = pd.Series(dtype=float)\n",
    "for chunk in pd.read_csv(current_path + \"/combined_data.csv\", chunksize=10_000_000):\n",
    "    df_3 = df_3.add(chunk[\"model\"].value_counts(), fill_value=0)\n",
    "print(df_3.astype(float))"
   ]
  },
  {
   "cell_type": "markdown",
   "id": "095c4d8c-8ec0-4f93-8514-60bf0b1bb726",
   "metadata": {},
   "source": [
    "**Observations:**\n",
    "\n",
    "By loading data in chunks with chunk size of 10 millions, we can reduce the loading time to 1min and 3s!"
   ]
  },
  {
   "cell_type": "markdown",
   "id": "universal-recipient",
   "metadata": {
    "id": "universal-recipient"
   },
   "source": [
    "### Perform a simple EDA in R"
   ]
  },
  {
   "cell_type": "code",
   "execution_count": 20,
   "id": "16296ae0-92ac-4436-8b0e-40ae41472543",
   "metadata": {},
   "outputs": [
    {
     "name": "stdout",
     "output_type": "stream",
     "text": [
      "The rpy2.ipython extension is already loaded. To reload it, use:\n",
      "  %reload_ext rpy2.ipython\n"
     ]
    }
   ],
   "source": [
    "%load_ext rpy2.ipython"
   ]
  },
  {
   "cell_type": "code",
   "execution_count": 21,
   "id": "5b274291-6bb2-4cc0-b273-1f8790179206",
   "metadata": {},
   "outputs": [
    {
     "name": "stderr",
     "output_type": "stream",
     "text": [
      "R[write to console]: \n",
      "Attaching package: ‘arrow’\n",
      "\n",
      "\n",
      "R[write to console]: The following object is masked from ‘package:utils’:\n",
      "\n",
      "    timestamp\n",
      "\n",
      "\n"
     ]
    }
   ],
   "source": [
    "%%R\n",
    "#library(feather)\n",
    "library(arrow)\n",
    "library(dplyr, warn.conflicts = FALSE)"
   ]
  },
  {
   "cell_type": "markdown",
   "id": "c498f735-8c17-4885-81f4-652a69bcf0ab",
   "metadata": {},
   "source": [
    "#### Process data in chunks (`df_3`)\n",
    "\n",
    "Since the Pandas Series is fairly small, it can easily be done with Pandas Exchange, aka IPython magic integration."
   ]
  },
  {
   "cell_type": "code",
   "execution_count": 22,
   "id": "0aa03fe6-317e-4ba4-bd9a-c42fb01f97e3",
   "metadata": {},
   "outputs": [
    {
     "name": "stdout",
     "output_type": "stream",
     "text": [
      "Memory usage of df_3: 0.43 KB\n"
     ]
    }
   ],
   "source": [
    "print(f\"Memory usage of df_3: {df_3.memory_usage() / 1e3:.2f} KB\")"
   ]
  },
  {
   "cell_type": "code",
   "execution_count": 23,
   "id": "former-vocabulary",
   "metadata": {
    "id": "former-vocabulary"
   },
   "outputs": [
    {
     "name": "stdout",
     "output_type": "stream",
     "text": [
      "      ACCESS-CM2    ACCESS-ESM1-5   AWI-ESM-1-1-LR      BCC-CSM2-MR \n",
      "         1932840          1610700           966420          3035340 \n",
      "        BCC-ESM1     CMCC-CM2-HR4     CMCC-CM2-SR5        CMCC-ESM2 \n",
      "          551880          3541230          3541230          3541230 \n",
      "         CanESM5 EC-Earth3-Veg-LR      FGOALS-f3-L        FGOALS-g3 \n",
      "          551880          3037320          3219300          1287720 \n",
      "        GFDL-CM4        GFDL-ESM4        INM-CM4-8        INM-CM5-0 \n",
      "         3219300          3219300          1609650          1609650 \n",
      "       KIOST-ESM           MIROC6  MPI-ESM-1-2-HAM    MPI-ESM1-2-HR \n",
      "         1287720          2070900           966420          5154240 \n",
      "   MPI-ESM1-2-LR       MRI-ESM2-0            NESM3       NorESM2-LM \n",
      "          966420          3037320           966420           919800 \n",
      "      NorESM2-MM      SAM0-UNICON          TaiESM1 \n",
      "         3541230          3541153          3541230 \n",
      "CPU times: user 16.9 ms, sys: 6.72 ms, total: 23.6 ms\n",
      "Wall time: 22.9 ms\n"
     ]
    }
   ],
   "source": [
    "%%time\n",
    "%%R -i df_3\n",
    "df_3"
   ]
  },
  {
   "cell_type": "markdown",
   "id": "67345300-0dbb-4b60-80d9-f2e76aa005cf",
   "metadata": {},
   "source": [
    "#### Load just the columns we want (`df_2`)\n",
    "\n",
    "`df_2` is close to 1GB, which is already too large for Pandas Exchange to handle.  But currently this is the only possible way.  `arrow` package in R is not working correctly with `parquet` or `feather` files."
   ]
  },
  {
   "cell_type": "code",
   "execution_count": 24,
   "id": "41be0088-3aea-4d19-aa44-b4baa0874219",
   "metadata": {},
   "outputs": [
    {
     "name": "stdout",
     "output_type": "stream",
     "text": [
      "  rain (mm/day)           model\n",
      "0  4.244226e-13 MPI-ESM-1-2-HAM\n",
      "1  4.217326e-13 MPI-ESM-1-2-HAM\n",
      "2  4.498125e-13 MPI-ESM-1-2-HAM\n",
      "3  4.251282e-13 MPI-ESM-1-2-HAM\n",
      "4  4.270161e-13 MPI-ESM-1-2-HAM\n",
      "5  4.197289e-13 MPI-ESM-1-2-HAM\n",
      "CPU times: user 11min 43s, sys: 51.6 s, total: 12min 34s\n",
      "Wall time: 13min 6s\n"
     ]
    }
   ],
   "source": [
    "%%time\n",
    "%%R -i df_2\n",
    "head(df_2) "
   ]
  },
  {
   "cell_type": "markdown",
   "id": "9693ea43-3081-494c-ae35-66c2a9d24bad",
   "metadata": {},
   "source": [
    "It takes a long time for Pandas Exchange to pass the `df_2` to R.  The following is the output from running the above cell one time:\n",
    "\n",
    "```r\n",
    "  rain (mm/day)           model\n",
    "0  4.244226e-13 MPI-ESM-1-2-HAM\n",
    "1  4.217326e-13 MPI-ESM-1-2-HAM\n",
    "2  4.498125e-13 MPI-ESM-1-2-HAM\n",
    "3  4.251282e-13 MPI-ESM-1-2-HAM\n",
    "4  4.270161e-13 MPI-ESM-1-2-HAM\n",
    "5  4.197289e-13 MPI-ESM-1-2-HAM\n",
    "CPU times: user 12min 15s, sys: 1min 18s, total: 13min 33s\n",
    "Wall time: 14min 27s\n",
    "```"
   ]
  },
  {
   "cell_type": "code",
   "execution_count": 25,
   "id": "0411f474-91be-4863-8a9d-9361d903f991",
   "metadata": {},
   "outputs": [],
   "source": [
    "# %%R\n",
    "# object.size(df_2)"
   ]
  },
  {
   "cell_type": "markdown",
   "id": "718d2ce9-96a5-41af-9133-e4f613e1909a",
   "metadata": {},
   "source": [
    "### Simple EDA in R"
   ]
  },
  {
   "cell_type": "code",
   "execution_count": 26,
   "id": "5b8765f3-f0c6-4b9a-9e2f-4d72cc9fa48e",
   "metadata": {},
   "outputs": [
    {
     "name": "stdout",
     "output_type": "stream",
     "text": [
      "Rows: 62,467,843\n",
      "Columns: 2\n",
      "$ `rain (mm/day)` <dbl> 4.244226e-13, 4.217326e-13, 4.498125e-13, 4.251282e-13…\n",
      "$ model           <chr> \"MPI-ESM-1-2-HAM\", \"MPI-ESM-1-2-HAM\", \"MPI-ESM-1-2-HAM…\n",
      "CPU times: user 18.3 ms, sys: 34.5 ms, total: 52.9 ms\n",
      "Wall time: 155 ms\n"
     ]
    }
   ],
   "source": [
    "%%time\n",
    "%%R\n",
    "glimpse(df_2)"
   ]
  },
  {
   "cell_type": "markdown",
   "id": "1f18ac8a-b2a0-4a39-8c4b-dba64ec4dc96",
   "metadata": {},
   "source": [
    "The number of rows and columns as well as the data types of the 2 columns are shown above."
   ]
  },
  {
   "cell_type": "code",
   "execution_count": 27,
   "id": "1d6f434a-9b5a-4c13-9d97-a92676bb683f",
   "metadata": {},
   "outputs": [
    {
     "name": "stdout",
     "output_type": "stream",
     "text": [
      " rain (mm/day)        model          \n",
      " Min.   :  0       Length:62467843   \n",
      " 1st Qu.:  0       Class :character  \n",
      " Median :  0       Mode  :character  \n",
      " Mean   :  2                         \n",
      " 3rd Qu.:  1                         \n",
      " Max.   :433                         \n",
      " NA's   :3219300                     \n",
      "CPU times: user 13.3 s, sys: 3.68 s, total: 16.9 s\n",
      "Wall time: 18.6 s\n"
     ]
    }
   ],
   "source": [
    "%%time\n",
    "%%R\n",
    "summary(df_2)"
   ]
  },
  {
   "cell_type": "code",
   "execution_count": 28,
   "id": "4385ec5a-2ab9-431f-b668-bb03d12718dd",
   "metadata": {},
   "outputs": [],
   "source": [
    "%%R\n",
    "library(ggplot2)"
   ]
  },
  {
   "cell_type": "markdown",
   "id": "85919f9e-dd9d-4f77-aad6-f496405bf92c",
   "metadata": {},
   "source": [
    "The `rain` column has a lot of NA's.  There are some outliers in the `rain` so that it has a maximum value of 433 while even the 3rd quantile (75%) is only 1."
   ]
  },
  {
   "cell_type": "markdown",
   "id": "3f1f2e56-88a8-463c-a9c3-a546926caa52",
   "metadata": {},
   "source": [
    "#### Feather file\n",
    "We tried to save the dataframe to `feather` file and read it into R, but there is an unknown issue with `arrow` that the R kernel dies."
   ]
  },
  {
   "cell_type": "code",
   "execution_count": 29,
   "id": "7c191718-3602-45e4-ae5e-2047a9c87521",
   "metadata": {},
   "outputs": [
    {
     "name": "stdout",
     "output_type": "stream",
     "text": [
      "CPU times: user 2.65 s, sys: 1.3 s, total: 3.95 s\n",
      "Wall time: 5.62 s\n"
     ]
    }
   ],
   "source": [
    "%%time\n",
    "df_2.to_feather(data_path + \"/combined_data_2.feather\")"
   ]
  },
  {
   "cell_type": "code",
   "execution_count": 30,
   "id": "0aae9f4d-45ee-4908-8842-d7d34261b0de",
   "metadata": {},
   "outputs": [
    {
     "data": {
      "text/html": [
       "<div>\n",
       "<style scoped>\n",
       "    .dataframe tbody tr th:only-of-type {\n",
       "        vertical-align: middle;\n",
       "    }\n",
       "\n",
       "    .dataframe tbody tr th {\n",
       "        vertical-align: top;\n",
       "    }\n",
       "\n",
       "    .dataframe thead th {\n",
       "        text-align: right;\n",
       "    }\n",
       "</style>\n",
       "<table border=\"1\" class=\"dataframe\">\n",
       "  <thead>\n",
       "    <tr style=\"text-align: right;\">\n",
       "      <th></th>\n",
       "      <th>rain (mm/day)</th>\n",
       "      <th>model</th>\n",
       "    </tr>\n",
       "  </thead>\n",
       "  <tbody>\n",
       "    <tr>\n",
       "      <th>0</th>\n",
       "      <td>4.244226e-13</td>\n",
       "      <td>MPI-ESM-1-2-HAM</td>\n",
       "    </tr>\n",
       "    <tr>\n",
       "      <th>1</th>\n",
       "      <td>4.217326e-13</td>\n",
       "      <td>MPI-ESM-1-2-HAM</td>\n",
       "    </tr>\n",
       "    <tr>\n",
       "      <th>2</th>\n",
       "      <td>4.498125e-13</td>\n",
       "      <td>MPI-ESM-1-2-HAM</td>\n",
       "    </tr>\n",
       "    <tr>\n",
       "      <th>3</th>\n",
       "      <td>4.251282e-13</td>\n",
       "      <td>MPI-ESM-1-2-HAM</td>\n",
       "    </tr>\n",
       "    <tr>\n",
       "      <th>4</th>\n",
       "      <td>4.270161e-13</td>\n",
       "      <td>MPI-ESM-1-2-HAM</td>\n",
       "    </tr>\n",
       "    <tr>\n",
       "      <th>...</th>\n",
       "      <td>...</td>\n",
       "      <td>...</td>\n",
       "    </tr>\n",
       "    <tr>\n",
       "      <th>62467838</th>\n",
       "      <td>6.689683e+00</td>\n",
       "      <td>SAM0-UNICON</td>\n",
       "    </tr>\n",
       "    <tr>\n",
       "      <th>62467839</th>\n",
       "      <td>7.862555e+00</td>\n",
       "      <td>SAM0-UNICON</td>\n",
       "    </tr>\n",
       "    <tr>\n",
       "      <th>62467840</th>\n",
       "      <td>1.000503e+01</td>\n",
       "      <td>SAM0-UNICON</td>\n",
       "    </tr>\n",
       "    <tr>\n",
       "      <th>62467841</th>\n",
       "      <td>8.541592e+00</td>\n",
       "      <td>SAM0-UNICON</td>\n",
       "    </tr>\n",
       "    <tr>\n",
       "      <th>62467842</th>\n",
       "      <td>6.811749e+01</td>\n",
       "      <td>SAM0-UNICON</td>\n",
       "    </tr>\n",
       "  </tbody>\n",
       "</table>\n",
       "<p>62467843 rows × 2 columns</p>\n",
       "</div>"
      ],
      "text/plain": [
       "          rain (mm/day)            model\n",
       "0          4.244226e-13  MPI-ESM-1-2-HAM\n",
       "1          4.217326e-13  MPI-ESM-1-2-HAM\n",
       "2          4.498125e-13  MPI-ESM-1-2-HAM\n",
       "3          4.251282e-13  MPI-ESM-1-2-HAM\n",
       "4          4.270161e-13  MPI-ESM-1-2-HAM\n",
       "...                 ...              ...\n",
       "62467838   6.689683e+00      SAM0-UNICON\n",
       "62467839   7.862555e+00      SAM0-UNICON\n",
       "62467840   1.000503e+01      SAM0-UNICON\n",
       "62467841   8.541592e+00      SAM0-UNICON\n",
       "62467842   6.811749e+01      SAM0-UNICON\n",
       "\n",
       "[62467843 rows x 2 columns]"
      ]
     },
     "execution_count": 30,
     "metadata": {},
     "output_type": "execute_result"
    }
   ],
   "source": [
    "df_2 "
   ]
  },
  {
   "cell_type": "code",
   "execution_count": 31,
   "id": "8282ff2d-b4a0-43fe-a50e-dd756e9ac553",
   "metadata": {},
   "outputs": [
    {
     "name": "stdout",
     "output_type": "stream",
     "text": [
      "CPU times: user 1.6 s, sys: 1.04 s, total: 2.64 s\n",
      "Wall time: 2.59 s\n"
     ]
    },
    {
     "data": {
      "text/html": [
       "<div>\n",
       "<style scoped>\n",
       "    .dataframe tbody tr th:only-of-type {\n",
       "        vertical-align: middle;\n",
       "    }\n",
       "\n",
       "    .dataframe tbody tr th {\n",
       "        vertical-align: top;\n",
       "    }\n",
       "\n",
       "    .dataframe thead th {\n",
       "        text-align: right;\n",
       "    }\n",
       "</style>\n",
       "<table border=\"1\" class=\"dataframe\">\n",
       "  <thead>\n",
       "    <tr style=\"text-align: right;\">\n",
       "      <th></th>\n",
       "      <th>rain (mm/day)</th>\n",
       "      <th>model</th>\n",
       "    </tr>\n",
       "  </thead>\n",
       "  <tbody>\n",
       "    <tr>\n",
       "      <th>0</th>\n",
       "      <td>4.244226e-13</td>\n",
       "      <td>MPI-ESM-1-2-HAM</td>\n",
       "    </tr>\n",
       "    <tr>\n",
       "      <th>1</th>\n",
       "      <td>4.217326e-13</td>\n",
       "      <td>MPI-ESM-1-2-HAM</td>\n",
       "    </tr>\n",
       "    <tr>\n",
       "      <th>2</th>\n",
       "      <td>4.498125e-13</td>\n",
       "      <td>MPI-ESM-1-2-HAM</td>\n",
       "    </tr>\n",
       "    <tr>\n",
       "      <th>3</th>\n",
       "      <td>4.251282e-13</td>\n",
       "      <td>MPI-ESM-1-2-HAM</td>\n",
       "    </tr>\n",
       "    <tr>\n",
       "      <th>4</th>\n",
       "      <td>4.270161e-13</td>\n",
       "      <td>MPI-ESM-1-2-HAM</td>\n",
       "    </tr>\n",
       "    <tr>\n",
       "      <th>...</th>\n",
       "      <td>...</td>\n",
       "      <td>...</td>\n",
       "    </tr>\n",
       "    <tr>\n",
       "      <th>62467838</th>\n",
       "      <td>6.689683e+00</td>\n",
       "      <td>SAM0-UNICON</td>\n",
       "    </tr>\n",
       "    <tr>\n",
       "      <th>62467839</th>\n",
       "      <td>7.862555e+00</td>\n",
       "      <td>SAM0-UNICON</td>\n",
       "    </tr>\n",
       "    <tr>\n",
       "      <th>62467840</th>\n",
       "      <td>1.000503e+01</td>\n",
       "      <td>SAM0-UNICON</td>\n",
       "    </tr>\n",
       "    <tr>\n",
       "      <th>62467841</th>\n",
       "      <td>8.541592e+00</td>\n",
       "      <td>SAM0-UNICON</td>\n",
       "    </tr>\n",
       "    <tr>\n",
       "      <th>62467842</th>\n",
       "      <td>6.811749e+01</td>\n",
       "      <td>SAM0-UNICON</td>\n",
       "    </tr>\n",
       "  </tbody>\n",
       "</table>\n",
       "<p>62467843 rows × 2 columns</p>\n",
       "</div>"
      ],
      "text/plain": [
       "          rain (mm/day)            model\n",
       "0          4.244226e-13  MPI-ESM-1-2-HAM\n",
       "1          4.217326e-13  MPI-ESM-1-2-HAM\n",
       "2          4.498125e-13  MPI-ESM-1-2-HAM\n",
       "3          4.251282e-13  MPI-ESM-1-2-HAM\n",
       "4          4.270161e-13  MPI-ESM-1-2-HAM\n",
       "...                 ...              ...\n",
       "62467838   6.689683e+00      SAM0-UNICON\n",
       "62467839   7.862555e+00      SAM0-UNICON\n",
       "62467840   1.000503e+01      SAM0-UNICON\n",
       "62467841   8.541592e+00      SAM0-UNICON\n",
       "62467842   6.811749e+01      SAM0-UNICON\n",
       "\n",
       "[62467843 rows x 2 columns]"
      ]
     },
     "execution_count": 31,
     "metadata": {},
     "output_type": "execute_result"
    }
   ],
   "source": [
    "%%time \n",
    "# Checking that the feather file is created correctly.\n",
    "df_2_test = pd.read_feather(data_path + \"/combined_data_2.feather\")\n",
    "df_2_test"
   ]
  },
  {
   "cell_type": "markdown",
   "id": "cf323477-b925-403a-b5fd-c0a27a7cd43f",
   "metadata": {},
   "source": [
    "The following cell is commented out because the kernel dies for some unknown reason with `read_feather` function of `arrow` package."
   ]
  },
  {
   "cell_type": "code",
   "execution_count": null,
   "id": "4383cdda-f513-446f-896c-bda0f1c0cde8",
   "metadata": {},
   "outputs": [],
   "source": [
    "# %%time\n",
    "# %%R -i data_path\n",
    "# df_2 <- read_feather(base::paste0(data_path, \"/combined_data_2.feather\"))\n",
    "# head(df_2)"
   ]
  },
  {
   "cell_type": "markdown",
   "id": "generic-adoption",
   "metadata": {
    "id": "generic-adoption"
   },
   "source": [
    "## Compare performance"
   ]
  },
  {
   "cell_type": "markdown",
   "id": "ace017dd-e731-4dc1-96c1-c42c93e076a8",
   "metadata": {
    "id": "SA709mKthURp"
   },
   "source": [
    "#### Performance for Combining Data CSV\n",
    "\n",
    "| Team Member | Operating System | RAM | Processor | Is SSD | Time taken |\n",
    "|:-----------:|:----------------:|:---:|:---------:|:------:|:----------:|\n",
    "| Joyce Wang  |     Windows      |16GB | 11th Gen Intel(R) Core(TM) i7-1165G7 2.80GHz | yes | 9min 29s |\n",
    "| Macy Chan   |     Mac          |16GB | 2.6 GHz 6-Core Intel Core i7                 | yes | 7min 19s |\n",
    "| Steven Leung|          Mac           |  16GB   |     Apple M1      |    yes    |     7min 25s       |\n",
    "| Zack Tang   |     Mac          |16GB | 2.2 GHz 6-Core Intel Core i7                 | yes | 7min 25s |      \n",
    "\n",
    "#### Performance for EDA in python (Changing data types)\n",
    "\n",
    "| Team Member | Operating System | RAM | Processor | Is SSD | Time taken |\n",
    "|:-----------:|:----------------:|:---:|:---------:|:------:|:----------:|\n",
    "| Joyce Wang  |        Windows          | 16GB    | 11th Gen Intel(R) Core(TM) i7-1165G7 2.80GHz          |  yes      | 3mins 48s           |\n",
    "| Macy Chan   |     Mac          |16GB | 2.6 GHz 6-Core Intel Core i7                 | yes | 1min 7s |\n",
    "| Steven Leung|       Mac           |  16GB   |     Apple M1      |    yes    |     1min 2s       |\n",
    "| Zack Tang   |     Mac         |   16GB  |       2.2 GHz 6-Core Intel Core i7    |    yes    | 1min 2s |\n",
    "\n",
    "#### Performance for EDA in python (Loading what is needed)\n",
    "\n",
    "| Team Member | Operating System | RAM | Processor | Is SSD | Time taken |\n",
    "|:-----------:|:----------------:|:---:|:---------:|:------:|:----------:|\n",
    "| Joyce Wang  |     Windows             | 16GB    | 11th Gen Intel(R) Core(TM) i7-1165G7 2.80GHz          |  yes      | 1min 26s           |\n",
    "| Macy Chan   |     Mac          |16GB | 2.6 GHz 6-Core Intel Core i7                 | yes | 31.8s |\n",
    "| Steven Leung|      Mac           |  16GB   |     Apple M1      |    yes    |     30.3s       |\n",
    "| Zack Tang   |     Mac         |   16GB  |       2.2 GHz 6-Core Intel Core i7    |    yes    | 30.9s |\n",
    "\n",
    "#### Performance for EDA in python (Loading data in chunks)\n",
    "\n",
    "| Team Member | Operating System | RAM | Processor | Is SSD | Time taken |\n",
    "|:-----------:|:----------------:|:---:|:---------:|:------:|:----------:|\n",
    "| Joyce Wang  |    Windows              | 16GB    | 11th Gen Intel(R) Core(TM) i7-1165G7 2.80GHz           | yes       | 2mins 16s           |\n",
    "| Macy Chan   |     Mac          |16GB | 2.6 GHz 6-Core Intel Core i7                 | yes |  59.5 s |\n",
    "| Steven Leung|      Mac           |  16GB   |     Apple M1      |    yes    |     52.3s       |\n",
    "| Zack Tang   |     Mac         |   16GB  |       2.2 GHz 6-Core Intel Core i7    |    yes    | 1min 3s |\n",
    "\n"
   ]
  },
  {
   "cell_type": "code",
   "execution_count": null,
   "id": "35669a13-ae16-4642-855c-3f8f96aecb85",
   "metadata": {},
   "outputs": [],
   "source": []
  }
 ],
 "metadata": {
  "colab": {
   "name": "ACCOUNT-ITEMS-COLLECTIONS.ipynb",
   "provenance": []
  },
  "kernelspec": {
   "display_name": "Python [conda env:525_2022]",
   "language": "python",
   "name": "conda-env-525_2022-py"
  },
  "language_info": {
   "codemirror_mode": {
    "name": "ipython",
    "version": 3
   },
   "file_extension": ".py",
   "mimetype": "text/x-python",
   "name": "python",
   "nbconvert_exporter": "python",
   "pygments_lexer": "ipython3",
   "version": "3.8.13"
  }
 },
 "nbformat": 4,
 "nbformat_minor": 5
}
