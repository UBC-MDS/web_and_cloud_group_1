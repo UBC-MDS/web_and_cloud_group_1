{
 "cells": [
  {
   "cell_type": "markdown",
   "id": "114cf9c2",
   "metadata": {},
   "source": [
    "# DSCI 525 - Web and Cloud Computing"
   ]
  },
  {
   "cell_type": "markdown",
   "id": "cdcfdb0d",
   "metadata": {},
   "source": [
    "Milestone 2: Your team is planning to migrate to the cloud. AWS gave 400$ (100$ each) to your team to support this. As part of this initiative, your team needs to set up a server in the cloud, a collaborative environment for your team, and later move your data to the cloud. After that, your team can wrangle the data in preparation for machine learning.\n",
    "\n",
    "## Milestone 2 checklist  \n",
    "You will have mainly 2 tasks. Here is the checklist...\n",
    "- To set up a collaborative environment \n",
    "    - Setup your EC2 instance with JupyterHub.\n",
    "    - Install all necessary things needed in your UNIX server (amazon ec2 instance).\n",
    "    - Set up your S3 bucket.\n",
    "    - Move the data that you wrangled in your last milestone to s3.\n",
    "    - To move data from s3.\n",
    "- Wrangle the data in preparation for machine learning\n",
    "    - Get the data from S3 in your notebook and make data ready for machine learning."
   ]
  },
  {
   "cell_type": "markdown",
   "id": "f6849a9a",
   "metadata": {},
   "source": [
    "**Keep in mind:**\n",
    "\n",
    "- _All services you use are in region us-west-2._\n",
    "\n",
    "- _Don't store anything in these servers or storage that represents your identity as a student (like your student ID number) ._\n",
    "\n",
    "- _Use only default VPC and subnet._\n",
    "    \n",
    "- _No IP addresses are visible when you provide the screenshot._\n",
    "\n",
    "- _You do proper budgeting so that you don't run out of credits._ \n",
    "\n",
    "- _We want one single notebook for grading, and it's up to your discretion on how you do it. ***So only one person in your group needs to spin up a big instance and a ```t2.xlarge``` is of decent size.***_\n",
    "\n",
    "- _Please stop the instance when not in use. This can save you some bucks, but it's again up to you and how you budget your money. Maybe stop it if you or your team won't use it for the next 5 hours?\n",
    "\n",
    "- _Your AWS lab will shut down after 3 hours 30 min. When you start it again, your AWS credentials (***access key***,***secret***, and ***session token***) will change, and you want to update your credentials file with the new one. _\n",
    "\n",
    "- _Say something went wrong and you want to spin up another EC2 instance, then make sure you terminate the previous one._\n",
    "\n",
    "- _We will be choosing the storage to be ```Delete on Termination```, which means that stored data in your instance will be lost upon termination. Make sure you save any data to S3 and download the notebooks to your laptop so that next time you have your jupyterHub in a different instance, you can upload your notebook there._\n",
    "\n",
    "_***Outside of Milestone:*** If you are working as an individual just to practice setting up EC2 instances, make sure you select ```t2.large``` instance (not anything bigger than that as it can cost you money). I strongly recommend you spin up your own instance and experiment with the s3 bucket in doing something (there are many things that we learned and practical work from additional instructions and video series) to get comfortable with AWS. But we won't be looking at it for a grading purpose._\n",
    "\n",
    "***NOTE:*** Everything you want for this notebook is discussed in lecture 3, lecture 4, and setup instructions."
   ]
  },
  {
   "cell_type": "markdown",
   "id": "a1884cb4",
   "metadata": {},
   "source": [
    "### 1. Setup your EC2 instance"
   ]
  },
  {
   "cell_type": "markdown",
   "id": "58e80c45",
   "metadata": {},
   "source": [
    "rubric={correctness:20}"
   ]
  },
  {
   "cell_type": "markdown",
   "id": "d82539b2",
   "metadata": {},
   "source": [
    "#### Please attach this screen shots from your group for grading.\n",
    "\n",
    "![](screencap/EC2-group1.png)"
   ]
  },
  {
   "cell_type": "markdown",
   "id": "539ad5a3",
   "metadata": {},
   "source": [
    "### 2. Setup your JupyterHub"
   ]
  },
  {
   "cell_type": "markdown",
   "id": "639f8283",
   "metadata": {},
   "source": [
    "rubric={correctness:20}"
   ]
  },
  {
   "cell_type": "markdown",
   "id": "2dea6704",
   "metadata": {},
   "source": [
    "#### Please attach this screen shots from your group for grading\n",
    "\n",
    "![](screencap/jupyter-group1.png)"
   ]
  },
  {
   "cell_type": "markdown",
   "id": "9801b911",
   "metadata": {},
   "source": [
    "### 3. Setup the server "
   ]
  },
  {
   "cell_type": "markdown",
   "id": "c732ef2d",
   "metadata": {},
   "source": [
    "rubric={correctness:20}"
   ]
  },
  {
   "cell_type": "markdown",
   "id": "3bed70af",
   "metadata": {},
   "source": [
    "3.1) Add your team members to EC2 instance.\n",
    "\n",
    "3.2) Setup a common data folder to download data, and this folder should be accessible by all users in the JupyterHub.\n",
    "    \n",
    "3.3)(***OPTIONAL***) Setup a sharing notebook environment.\n",
    "\n",
    "3.4) Install and configure AWS CLI."
   ]
  },
  {
   "cell_type": "markdown",
   "id": "a08693c0",
   "metadata": {},
   "source": [
    "#### Please attach this screen shots from your group for grading\n",
    "\n",
    "Make sure you mask the IP address refer [here](https://www.anysoftwaretools.com/blur-part-picture-mac/).\n",
    "\n",
    "![](screencap/shared_folder-group1.png)"
   ]
  },
  {
   "cell_type": "markdown",
   "id": "eeecde21",
   "metadata": {},
   "source": [
    "### 4. Get the data what we wrangled in our first milestone. "
   ]
  },
  {
   "cell_type": "markdown",
   "id": "2174bec3",
   "metadata": {},
   "source": [
    "You have to install the packages that are needed. Refer this TLJH [document]( https://tljh.jupyter.org/en/latest/howto/env/user-environment.html).Refer ```pip``` section.\n",
    "\n",
    "Don't forget to add option -E. This way, all packages that you install will be available to other users in your JupyterHub.\n",
    "These packages you must install and install other packages needed for your wrangling.\n",
    "\n",
    "    sudo -E pip install pandas\n",
    "    sudo -E pip install pyarrow\n",
    "    sudo -E pip install s3fs"
   ]
  },
  {
   "cell_type": "markdown",
   "id": "66d32fbd",
   "metadata": {},
   "source": [
    "As in the last milestone, we looked at getting the data transferred from Python to R, and we have different solutions. Henceforth, I uploaded the parquet file format, which we can use moving forward."
   ]
  },
  {
   "cell_type": "code",
   "execution_count": 1,
   "id": "ec6a16f6",
   "metadata": {},
   "outputs": [],
   "source": [
    "import re\n",
    "import os\n",
    "import glob\n",
    "import zipfile\n",
    "import requests\n",
    "from urllib.request import urlretrieve\n",
    "import json\n",
    "import pandas as pd"
   ]
  },
  {
   "cell_type": "markdown",
   "id": "c6b16325",
   "metadata": {},
   "source": [
    "Rememeber here we gave the folder that we created in Step 3.2 as we made it available for all the users in a group."
   ]
  },
  {
   "cell_type": "code",
   "execution_count": 9,
   "id": "07bd98c6",
   "metadata": {},
   "outputs": [],
   "source": [
    "# Necessary metadata\n",
    "article_id = 14226968  # this is the unique identifier of the article on figshare\n",
    "url = f\"https://api.figshare.com/v2/articles/{article_id}\"\n",
    "headers = {\"Content-Type\": \"application/json\"}\n",
    "output_directory = \"/srv/data/my_shared_data_folder/\""
   ]
  },
  {
   "cell_type": "code",
   "execution_count": 10,
   "id": "9dae876e",
   "metadata": {},
   "outputs": [
    {
     "data": {
      "text/plain": [
       "[{'id': 26844650,\n",
       "  'name': 'allyears.csv.zip',\n",
       "  'size': 2405908113,\n",
       "  'is_link_only': False,\n",
       "  'download_url': 'https://ndownloader.figshare.com/files/26844650',\n",
       "  'supplied_md5': '9e046ac05ecd2c32a256a47dd1098b81',\n",
       "  'computed_md5': '9e046ac05ecd2c32a256a47dd1098b81'},\n",
       " {'id': 26863682,\n",
       "  'name': 'individual_years.zip',\n",
       "  'size': 1896206676,\n",
       "  'is_link_only': False,\n",
       "  'download_url': 'https://ndownloader.figshare.com/files/26863682',\n",
       "  'supplied_md5': '921da748974b07b2a70bbfcc04535a77',\n",
       "  'computed_md5': '921da748974b07b2a70bbfcc04535a77'},\n",
       " {'id': 27515426,\n",
       "  'name': 'combined_model_data.csv.zip',\n",
       "  'size': 821308997,\n",
       "  'is_link_only': False,\n",
       "  'download_url': 'https://ndownloader.figshare.com/files/27515426',\n",
       "  'supplied_md5': '7638434c44a7d29cbb29fe200b4fd65d',\n",
       "  'computed_md5': '7638434c44a7d29cbb29fe200b4fd65d'},\n",
       " {'id': 27520682,\n",
       "  'name': 'combined_model_data_parti.parquet.zip',\n",
       "  'size': 519743915,\n",
       "  'is_link_only': False,\n",
       "  'download_url': 'https://ndownloader.figshare.com/files/27520682',\n",
       "  'supplied_md5': '02f4e3df8d16580a02291de225072689',\n",
       "  'computed_md5': '02f4e3df8d16580a02291de225072689'},\n",
       " {'id': 27520808,\n",
       "  'name': 'combined_model_data.parquet',\n",
       "  'size': 565872005,\n",
       "  'is_link_only': False,\n",
       "  'download_url': 'https://ndownloader.figshare.com/files/27520808',\n",
       "  'supplied_md5': 'ae63699ab21ffa8006559c6afbcd2271',\n",
       "  'computed_md5': 'ae63699ab21ffa8006559c6afbcd2271'}]"
      ]
     },
     "execution_count": 10,
     "metadata": {},
     "output_type": "execute_result"
    }
   ],
   "source": [
    "response = requests.request(\"GET\", url, headers=headers)\n",
    "data = json.loads(response.text)  # this contains all the articles data, feel free to check it out\n",
    "files = data[\"files\"]             # this is just the data about the files, which is what we want\n",
    "files"
   ]
  },
  {
   "cell_type": "code",
   "execution_count": 11,
   "id": "55ae9ec8",
   "metadata": {},
   "outputs": [
    {
     "ename": "OSError",
     "evalue": "[Errno 30] Read-only file system: '/srv'",
     "output_type": "error",
     "traceback": [
      "\u001b[0;31m---------------------------------------------------------------------------\u001b[0m",
      "\u001b[0;31mOSError\u001b[0m                                   Traceback (most recent call last)",
      "Input \u001b[0;32mIn [11]\u001b[0m, in \u001b[0;36m<cell line: 2>\u001b[0;34m()\u001b[0m\n\u001b[1;32m      2\u001b[0m \u001b[38;5;28;01mfor\u001b[39;00m file \u001b[38;5;129;01min\u001b[39;00m files:\n\u001b[1;32m      3\u001b[0m     \u001b[38;5;28;01mif\u001b[39;00m file[\u001b[38;5;124m\"\u001b[39m\u001b[38;5;124mname\u001b[39m\u001b[38;5;124m\"\u001b[39m] \u001b[38;5;129;01min\u001b[39;00m files_to_dl:\n\u001b[0;32m----> 4\u001b[0m         \u001b[43mos\u001b[49m\u001b[38;5;241;43m.\u001b[39;49m\u001b[43mmakedirs\u001b[49m\u001b[43m(\u001b[49m\u001b[43moutput_directory\u001b[49m\u001b[43m,\u001b[49m\u001b[43m \u001b[49m\u001b[43mexist_ok\u001b[49m\u001b[38;5;241;43m=\u001b[39;49m\u001b[38;5;28;43;01mTrue\u001b[39;49;00m\u001b[43m)\u001b[49m\n\u001b[1;32m      5\u001b[0m         urlretrieve(file[\u001b[38;5;124m\"\u001b[39m\u001b[38;5;124mdownload_url\u001b[39m\u001b[38;5;124m\"\u001b[39m], output_directory \u001b[38;5;241m+\u001b[39m file[\u001b[38;5;124m\"\u001b[39m\u001b[38;5;124mname\u001b[39m\u001b[38;5;124m\"\u001b[39m])\n",
      "File \u001b[0;32m~/opt/miniconda3/envs/525_2022/lib/python3.8/os.py:213\u001b[0m, in \u001b[0;36mmakedirs\u001b[0;34m(name, mode, exist_ok)\u001b[0m\n\u001b[1;32m    211\u001b[0m \u001b[38;5;28;01mif\u001b[39;00m head \u001b[38;5;129;01mand\u001b[39;00m tail \u001b[38;5;129;01mand\u001b[39;00m \u001b[38;5;129;01mnot\u001b[39;00m path\u001b[38;5;241m.\u001b[39mexists(head):\n\u001b[1;32m    212\u001b[0m     \u001b[38;5;28;01mtry\u001b[39;00m:\n\u001b[0;32m--> 213\u001b[0m         \u001b[43mmakedirs\u001b[49m\u001b[43m(\u001b[49m\u001b[43mhead\u001b[49m\u001b[43m,\u001b[49m\u001b[43m \u001b[49m\u001b[43mexist_ok\u001b[49m\u001b[38;5;241;43m=\u001b[39;49m\u001b[43mexist_ok\u001b[49m\u001b[43m)\u001b[49m\n\u001b[1;32m    214\u001b[0m     \u001b[38;5;28;01mexcept\u001b[39;00m \u001b[38;5;167;01mFileExistsError\u001b[39;00m:\n\u001b[1;32m    215\u001b[0m         \u001b[38;5;66;03m# Defeats race condition when another thread created the path\u001b[39;00m\n\u001b[1;32m    216\u001b[0m         \u001b[38;5;28;01mpass\u001b[39;00m\n",
      "File \u001b[0;32m~/opt/miniconda3/envs/525_2022/lib/python3.8/os.py:213\u001b[0m, in \u001b[0;36mmakedirs\u001b[0;34m(name, mode, exist_ok)\u001b[0m\n\u001b[1;32m    211\u001b[0m \u001b[38;5;28;01mif\u001b[39;00m head \u001b[38;5;129;01mand\u001b[39;00m tail \u001b[38;5;129;01mand\u001b[39;00m \u001b[38;5;129;01mnot\u001b[39;00m path\u001b[38;5;241m.\u001b[39mexists(head):\n\u001b[1;32m    212\u001b[0m     \u001b[38;5;28;01mtry\u001b[39;00m:\n\u001b[0;32m--> 213\u001b[0m         \u001b[43mmakedirs\u001b[49m\u001b[43m(\u001b[49m\u001b[43mhead\u001b[49m\u001b[43m,\u001b[49m\u001b[43m \u001b[49m\u001b[43mexist_ok\u001b[49m\u001b[38;5;241;43m=\u001b[39;49m\u001b[43mexist_ok\u001b[49m\u001b[43m)\u001b[49m\n\u001b[1;32m    214\u001b[0m     \u001b[38;5;28;01mexcept\u001b[39;00m \u001b[38;5;167;01mFileExistsError\u001b[39;00m:\n\u001b[1;32m    215\u001b[0m         \u001b[38;5;66;03m# Defeats race condition when another thread created the path\u001b[39;00m\n\u001b[1;32m    216\u001b[0m         \u001b[38;5;28;01mpass\u001b[39;00m\n",
      "File \u001b[0;32m~/opt/miniconda3/envs/525_2022/lib/python3.8/os.py:223\u001b[0m, in \u001b[0;36mmakedirs\u001b[0;34m(name, mode, exist_ok)\u001b[0m\n\u001b[1;32m    221\u001b[0m         \u001b[38;5;28;01mreturn\u001b[39;00m\n\u001b[1;32m    222\u001b[0m \u001b[38;5;28;01mtry\u001b[39;00m:\n\u001b[0;32m--> 223\u001b[0m     \u001b[43mmkdir\u001b[49m\u001b[43m(\u001b[49m\u001b[43mname\u001b[49m\u001b[43m,\u001b[49m\u001b[43m \u001b[49m\u001b[43mmode\u001b[49m\u001b[43m)\u001b[49m\n\u001b[1;32m    224\u001b[0m \u001b[38;5;28;01mexcept\u001b[39;00m \u001b[38;5;167;01mOSError\u001b[39;00m:\n\u001b[1;32m    225\u001b[0m     \u001b[38;5;66;03m# Cannot rely on checking for EEXIST, since the operating system\u001b[39;00m\n\u001b[1;32m    226\u001b[0m     \u001b[38;5;66;03m# could give priority to other errors like EACCES or EROFS\u001b[39;00m\n\u001b[1;32m    227\u001b[0m     \u001b[38;5;28;01mif\u001b[39;00m \u001b[38;5;129;01mnot\u001b[39;00m exist_ok \u001b[38;5;129;01mor\u001b[39;00m \u001b[38;5;129;01mnot\u001b[39;00m path\u001b[38;5;241m.\u001b[39misdir(name):\n",
      "\u001b[0;31mOSError\u001b[0m: [Errno 30] Read-only file system: '/srv'"
     ]
    }
   ],
   "source": [
    "files_to_dl = [\"combined_model_data_parti.parquet.zip\"]  ## Please download the partitioned \n",
    "for file in files:\n",
    "    if file[\"name\"] in files_to_dl:\n",
    "        os.makedirs(output_directory, exist_ok=True)\n",
    "        urlretrieve(file[\"download_url\"], output_directory + file[\"name\"])"
   ]
  },
  {
   "cell_type": "code",
   "execution_count": 8,
   "id": "11642663",
   "metadata": {},
   "outputs": [],
   "source": [
    "with zipfile.ZipFile(os.path.join(output_directory, \"combined_model_data_parti.parquet.zip\"), 'r') as f:\n",
    "    f.extractall(output_directory)"
   ]
  },
  {
   "cell_type": "markdown",
   "id": "0d2f04d9",
   "metadata": {},
   "source": [
    "### 5. Setup your S3 bucket and move data"
   ]
  },
  {
   "cell_type": "markdown",
   "id": "8a9c2bbf",
   "metadata": {},
   "source": [
    "rubric={correctness:20}"
   ]
  },
  {
   "cell_type": "markdown",
   "id": "cc337efd",
   "metadata": {},
   "source": [
    "5.1)  Create a bucket name should be mds-s3-xxx. Replace xxx with your \"groupnumber\".\n",
    "\n",
    "5.2)  Create your first folder called \"output\".\n",
    "\n",
    "5.3) Move the \"observed_daily_rainfall_SYD.csv\" file from the Milestone1 data folder to your s3 bucket from your local computer.\n",
    "\n",
    "5.4) Moving the parquet file we downloaded(combined_model_data_parti.parquet) in step 4 to S3 using the cli what we installed in step 3.4."
   ]
  },
  {
   "cell_type": "markdown",
   "id": "66d3e08c",
   "metadata": {},
   "source": [
    "#### Please attach this screen shots from your group for grading\n",
    "\n",
    "Make sure it has 3 objects.\n",
    "\n",
    "https://github.ubc.ca/mds-2021-22/DSCI_525_web-cloud-comp_students/blob/master/release/milestone2/image/4_result.png"
   ]
  },
  {
   "cell_type": "markdown",
   "id": "56d40246",
   "metadata": {},
   "source": [
    "### 6. Wrangle the data in preparation for machine learning"
   ]
  },
  {
   "cell_type": "markdown",
   "id": "683ca7b4",
   "metadata": {},
   "source": [
    "rubric={correctness:20}"
   ]
  },
  {
   "cell_type": "markdown",
   "id": "c0f1fca0",
   "metadata": {},
   "source": [
    "Our data currently covers all of NSW, but say that our client wants us to create a machine learning model to predict rainfall over Sydney only. There's a bit of wrangling that needs to be done for that:\n",
    "1. We need to query our data for only the rows that contain information covering Sydney\n",
    "2. We need to wrangle our data into a format suitable for training a machine learning model. That will require pivoting, resampling, grouping, etc.\n",
    "\n",
    "To train an ML algorithm we need it to look like this:\n",
    "\n",
    "||model-1_rainfall|model-2_rainfall|model-3_rainfall|...|observed_rainfall|\n",
    "|---|---|---|---|---|---|\n",
    "|0|0.12|0.43|0.35|...|0.31|\n",
    "|1|1.22|0.91|1.68|...|1.34|\n",
    "|2|0.68|0.29|0.41|...|0.57|"
   ]
  },
  {
   "cell_type": "markdown",
   "id": "e6b4929d",
   "metadata": {},
   "source": [
    "ob = pd.read_csv('s3://mds-s3-21/observed_daily_rainfall_SYD.csv', storage_options = aws_credentials)\n",
    "ob[\"model\"] = \"observed_rainfall\"6.1) Get the data from s3 (```combined_model_data_parti.parquet``` and ```observed_daily_rainfall_SYD.csv```)\n",
    "\n",
    "6.2) First query for Sydney data and then drop the lat and lon columns (we don't need them).\n",
    "```\n",
    "syd_lat = -33.86\n",
    "syd_lon = 151.21\n",
    "```\n",
    "Expected shape ```(1150049, 2)```.\n",
    "\n",
    "6.3) Save this processed file to s3 for later use:\n",
    "\n",
    "  Save as a csv file ```ml_data_SYD.csv``` to ```s3://mds-s3-xxx/output/```\n",
    "  expected shape ```(46020,26)``` - This includes all the models as columns and also adding additional column ```Observed``` loaded from ```observed_daily_rainfall_SYD.csv``` from s3."
   ]
  },
  {
   "cell_type": "markdown",
   "id": "c7fa188c-cfba-41fe-ab84-c42b7ff0589a",
   "metadata": {},
   "source": [
    "## I copied the code from above and changed a bit for running locally. Feel free to delete reading code once you transfer things to S3. And timing information in available below"
   ]
  },
  {
   "cell_type": "code",
   "execution_count": 63,
   "id": "53807b9a-ea2b-4cc3-8642-5104d7d9cec0",
   "metadata": {},
   "outputs": [],
   "source": [
    "import re\n",
    "import os\n",
    "import glob\n",
    "import zipfile\n",
    "import requests\n",
    "from urllib.request import urlretrieve\n",
    "import json\n",
    "import pandas as pd"
   ]
  },
  {
   "cell_type": "code",
   "execution_count": 64,
   "id": "bbbe6d3c",
   "metadata": {},
   "outputs": [],
   "source": [
    "# Necessary metadata\n",
    "article_id = 14226968  # this is the unique identifier of the article on figshare\n",
    "url = f\"https://api.figshare.com/v2/articles/{article_id}\"\n",
    "headers = {\"Content-Type\": \"application/json\"}\n",
    "output_directory = \"figshare/\""
   ]
  },
  {
   "cell_type": "code",
   "execution_count": 65,
   "id": "b98047ff",
   "metadata": {},
   "outputs": [
    {
     "data": {
      "text/plain": [
       "[{'id': 26844650,\n",
       "  'name': 'allyears.csv.zip',\n",
       "  'size': 2405908113,\n",
       "  'is_link_only': False,\n",
       "  'download_url': 'https://ndownloader.figshare.com/files/26844650',\n",
       "  'supplied_md5': '9e046ac05ecd2c32a256a47dd1098b81',\n",
       "  'computed_md5': '9e046ac05ecd2c32a256a47dd1098b81'},\n",
       " {'id': 26863682,\n",
       "  'name': 'individual_years.zip',\n",
       "  'size': 1896206676,\n",
       "  'is_link_only': False,\n",
       "  'download_url': 'https://ndownloader.figshare.com/files/26863682',\n",
       "  'supplied_md5': '921da748974b07b2a70bbfcc04535a77',\n",
       "  'computed_md5': '921da748974b07b2a70bbfcc04535a77'},\n",
       " {'id': 27515426,\n",
       "  'name': 'combined_model_data.csv.zip',\n",
       "  'size': 821308997,\n",
       "  'is_link_only': False,\n",
       "  'download_url': 'https://ndownloader.figshare.com/files/27515426',\n",
       "  'supplied_md5': '7638434c44a7d29cbb29fe200b4fd65d',\n",
       "  'computed_md5': '7638434c44a7d29cbb29fe200b4fd65d'},\n",
       " {'id': 27520682,\n",
       "  'name': 'combined_model_data_parti.parquet.zip',\n",
       "  'size': 519743915,\n",
       "  'is_link_only': False,\n",
       "  'download_url': 'https://ndownloader.figshare.com/files/27520682',\n",
       "  'supplied_md5': '02f4e3df8d16580a02291de225072689',\n",
       "  'computed_md5': '02f4e3df8d16580a02291de225072689'},\n",
       " {'id': 27520808,\n",
       "  'name': 'combined_model_data.parquet',\n",
       "  'size': 565872005,\n",
       "  'is_link_only': False,\n",
       "  'download_url': 'https://ndownloader.figshare.com/files/27520808',\n",
       "  'supplied_md5': 'ae63699ab21ffa8006559c6afbcd2271',\n",
       "  'computed_md5': 'ae63699ab21ffa8006559c6afbcd2271'}]"
      ]
     },
     "execution_count": 65,
     "metadata": {},
     "output_type": "execute_result"
    }
   ],
   "source": [
    "response = requests.request(\"GET\", url, headers=headers)\n",
    "data = json.loads(response.text)  # this contains all the articles data, feel free to check it out\n",
    "files = data[\"files\"]             # this is just the data about the files, which is what we want\n",
    "files"
   ]
  },
  {
   "cell_type": "code",
   "execution_count": 66,
   "id": "77ea33ec",
   "metadata": {},
   "outputs": [
    {
     "name": "stdout",
     "output_type": "stream",
     "text": [
      "CPU times: user 2.96 s, sys: 5.72 s, total: 8.68 s\n",
      "Wall time: 2min 59s\n"
     ]
    }
   ],
   "source": [
    "%%time\n",
    "files_to_dl = [\"combined_model_data_parti.parquet.zip\"]  ## Please download the partitioned \n",
    "for file in files:\n",
    "    if file[\"name\"] in files_to_dl:\n",
    "        os.makedirs(output_directory, exist_ok=True)\n",
    "        urlretrieve(file[\"download_url\"], output_directory + file[\"name\"])"
   ]
  },
  {
   "cell_type": "code",
   "execution_count": 67,
   "id": "581da8e7",
   "metadata": {},
   "outputs": [
    {
     "name": "stdout",
     "output_type": "stream",
     "text": [
      "CPU times: user 2.97 s, sys: 360 ms, total: 3.33 s\n",
      "Wall time: 3.62 s\n"
     ]
    }
   ],
   "source": [
    "%%time\n",
    "with zipfile.ZipFile(os.path.join(output_directory, \"combined_model_data_parti.parquet.zip\"), 'r') as f:\n",
    "    f.extractall(output_directory)"
   ]
  },
  {
   "cell_type": "code",
   "execution_count": null,
   "id": "90296cbd-8e17-4341-b27d-84751b34f63c",
   "metadata": {},
   "outputs": [],
   "source": []
  },
  {
   "cell_type": "code",
   "execution_count": null,
   "id": "f0b689e0-0d24-4ef5-af17-98ab1fe0fbd2",
   "metadata": {},
   "outputs": [],
   "source": []
  },
  {
   "cell_type": "markdown",
   "id": "865fb9d7-d37f-4b10-b72c-a65b47db0d7c",
   "metadata": {},
   "source": [
    "## The following code should be good for S3 in terms of reading data. But did not test, feel free to edit it"
   ]
  },
  {
   "cell_type": "code",
   "execution_count": null,
   "id": "ffaad1a5-91cc-45ec-8862-d1950b614e35",
   "metadata": {},
   "outputs": [],
   "source": [
    "# This should be the S3 version!\n",
    "\n",
    "with open('/srv/data/shared_data/credential.json') as f:\n",
    "    aws_credentials = json.load(f)\n",
    "    \n",
    "rainfall = pd.read_parquet('s3://mds-s3-1/combined_model_data_parti.parquet', \n",
    "                     storage_options = aws_credentials)"
   ]
  },
  {
   "cell_type": "code",
   "execution_count": null,
   "id": "4d249869-53d2-486e-b20b-bf17e1bfa9d7",
   "metadata": {},
   "outputs": [],
   "source": [
    "observed_rainfall = pd.read_csv('s3://mds-s3-1/observed_daily_rainfall_SYD.csv', \n",
    "                                parse_dates=[\"time\"], \n",
    "                                storage_options = aws_credentials)\n",
    "observed_rainfall.set_index('time', inplace=True)\n",
    "observed_rainfall.head()"
   ]
  },
  {
   "cell_type": "markdown",
   "id": "e1e94ace-c26d-42d5-a266-a809beab5c5a",
   "metadata": {},
   "source": [
    "## The following code just for wrangling data locally"
   ]
  },
  {
   "cell_type": "code",
   "execution_count": 84,
   "id": "3fef8f32",
   "metadata": {},
   "outputs": [
    {
     "data": {
      "text/html": [
       "<div>\n",
       "<style scoped>\n",
       "    .dataframe tbody tr th:only-of-type {\n",
       "        vertical-align: middle;\n",
       "    }\n",
       "\n",
       "    .dataframe tbody tr th {\n",
       "        vertical-align: top;\n",
       "    }\n",
       "\n",
       "    .dataframe thead th {\n",
       "        text-align: right;\n",
       "    }\n",
       "</style>\n",
       "<table border=\"1\" class=\"dataframe\">\n",
       "  <thead>\n",
       "    <tr style=\"text-align: right;\">\n",
       "      <th></th>\n",
       "      <th>time</th>\n",
       "      <th>lat_min</th>\n",
       "      <th>lat_max</th>\n",
       "      <th>lon_min</th>\n",
       "      <th>lon_max</th>\n",
       "      <th>rain (mm/day)</th>\n",
       "      <th>model</th>\n",
       "    </tr>\n",
       "  </thead>\n",
       "  <tbody>\n",
       "    <tr>\n",
       "      <th>0</th>\n",
       "      <td>1889-01-01 12:00:00</td>\n",
       "      <td>-36.25</td>\n",
       "      <td>-35.0</td>\n",
       "      <td>140.625</td>\n",
       "      <td>142.5</td>\n",
       "      <td>3.293256e-13</td>\n",
       "      <td>ACCESS-CM2</td>\n",
       "    </tr>\n",
       "    <tr>\n",
       "      <th>1</th>\n",
       "      <td>1889-01-02 12:00:00</td>\n",
       "      <td>-36.25</td>\n",
       "      <td>-35.0</td>\n",
       "      <td>140.625</td>\n",
       "      <td>142.5</td>\n",
       "      <td>0.000000e+00</td>\n",
       "      <td>ACCESS-CM2</td>\n",
       "    </tr>\n",
       "    <tr>\n",
       "      <th>2</th>\n",
       "      <td>1889-01-03 12:00:00</td>\n",
       "      <td>-36.25</td>\n",
       "      <td>-35.0</td>\n",
       "      <td>140.625</td>\n",
       "      <td>142.5</td>\n",
       "      <td>0.000000e+00</td>\n",
       "      <td>ACCESS-CM2</td>\n",
       "    </tr>\n",
       "    <tr>\n",
       "      <th>3</th>\n",
       "      <td>1889-01-04 12:00:00</td>\n",
       "      <td>-36.25</td>\n",
       "      <td>-35.0</td>\n",
       "      <td>140.625</td>\n",
       "      <td>142.5</td>\n",
       "      <td>0.000000e+00</td>\n",
       "      <td>ACCESS-CM2</td>\n",
       "    </tr>\n",
       "    <tr>\n",
       "      <th>4</th>\n",
       "      <td>1889-01-05 12:00:00</td>\n",
       "      <td>-36.25</td>\n",
       "      <td>-35.0</td>\n",
       "      <td>140.625</td>\n",
       "      <td>142.5</td>\n",
       "      <td>1.047658e-02</td>\n",
       "      <td>ACCESS-CM2</td>\n",
       "    </tr>\n",
       "  </tbody>\n",
       "</table>\n",
       "</div>"
      ],
      "text/plain": [
       "                 time  lat_min  lat_max  lon_min  lon_max  rain (mm/day)  \\\n",
       "0 1889-01-01 12:00:00   -36.25    -35.0  140.625    142.5   3.293256e-13   \n",
       "1 1889-01-02 12:00:00   -36.25    -35.0  140.625    142.5   0.000000e+00   \n",
       "2 1889-01-03 12:00:00   -36.25    -35.0  140.625    142.5   0.000000e+00   \n",
       "3 1889-01-04 12:00:00   -36.25    -35.0  140.625    142.5   0.000000e+00   \n",
       "4 1889-01-05 12:00:00   -36.25    -35.0  140.625    142.5   1.047658e-02   \n",
       "\n",
       "        model  \n",
       "0  ACCESS-CM2  \n",
       "1  ACCESS-CM2  \n",
       "2  ACCESS-CM2  \n",
       "3  ACCESS-CM2  \n",
       "4  ACCESS-CM2  "
      ]
     },
     "execution_count": 84,
     "metadata": {},
     "output_type": "execute_result"
    }
   ],
   "source": [
    "rainfall = pd.read_parquet(\n",
    "    \"figshare/combined_model_data_parti.parquet\")\n",
    "rainfall.head()"
   ]
  },
  {
   "cell_type": "code",
   "execution_count": 85,
   "id": "48065796-337f-43d3-ac33-cd22fafbee98",
   "metadata": {},
   "outputs": [
    {
     "data": {
      "text/html": [
       "<div>\n",
       "<style scoped>\n",
       "    .dataframe tbody tr th:only-of-type {\n",
       "        vertical-align: middle;\n",
       "    }\n",
       "\n",
       "    .dataframe tbody tr th {\n",
       "        vertical-align: top;\n",
       "    }\n",
       "\n",
       "    .dataframe thead th {\n",
       "        text-align: right;\n",
       "    }\n",
       "</style>\n",
       "<table border=\"1\" class=\"dataframe\">\n",
       "  <thead>\n",
       "    <tr style=\"text-align: right;\">\n",
       "      <th></th>\n",
       "      <th>rain (mm/day)</th>\n",
       "    </tr>\n",
       "    <tr>\n",
       "      <th>time</th>\n",
       "      <th></th>\n",
       "    </tr>\n",
       "  </thead>\n",
       "  <tbody>\n",
       "    <tr>\n",
       "      <th>1889-01-01</th>\n",
       "      <td>0.006612</td>\n",
       "    </tr>\n",
       "    <tr>\n",
       "      <th>1889-01-02</th>\n",
       "      <td>0.090422</td>\n",
       "    </tr>\n",
       "    <tr>\n",
       "      <th>1889-01-03</th>\n",
       "      <td>1.401452</td>\n",
       "    </tr>\n",
       "    <tr>\n",
       "      <th>1889-01-04</th>\n",
       "      <td>14.869798</td>\n",
       "    </tr>\n",
       "    <tr>\n",
       "      <th>1889-01-05</th>\n",
       "      <td>0.467628</td>\n",
       "    </tr>\n",
       "  </tbody>\n",
       "</table>\n",
       "</div>"
      ],
      "text/plain": [
       "            rain (mm/day)\n",
       "time                     \n",
       "1889-01-01       0.006612\n",
       "1889-01-02       0.090422\n",
       "1889-01-03       1.401452\n",
       "1889-01-04      14.869798\n",
       "1889-01-05       0.467628"
      ]
     },
     "execution_count": 85,
     "metadata": {},
     "output_type": "execute_result"
    }
   ],
   "source": [
    "observed_rainfall = pd.read_csv('figshare/observed_daily_rainfall_SYD.csv', parse_dates=[\"time\"])\n",
    "observed_rainfall.set_index('time', inplace=True)\n",
    "observed_rainfall.head()"
   ]
  },
  {
   "cell_type": "code",
   "execution_count": 86,
   "id": "4cdc5f3a-ff49-4077-9de0-6ec24c09d298",
   "metadata": {},
   "outputs": [
    {
     "data": {
      "text/html": [
       "<div>\n",
       "<style scoped>\n",
       "    .dataframe tbody tr th:only-of-type {\n",
       "        vertical-align: middle;\n",
       "    }\n",
       "\n",
       "    .dataframe tbody tr th {\n",
       "        vertical-align: top;\n",
       "    }\n",
       "\n",
       "    .dataframe thead th {\n",
       "        text-align: right;\n",
       "    }\n",
       "</style>\n",
       "<table border=\"1\" class=\"dataframe\">\n",
       "  <thead>\n",
       "    <tr style=\"text-align: right;\">\n",
       "      <th></th>\n",
       "      <th>rain (mm/day)</th>\n",
       "      <th>model</th>\n",
       "    </tr>\n",
       "    <tr>\n",
       "      <th>time</th>\n",
       "      <th></th>\n",
       "      <th></th>\n",
       "    </tr>\n",
       "  </thead>\n",
       "  <tbody>\n",
       "    <tr>\n",
       "      <th>1889-01-01</th>\n",
       "      <td>0.040427</td>\n",
       "      <td>ACCESS-CM2</td>\n",
       "    </tr>\n",
       "    <tr>\n",
       "      <th>1889-01-02</th>\n",
       "      <td>0.073777</td>\n",
       "      <td>ACCESS-CM2</td>\n",
       "    </tr>\n",
       "    <tr>\n",
       "      <th>1889-01-03</th>\n",
       "      <td>0.232656</td>\n",
       "      <td>ACCESS-CM2</td>\n",
       "    </tr>\n",
       "    <tr>\n",
       "      <th>1889-01-04</th>\n",
       "      <td>0.911319</td>\n",
       "      <td>ACCESS-CM2</td>\n",
       "    </tr>\n",
       "    <tr>\n",
       "      <th>1889-01-05</th>\n",
       "      <td>0.698013</td>\n",
       "      <td>ACCESS-CM2</td>\n",
       "    </tr>\n",
       "  </tbody>\n",
       "</table>\n",
       "</div>"
      ],
      "text/plain": [
       "            rain (mm/day)       model\n",
       "time                                 \n",
       "1889-01-01       0.040427  ACCESS-CM2\n",
       "1889-01-02       0.073777  ACCESS-CM2\n",
       "1889-01-03       0.232656  ACCESS-CM2\n",
       "1889-01-04       0.911319  ACCESS-CM2\n",
       "1889-01-05       0.698013  ACCESS-CM2"
      ]
     },
     "execution_count": 86,
     "metadata": {},
     "output_type": "execute_result"
    }
   ],
   "source": [
    "sydney_rainfall = rainfall.query(\"lat_min <= -33.86 and lat_max >= -33.86 and lon_min <= 151.21 and lon_max >= 151.21\")\n",
    "sydney_rainfall = sydney_rainfall[['time', 'rain (mm/day)', 'model']]\n",
    "sydney_rainfall['time'] = pd.to_datetime(sydney_rainfall[\"time\"]).dt.date\n",
    "sydney_rainfall = sydney_rainfall.set_index('time')\n",
    "sydney_rainfall.head()"
   ]
  },
  {
   "cell_type": "code",
   "execution_count": 87,
   "id": "7318e973-c922-4a25-9808-8907d778e35e",
   "metadata": {},
   "outputs": [
    {
     "data": {
      "text/plain": [
       "(1150049, 2)"
      ]
     },
     "execution_count": 87,
     "metadata": {},
     "output_type": "execute_result"
    }
   ],
   "source": [
    "sydney_rainfall.shape"
   ]
  },
  {
   "cell_type": "code",
   "execution_count": 88,
   "id": "d48750e0-fa59-4135-84ed-a17173a35972",
   "metadata": {},
   "outputs": [
    {
     "data": {
      "text/plain": [
       "(46020, 1)"
      ]
     },
     "execution_count": 88,
     "metadata": {},
     "output_type": "execute_result"
    }
   ],
   "source": [
    "observed_rainfall.shape"
   ]
  },
  {
   "cell_type": "code",
   "execution_count": 89,
   "id": "64ca1d01-51a6-40c3-ab26-86ecc0c67f88",
   "metadata": {},
   "outputs": [
    {
     "data": {
      "text/html": [
       "<div>\n",
       "<style scoped>\n",
       "    .dataframe tbody tr th:only-of-type {\n",
       "        vertical-align: middle;\n",
       "    }\n",
       "\n",
       "    .dataframe tbody tr th {\n",
       "        vertical-align: top;\n",
       "    }\n",
       "\n",
       "    .dataframe thead th {\n",
       "        text-align: right;\n",
       "    }\n",
       "</style>\n",
       "<table border=\"1\" class=\"dataframe\">\n",
       "  <thead>\n",
       "    <tr style=\"text-align: right;\">\n",
       "      <th></th>\n",
       "      <th>ACCESS-CM2</th>\n",
       "      <th>ACCESS-ESM1-5</th>\n",
       "      <th>AWI-ESM-1-1-LR</th>\n",
       "      <th>BCC-CSM2-MR</th>\n",
       "      <th>BCC-ESM1</th>\n",
       "      <th>CMCC-CM2-HR4</th>\n",
       "      <th>CMCC-CM2-SR5</th>\n",
       "      <th>CMCC-ESM2</th>\n",
       "      <th>CanESM5</th>\n",
       "      <th>EC-Earth3-Veg-LR</th>\n",
       "      <th>...</th>\n",
       "      <th>MIROC6</th>\n",
       "      <th>MPI-ESM-1-2-HAM</th>\n",
       "      <th>MPI-ESM1-2-HR</th>\n",
       "      <th>MPI-ESM1-2-LR</th>\n",
       "      <th>MRI-ESM2-0</th>\n",
       "      <th>NESM3</th>\n",
       "      <th>NorESM2-LM</th>\n",
       "      <th>NorESM2-MM</th>\n",
       "      <th>SAM0-UNICON</th>\n",
       "      <th>TaiESM1</th>\n",
       "    </tr>\n",
       "    <tr>\n",
       "      <th>time</th>\n",
       "      <th></th>\n",
       "      <th></th>\n",
       "      <th></th>\n",
       "      <th></th>\n",
       "      <th></th>\n",
       "      <th></th>\n",
       "      <th></th>\n",
       "      <th></th>\n",
       "      <th></th>\n",
       "      <th></th>\n",
       "      <th></th>\n",
       "      <th></th>\n",
       "      <th></th>\n",
       "      <th></th>\n",
       "      <th></th>\n",
       "      <th></th>\n",
       "      <th></th>\n",
       "      <th></th>\n",
       "      <th></th>\n",
       "      <th></th>\n",
       "      <th></th>\n",
       "    </tr>\n",
       "  </thead>\n",
       "  <tbody>\n",
       "    <tr>\n",
       "      <th>1889-01-01</th>\n",
       "      <td>0.040427</td>\n",
       "      <td>1.814552</td>\n",
       "      <td>35.579336</td>\n",
       "      <td>4.268112e+00</td>\n",
       "      <td>1.107466e-03</td>\n",
       "      <td>11.410537</td>\n",
       "      <td>3.322009e-08</td>\n",
       "      <td>2.668800</td>\n",
       "      <td>1.321215</td>\n",
       "      <td>1.515293</td>\n",
       "      <td>...</td>\n",
       "      <td>0.648031</td>\n",
       "      <td>4.244226e-13</td>\n",
       "      <td>1.390174e-13</td>\n",
       "      <td>6.537884e-05</td>\n",
       "      <td>3.445495e-06</td>\n",
       "      <td>1.576096e+01</td>\n",
       "      <td>4.759651e-05</td>\n",
       "      <td>2.451075</td>\n",
       "      <td>0.221324</td>\n",
       "      <td>2.257933</td>\n",
       "    </tr>\n",
       "    <tr>\n",
       "      <th>1889-01-02</th>\n",
       "      <td>0.073777</td>\n",
       "      <td>0.303965</td>\n",
       "      <td>4.596520</td>\n",
       "      <td>1.190141e+00</td>\n",
       "      <td>1.015323e-04</td>\n",
       "      <td>4.014984</td>\n",
       "      <td>1.312700e+00</td>\n",
       "      <td>0.946211</td>\n",
       "      <td>2.788724</td>\n",
       "      <td>4.771375</td>\n",
       "      <td>...</td>\n",
       "      <td>1.099883</td>\n",
       "      <td>4.409552e+00</td>\n",
       "      <td>1.222283e-01</td>\n",
       "      <td>1.049131e-13</td>\n",
       "      <td>4.791993e-09</td>\n",
       "      <td>3.675510e-01</td>\n",
       "      <td>4.350863e-01</td>\n",
       "      <td>0.477231</td>\n",
       "      <td>3.757179</td>\n",
       "      <td>2.287381</td>\n",
       "    </tr>\n",
       "    <tr>\n",
       "      <th>1889-01-03</th>\n",
       "      <td>0.232656</td>\n",
       "      <td>0.019976</td>\n",
       "      <td>5.927467</td>\n",
       "      <td>1.003845e-09</td>\n",
       "      <td>1.760345e-05</td>\n",
       "      <td>9.660565</td>\n",
       "      <td>9.103720e+00</td>\n",
       "      <td>0.431999</td>\n",
       "      <td>0.003672</td>\n",
       "      <td>4.233980</td>\n",
       "      <td>...</td>\n",
       "      <td>3.931751</td>\n",
       "      <td>2.269300e-01</td>\n",
       "      <td>3.762301e-01</td>\n",
       "      <td>9.758706e-14</td>\n",
       "      <td>6.912302e-01</td>\n",
       "      <td>1.562869e-01</td>\n",
       "      <td>9.561101e+00</td>\n",
       "      <td>0.023083</td>\n",
       "      <td>0.253357</td>\n",
       "      <td>1.199909</td>\n",
       "    </tr>\n",
       "    <tr>\n",
       "      <th>1889-01-04</th>\n",
       "      <td>0.911319</td>\n",
       "      <td>13.623777</td>\n",
       "      <td>8.029624</td>\n",
       "      <td>8.225225e-02</td>\n",
       "      <td>1.808932e-01</td>\n",
       "      <td>3.951528</td>\n",
       "      <td>1.317160e+01</td>\n",
       "      <td>0.368693</td>\n",
       "      <td>0.013578</td>\n",
       "      <td>15.252495</td>\n",
       "      <td>...</td>\n",
       "      <td>0.627365</td>\n",
       "      <td>2.344586e-02</td>\n",
       "      <td>4.214019e-01</td>\n",
       "      <td>7.060915e-03</td>\n",
       "      <td>3.835721e-02</td>\n",
       "      <td>2.472226e-07</td>\n",
       "      <td>5.301038e-01</td>\n",
       "      <td>0.002699</td>\n",
       "      <td>2.185454</td>\n",
       "      <td>2.106737</td>\n",
       "    </tr>\n",
       "    <tr>\n",
       "      <th>1889-01-05</th>\n",
       "      <td>0.698013</td>\n",
       "      <td>0.021048</td>\n",
       "      <td>2.132686</td>\n",
       "      <td>2.496841e+00</td>\n",
       "      <td>4.708019e-09</td>\n",
       "      <td>2.766362</td>\n",
       "      <td>1.822940e+01</td>\n",
       "      <td>0.339267</td>\n",
       "      <td>0.002468</td>\n",
       "      <td>11.920356</td>\n",
       "      <td>...</td>\n",
       "      <td>0.019777</td>\n",
       "      <td>4.270161e-13</td>\n",
       "      <td>1.879692e-01</td>\n",
       "      <td>4.504985e+00</td>\n",
       "      <td>3.506923e-07</td>\n",
       "      <td>1.949792e-13</td>\n",
       "      <td>1.460928e-10</td>\n",
       "      <td>0.001026</td>\n",
       "      <td>2.766507</td>\n",
       "      <td>1.763335</td>\n",
       "    </tr>\n",
       "  </tbody>\n",
       "</table>\n",
       "<p>5 rows × 25 columns</p>\n",
       "</div>"
      ],
      "text/plain": [
       "            ACCESS-CM2  ACCESS-ESM1-5  AWI-ESM-1-1-LR   BCC-CSM2-MR  \\\n",
       "time                                                                  \n",
       "1889-01-01    0.040427       1.814552       35.579336  4.268112e+00   \n",
       "1889-01-02    0.073777       0.303965        4.596520  1.190141e+00   \n",
       "1889-01-03    0.232656       0.019976        5.927467  1.003845e-09   \n",
       "1889-01-04    0.911319      13.623777        8.029624  8.225225e-02   \n",
       "1889-01-05    0.698013       0.021048        2.132686  2.496841e+00   \n",
       "\n",
       "                BCC-ESM1  CMCC-CM2-HR4  CMCC-CM2-SR5  CMCC-ESM2   CanESM5  \\\n",
       "time                                                                        \n",
       "1889-01-01  1.107466e-03     11.410537  3.322009e-08   2.668800  1.321215   \n",
       "1889-01-02  1.015323e-04      4.014984  1.312700e+00   0.946211  2.788724   \n",
       "1889-01-03  1.760345e-05      9.660565  9.103720e+00   0.431999  0.003672   \n",
       "1889-01-04  1.808932e-01      3.951528  1.317160e+01   0.368693  0.013578   \n",
       "1889-01-05  4.708019e-09      2.766362  1.822940e+01   0.339267  0.002468   \n",
       "\n",
       "            EC-Earth3-Veg-LR  ...    MIROC6  MPI-ESM-1-2-HAM  MPI-ESM1-2-HR  \\\n",
       "time                          ...                                             \n",
       "1889-01-01          1.515293  ...  0.648031     4.244226e-13   1.390174e-13   \n",
       "1889-01-02          4.771375  ...  1.099883     4.409552e+00   1.222283e-01   \n",
       "1889-01-03          4.233980  ...  3.931751     2.269300e-01   3.762301e-01   \n",
       "1889-01-04         15.252495  ...  0.627365     2.344586e-02   4.214019e-01   \n",
       "1889-01-05         11.920356  ...  0.019777     4.270161e-13   1.879692e-01   \n",
       "\n",
       "            MPI-ESM1-2-LR    MRI-ESM2-0         NESM3    NorESM2-LM  \\\n",
       "time                                                                  \n",
       "1889-01-01   6.537884e-05  3.445495e-06  1.576096e+01  4.759651e-05   \n",
       "1889-01-02   1.049131e-13  4.791993e-09  3.675510e-01  4.350863e-01   \n",
       "1889-01-03   9.758706e-14  6.912302e-01  1.562869e-01  9.561101e+00   \n",
       "1889-01-04   7.060915e-03  3.835721e-02  2.472226e-07  5.301038e-01   \n",
       "1889-01-05   4.504985e+00  3.506923e-07  1.949792e-13  1.460928e-10   \n",
       "\n",
       "            NorESM2-MM  SAM0-UNICON   TaiESM1  \n",
       "time                                           \n",
       "1889-01-01    2.451075     0.221324  2.257933  \n",
       "1889-01-02    0.477231     3.757179  2.287381  \n",
       "1889-01-03    0.023083     0.253357  1.199909  \n",
       "1889-01-04    0.002699     2.185454  2.106737  \n",
       "1889-01-05    0.001026     2.766507  1.763335  \n",
       "\n",
       "[5 rows x 25 columns]"
      ]
     },
     "execution_count": 89,
     "metadata": {},
     "output_type": "execute_result"
    }
   ],
   "source": [
    "# Pivot\n",
    "pivot_sydney_rainfall = (sydney_rainfall.reset_index().pivot(index='time', \n",
    "                                                             columns='model', \n",
    "                                                             values = 'rain (mm/day)').rename_axis(None, axis=1))\n",
    "\n",
    "pivot_sydney_rainfall.head()"
   ]
  },
  {
   "cell_type": "code",
   "execution_count": 90,
   "id": "d13af1ca-7c5f-4575-90ed-5de5ca0f10fc",
   "metadata": {},
   "outputs": [
    {
     "data": {
      "text/html": [
       "<div>\n",
       "<style scoped>\n",
       "    .dataframe tbody tr th:only-of-type {\n",
       "        vertical-align: middle;\n",
       "    }\n",
       "\n",
       "    .dataframe tbody tr th {\n",
       "        vertical-align: top;\n",
       "    }\n",
       "\n",
       "    .dataframe thead th {\n",
       "        text-align: right;\n",
       "    }\n",
       "</style>\n",
       "<table border=\"1\" class=\"dataframe\">\n",
       "  <thead>\n",
       "    <tr style=\"text-align: right;\">\n",
       "      <th></th>\n",
       "      <th>ACCESS-CM2</th>\n",
       "      <th>ACCESS-ESM1-5</th>\n",
       "      <th>AWI-ESM-1-1-LR</th>\n",
       "      <th>BCC-CSM2-MR</th>\n",
       "      <th>BCC-ESM1</th>\n",
       "      <th>CMCC-CM2-HR4</th>\n",
       "      <th>CMCC-CM2-SR5</th>\n",
       "      <th>CMCC-ESM2</th>\n",
       "      <th>CanESM5</th>\n",
       "      <th>EC-Earth3-Veg-LR</th>\n",
       "      <th>...</th>\n",
       "      <th>MPI-ESM-1-2-HAM</th>\n",
       "      <th>MPI-ESM1-2-HR</th>\n",
       "      <th>MPI-ESM1-2-LR</th>\n",
       "      <th>MRI-ESM2-0</th>\n",
       "      <th>NESM3</th>\n",
       "      <th>NorESM2-LM</th>\n",
       "      <th>NorESM2-MM</th>\n",
       "      <th>SAM0-UNICON</th>\n",
       "      <th>TaiESM1</th>\n",
       "      <th>observed_rainfall</th>\n",
       "    </tr>\n",
       "    <tr>\n",
       "      <th>time</th>\n",
       "      <th></th>\n",
       "      <th></th>\n",
       "      <th></th>\n",
       "      <th></th>\n",
       "      <th></th>\n",
       "      <th></th>\n",
       "      <th></th>\n",
       "      <th></th>\n",
       "      <th></th>\n",
       "      <th></th>\n",
       "      <th></th>\n",
       "      <th></th>\n",
       "      <th></th>\n",
       "      <th></th>\n",
       "      <th></th>\n",
       "      <th></th>\n",
       "      <th></th>\n",
       "      <th></th>\n",
       "      <th></th>\n",
       "      <th></th>\n",
       "      <th></th>\n",
       "    </tr>\n",
       "  </thead>\n",
       "  <tbody>\n",
       "    <tr>\n",
       "      <th>1889-01-01</th>\n",
       "      <td>0.040427</td>\n",
       "      <td>1.814552</td>\n",
       "      <td>35.579336</td>\n",
       "      <td>4.268112e+00</td>\n",
       "      <td>1.107466e-03</td>\n",
       "      <td>11.410537</td>\n",
       "      <td>3.322009e-08</td>\n",
       "      <td>2.668800</td>\n",
       "      <td>1.321215</td>\n",
       "      <td>1.515293</td>\n",
       "      <td>...</td>\n",
       "      <td>4.244226e-13</td>\n",
       "      <td>1.390174e-13</td>\n",
       "      <td>6.537884e-05</td>\n",
       "      <td>3.445495e-06</td>\n",
       "      <td>1.576096e+01</td>\n",
       "      <td>4.759651e-05</td>\n",
       "      <td>2.451075</td>\n",
       "      <td>0.221324</td>\n",
       "      <td>2.257933</td>\n",
       "      <td>0.006612</td>\n",
       "    </tr>\n",
       "    <tr>\n",
       "      <th>1889-01-02</th>\n",
       "      <td>0.073777</td>\n",
       "      <td>0.303965</td>\n",
       "      <td>4.596520</td>\n",
       "      <td>1.190141e+00</td>\n",
       "      <td>1.015323e-04</td>\n",
       "      <td>4.014984</td>\n",
       "      <td>1.312700e+00</td>\n",
       "      <td>0.946211</td>\n",
       "      <td>2.788724</td>\n",
       "      <td>4.771375</td>\n",
       "      <td>...</td>\n",
       "      <td>4.409552e+00</td>\n",
       "      <td>1.222283e-01</td>\n",
       "      <td>1.049131e-13</td>\n",
       "      <td>4.791993e-09</td>\n",
       "      <td>3.675510e-01</td>\n",
       "      <td>4.350863e-01</td>\n",
       "      <td>0.477231</td>\n",
       "      <td>3.757179</td>\n",
       "      <td>2.287381</td>\n",
       "      <td>0.090422</td>\n",
       "    </tr>\n",
       "    <tr>\n",
       "      <th>1889-01-03</th>\n",
       "      <td>0.232656</td>\n",
       "      <td>0.019976</td>\n",
       "      <td>5.927467</td>\n",
       "      <td>1.003845e-09</td>\n",
       "      <td>1.760345e-05</td>\n",
       "      <td>9.660565</td>\n",
       "      <td>9.103720e+00</td>\n",
       "      <td>0.431999</td>\n",
       "      <td>0.003672</td>\n",
       "      <td>4.233980</td>\n",
       "      <td>...</td>\n",
       "      <td>2.269300e-01</td>\n",
       "      <td>3.762301e-01</td>\n",
       "      <td>9.758706e-14</td>\n",
       "      <td>6.912302e-01</td>\n",
       "      <td>1.562869e-01</td>\n",
       "      <td>9.561101e+00</td>\n",
       "      <td>0.023083</td>\n",
       "      <td>0.253357</td>\n",
       "      <td>1.199909</td>\n",
       "      <td>1.401452</td>\n",
       "    </tr>\n",
       "    <tr>\n",
       "      <th>1889-01-04</th>\n",
       "      <td>0.911319</td>\n",
       "      <td>13.623777</td>\n",
       "      <td>8.029624</td>\n",
       "      <td>8.225225e-02</td>\n",
       "      <td>1.808932e-01</td>\n",
       "      <td>3.951528</td>\n",
       "      <td>1.317160e+01</td>\n",
       "      <td>0.368693</td>\n",
       "      <td>0.013578</td>\n",
       "      <td>15.252495</td>\n",
       "      <td>...</td>\n",
       "      <td>2.344586e-02</td>\n",
       "      <td>4.214019e-01</td>\n",
       "      <td>7.060915e-03</td>\n",
       "      <td>3.835721e-02</td>\n",
       "      <td>2.472226e-07</td>\n",
       "      <td>5.301038e-01</td>\n",
       "      <td>0.002699</td>\n",
       "      <td>2.185454</td>\n",
       "      <td>2.106737</td>\n",
       "      <td>14.869798</td>\n",
       "    </tr>\n",
       "    <tr>\n",
       "      <th>1889-01-05</th>\n",
       "      <td>0.698013</td>\n",
       "      <td>0.021048</td>\n",
       "      <td>2.132686</td>\n",
       "      <td>2.496841e+00</td>\n",
       "      <td>4.708019e-09</td>\n",
       "      <td>2.766362</td>\n",
       "      <td>1.822940e+01</td>\n",
       "      <td>0.339267</td>\n",
       "      <td>0.002468</td>\n",
       "      <td>11.920356</td>\n",
       "      <td>...</td>\n",
       "      <td>4.270161e-13</td>\n",
       "      <td>1.879692e-01</td>\n",
       "      <td>4.504985e+00</td>\n",
       "      <td>3.506923e-07</td>\n",
       "      <td>1.949792e-13</td>\n",
       "      <td>1.460928e-10</td>\n",
       "      <td>0.001026</td>\n",
       "      <td>2.766507</td>\n",
       "      <td>1.763335</td>\n",
       "      <td>0.467628</td>\n",
       "    </tr>\n",
       "  </tbody>\n",
       "</table>\n",
       "<p>5 rows × 26 columns</p>\n",
       "</div>"
      ],
      "text/plain": [
       "            ACCESS-CM2  ACCESS-ESM1-5  AWI-ESM-1-1-LR   BCC-CSM2-MR  \\\n",
       "time                                                                  \n",
       "1889-01-01    0.040427       1.814552       35.579336  4.268112e+00   \n",
       "1889-01-02    0.073777       0.303965        4.596520  1.190141e+00   \n",
       "1889-01-03    0.232656       0.019976        5.927467  1.003845e-09   \n",
       "1889-01-04    0.911319      13.623777        8.029624  8.225225e-02   \n",
       "1889-01-05    0.698013       0.021048        2.132686  2.496841e+00   \n",
       "\n",
       "                BCC-ESM1  CMCC-CM2-HR4  CMCC-CM2-SR5  CMCC-ESM2   CanESM5  \\\n",
       "time                                                                        \n",
       "1889-01-01  1.107466e-03     11.410537  3.322009e-08   2.668800  1.321215   \n",
       "1889-01-02  1.015323e-04      4.014984  1.312700e+00   0.946211  2.788724   \n",
       "1889-01-03  1.760345e-05      9.660565  9.103720e+00   0.431999  0.003672   \n",
       "1889-01-04  1.808932e-01      3.951528  1.317160e+01   0.368693  0.013578   \n",
       "1889-01-05  4.708019e-09      2.766362  1.822940e+01   0.339267  0.002468   \n",
       "\n",
       "            EC-Earth3-Veg-LR  ...  MPI-ESM-1-2-HAM  MPI-ESM1-2-HR  \\\n",
       "time                          ...                                   \n",
       "1889-01-01          1.515293  ...     4.244226e-13   1.390174e-13   \n",
       "1889-01-02          4.771375  ...     4.409552e+00   1.222283e-01   \n",
       "1889-01-03          4.233980  ...     2.269300e-01   3.762301e-01   \n",
       "1889-01-04         15.252495  ...     2.344586e-02   4.214019e-01   \n",
       "1889-01-05         11.920356  ...     4.270161e-13   1.879692e-01   \n",
       "\n",
       "            MPI-ESM1-2-LR    MRI-ESM2-0         NESM3    NorESM2-LM  \\\n",
       "time                                                                  \n",
       "1889-01-01   6.537884e-05  3.445495e-06  1.576096e+01  4.759651e-05   \n",
       "1889-01-02   1.049131e-13  4.791993e-09  3.675510e-01  4.350863e-01   \n",
       "1889-01-03   9.758706e-14  6.912302e-01  1.562869e-01  9.561101e+00   \n",
       "1889-01-04   7.060915e-03  3.835721e-02  2.472226e-07  5.301038e-01   \n",
       "1889-01-05   4.504985e+00  3.506923e-07  1.949792e-13  1.460928e-10   \n",
       "\n",
       "            NorESM2-MM  SAM0-UNICON   TaiESM1  observed_rainfall  \n",
       "time                                                              \n",
       "1889-01-01    2.451075     0.221324  2.257933           0.006612  \n",
       "1889-01-02    0.477231     3.757179  2.287381           0.090422  \n",
       "1889-01-03    0.023083     0.253357  1.199909           1.401452  \n",
       "1889-01-04    0.002699     2.185454  2.106737          14.869798  \n",
       "1889-01-05    0.001026     2.766507  1.763335           0.467628  \n",
       "\n",
       "[5 rows x 26 columns]"
      ]
     },
     "execution_count": 90,
     "metadata": {},
     "output_type": "execute_result"
    }
   ],
   "source": [
    "pivot_sydney_rainfall[\"observed_rainfall\"] = observed_rainfall[\"rain (mm/day)\"]\n",
    "pivot_sydney_rainfall.head()"
   ]
  },
  {
   "cell_type": "code",
   "execution_count": 91,
   "id": "8a07e9f6-b026-437d-ae97-0269a9aa9c1a",
   "metadata": {},
   "outputs": [
    {
     "data": {
      "text/plain": [
       "(46020, 26)"
      ]
     },
     "execution_count": 91,
     "metadata": {},
     "output_type": "execute_result"
    }
   ],
   "source": [
    "pivot_sydney_rainfall.shape"
   ]
  },
  {
   "cell_type": "code",
   "execution_count": null,
   "id": "e93aebab-b988-4619-b788-d11396d28c18",
   "metadata": {},
   "outputs": [],
   "source": []
  },
  {
   "cell_type": "markdown",
   "id": "79fbbce5",
   "metadata": {},
   "source": [
    "How the final file format looks like\n",
    "https://github.ubc.ca/mds-2021-22/DSCI_525_web-cloud-comp_students/blob/master/release/milestone2/image/finaloutput.png\n",
    "\n",
    "Shape ```(46020,26 )```"
   ]
  },
  {
   "cell_type": "markdown",
   "id": "9578c8c1",
   "metadata": {},
   "source": [
    "(***OPTIONAL***) If you are interested in doing some benchmarking!! How much time it took to read..\n",
    "- Parquet file from your local disk ?\n",
    "- Parquet file from s3 ?\n",
    "- CSV file from s3 ?\n",
    "    For that, upload the CSV file (```combined_model_data.csv```\n",
    "     )to S3 and try to read it instead of parquet. "
   ]
  },
  {
   "cell_type": "markdown",
   "id": "fffd4117-2c3d-4d05-829d-6aeffae3b693",
   "metadata": {},
   "source": [
    "#### Reading time \n",
    "\n",
    "| Method |Time taken |\n",
    "|:-----------:|:----------:|\n",
    "| Parquet file from your local disk  | 2min 59s |\n",
    "| Parquet file from s3    |     |\n",
    "| CSV file from s3|             |\n",
    "  "
   ]
  },
  {
   "cell_type": "code",
   "execution_count": null,
   "id": "5cd4e59c",
   "metadata": {},
   "outputs": [],
   "source": []
  }
 ],
 "metadata": {
  "kernelspec": {
   "display_name": "Python [conda env:525_2022]",
   "language": "python",
   "name": "conda-env-525_2022-py"
  },
  "language_info": {
   "codemirror_mode": {
    "name": "ipython",
    "version": 3
   },
   "file_extension": ".py",
   "mimetype": "text/x-python",
   "name": "python",
   "nbconvert_exporter": "python",
   "pygments_lexer": "ipython3",
   "version": "3.8.6"
  }
 },
 "nbformat": 4,
 "nbformat_minor": 5
}
