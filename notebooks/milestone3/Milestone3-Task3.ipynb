{
 "cells": [
  {
   "cell_type": "markdown",
   "metadata": {},
   "source": [
    "# Task 3"
   ]
  },
  {
   "cell_type": "markdown",
   "metadata": {},
   "source": [
    "# Imports"
   ]
  },
  {
   "cell_type": "code",
   "execution_count": 1,
   "metadata": {},
   "outputs": [],
   "source": [
    "import numpy as np\n",
    "import pandas as pd\n",
    "from joblib import dump, load\n",
    "from sklearn.metrics import mean_squared_error\n",
    "from sklearn.ensemble import RandomForestRegressor\n",
    "from sklearn.model_selection import train_test_split\n",
    "import matplotlib.pyplot as plt\n",
    "plt.style.use('ggplot')\n",
    "plt.rcParams.update({'font.size': 16, 'axes.labelweight': 'bold', 'figure.figsize': (8,6)})\n",
    "## add any other additional packages that you need. You are free to use any packages for vizualization."
   ]
  },
  {
   "cell_type": "markdown",
   "metadata": {},
   "source": [
    "## Part 1:"
   ]
  },
  {
   "cell_type": "markdown",
   "metadata": {},
   "source": [
    "Recall as a final goal of this project. We want to build and deploy ensemble machine learning models in the cloud, where features are outputs of different climate models and the target is the actual rainfall observation. In this milestone, you'll actually build these ensemble machine learning models in the cloud.  \n",
    "\n",
    "**Your tasks:**\n",
    "\n",
    "1. Read the data CSV from your s3 bucket. \n",
    "2. Drop rows with nans. \n",
    "3. Split the data into train (80%) and test (20%) portions with `random_state=123`. \n",
    "4. Carry out EDA of your choice on the train split. \n",
    "5. Train ensemble machine learning model using `RandomForestRegressor` and evaluate with metric of your choice (e.g., `RMSE`) by considering `Observed` as the target column. \n",
    "6. Discuss your results. Are you getting better results with ensemble models compared to the individual climate models? \n",
    "\n",
    "> Recall that individual columns in the data are predictions of different climate models. "
   ]
  },
  {
   "cell_type": "markdown",
   "metadata": {},
   "source": [
    "## Step 1: Read the data from S3"
   ]
  },
  {
   "cell_type": "code",
   "execution_count": 2,
   "metadata": {},
   "outputs": [],
   "source": [
    "df = pd.read_csv(\"s3://mds-s3-001/output/ml_data_SYD.csv\", index_col=0, parse_dates=True)"
   ]
  },
  {
   "cell_type": "code",
   "execution_count": 3,
   "metadata": {},
   "outputs": [],
   "source": [
    "#df = pd.read_csv(\"ml_data_SYD.csv\", index_col=0, parse_dates=True)"
   ]
  },
  {
   "cell_type": "code",
   "execution_count": 4,
   "metadata": {},
   "outputs": [
    {
     "data": {
      "text/plain": [
       "(46020, 26)"
      ]
     },
     "execution_count": 4,
     "metadata": {},
     "output_type": "execute_result"
    }
   ],
   "source": [
    "df.shape"
   ]
  },
  {
   "cell_type": "code",
   "execution_count": 5,
   "metadata": {},
   "outputs": [
    {
     "data": {
      "text/html": [
       "<div>\n",
       "<style scoped>\n",
       "    .dataframe tbody tr th:only-of-type {\n",
       "        vertical-align: middle;\n",
       "    }\n",
       "\n",
       "    .dataframe tbody tr th {\n",
       "        vertical-align: top;\n",
       "    }\n",
       "\n",
       "    .dataframe thead th {\n",
       "        text-align: right;\n",
       "    }\n",
       "</style>\n",
       "<table border=\"1\" class=\"dataframe\">\n",
       "  <thead>\n",
       "    <tr style=\"text-align: right;\">\n",
       "      <th></th>\n",
       "      <th>ACCESS-CM2</th>\n",
       "      <th>ACCESS-ESM1-5</th>\n",
       "      <th>AWI-ESM-1-1-LR</th>\n",
       "      <th>BCC-CSM2-MR</th>\n",
       "      <th>BCC-ESM1</th>\n",
       "      <th>CMCC-CM2-HR4</th>\n",
       "      <th>CMCC-CM2-SR5</th>\n",
       "      <th>CMCC-ESM2</th>\n",
       "      <th>CanESM5</th>\n",
       "      <th>EC-Earth3-Veg-LR</th>\n",
       "      <th>...</th>\n",
       "      <th>MPI-ESM-1-2-HAM</th>\n",
       "      <th>MPI-ESM1-2-HR</th>\n",
       "      <th>MPI-ESM1-2-LR</th>\n",
       "      <th>MRI-ESM2-0</th>\n",
       "      <th>NESM3</th>\n",
       "      <th>NorESM2-LM</th>\n",
       "      <th>NorESM2-MM</th>\n",
       "      <th>SAM0-UNICON</th>\n",
       "      <th>TaiESM1</th>\n",
       "      <th>observed_rainfall</th>\n",
       "    </tr>\n",
       "    <tr>\n",
       "      <th>time</th>\n",
       "      <th></th>\n",
       "      <th></th>\n",
       "      <th></th>\n",
       "      <th></th>\n",
       "      <th></th>\n",
       "      <th></th>\n",
       "      <th></th>\n",
       "      <th></th>\n",
       "      <th></th>\n",
       "      <th></th>\n",
       "      <th></th>\n",
       "      <th></th>\n",
       "      <th></th>\n",
       "      <th></th>\n",
       "      <th></th>\n",
       "      <th></th>\n",
       "      <th></th>\n",
       "      <th></th>\n",
       "      <th></th>\n",
       "      <th></th>\n",
       "      <th></th>\n",
       "    </tr>\n",
       "  </thead>\n",
       "  <tbody>\n",
       "    <tr>\n",
       "      <th>1889-01-01</th>\n",
       "      <td>0.040427</td>\n",
       "      <td>1.814552</td>\n",
       "      <td>35.579336</td>\n",
       "      <td>4.268112e+00</td>\n",
       "      <td>1.107466e-03</td>\n",
       "      <td>11.410537</td>\n",
       "      <td>3.322009e-08</td>\n",
       "      <td>2.668800</td>\n",
       "      <td>1.321215</td>\n",
       "      <td>1.515293</td>\n",
       "      <td>...</td>\n",
       "      <td>4.244226e-13</td>\n",
       "      <td>1.390174e-13</td>\n",
       "      <td>6.537884e-05</td>\n",
       "      <td>3.445495e-06</td>\n",
       "      <td>1.576096e+01</td>\n",
       "      <td>4.759651e-05</td>\n",
       "      <td>2.451075</td>\n",
       "      <td>0.221324</td>\n",
       "      <td>2.257933</td>\n",
       "      <td>0.006612</td>\n",
       "    </tr>\n",
       "    <tr>\n",
       "      <th>1889-01-02</th>\n",
       "      <td>0.073777</td>\n",
       "      <td>0.303965</td>\n",
       "      <td>4.596520</td>\n",
       "      <td>1.190141e+00</td>\n",
       "      <td>1.015323e-04</td>\n",
       "      <td>4.014984</td>\n",
       "      <td>1.312700e+00</td>\n",
       "      <td>0.946211</td>\n",
       "      <td>2.788724</td>\n",
       "      <td>4.771375</td>\n",
       "      <td>...</td>\n",
       "      <td>4.409552e+00</td>\n",
       "      <td>1.222283e-01</td>\n",
       "      <td>1.049131e-13</td>\n",
       "      <td>4.791993e-09</td>\n",
       "      <td>3.675510e-01</td>\n",
       "      <td>4.350863e-01</td>\n",
       "      <td>0.477231</td>\n",
       "      <td>3.757179</td>\n",
       "      <td>2.287381</td>\n",
       "      <td>0.090422</td>\n",
       "    </tr>\n",
       "    <tr>\n",
       "      <th>1889-01-03</th>\n",
       "      <td>0.232656</td>\n",
       "      <td>0.019976</td>\n",
       "      <td>5.927467</td>\n",
       "      <td>1.003845e-09</td>\n",
       "      <td>1.760345e-05</td>\n",
       "      <td>9.660565</td>\n",
       "      <td>9.103720e+00</td>\n",
       "      <td>0.431999</td>\n",
       "      <td>0.003672</td>\n",
       "      <td>4.233980</td>\n",
       "      <td>...</td>\n",
       "      <td>2.269300e-01</td>\n",
       "      <td>3.762301e-01</td>\n",
       "      <td>9.758706e-14</td>\n",
       "      <td>6.912302e-01</td>\n",
       "      <td>1.562869e-01</td>\n",
       "      <td>9.561101e+00</td>\n",
       "      <td>0.023083</td>\n",
       "      <td>0.253357</td>\n",
       "      <td>1.199909</td>\n",
       "      <td>1.401452</td>\n",
       "    </tr>\n",
       "    <tr>\n",
       "      <th>1889-01-04</th>\n",
       "      <td>0.911319</td>\n",
       "      <td>13.623777</td>\n",
       "      <td>8.029624</td>\n",
       "      <td>8.225225e-02</td>\n",
       "      <td>1.808932e-01</td>\n",
       "      <td>3.951528</td>\n",
       "      <td>1.317160e+01</td>\n",
       "      <td>0.368693</td>\n",
       "      <td>0.013578</td>\n",
       "      <td>15.252495</td>\n",
       "      <td>...</td>\n",
       "      <td>2.344586e-02</td>\n",
       "      <td>4.214019e-01</td>\n",
       "      <td>7.060915e-03</td>\n",
       "      <td>3.835721e-02</td>\n",
       "      <td>2.472226e-07</td>\n",
       "      <td>5.301038e-01</td>\n",
       "      <td>0.002699</td>\n",
       "      <td>2.185454</td>\n",
       "      <td>2.106737</td>\n",
       "      <td>14.869798</td>\n",
       "    </tr>\n",
       "    <tr>\n",
       "      <th>1889-01-05</th>\n",
       "      <td>0.698013</td>\n",
       "      <td>0.021048</td>\n",
       "      <td>2.132686</td>\n",
       "      <td>2.496841e+00</td>\n",
       "      <td>4.708019e-09</td>\n",
       "      <td>2.766362</td>\n",
       "      <td>1.822940e+01</td>\n",
       "      <td>0.339267</td>\n",
       "      <td>0.002468</td>\n",
       "      <td>11.920356</td>\n",
       "      <td>...</td>\n",
       "      <td>4.270161e-13</td>\n",
       "      <td>1.879692e-01</td>\n",
       "      <td>4.504985e+00</td>\n",
       "      <td>3.506923e-07</td>\n",
       "      <td>1.949792e-13</td>\n",
       "      <td>1.460928e-10</td>\n",
       "      <td>0.001026</td>\n",
       "      <td>2.766507</td>\n",
       "      <td>1.763335</td>\n",
       "      <td>0.467628</td>\n",
       "    </tr>\n",
       "  </tbody>\n",
       "</table>\n",
       "<p>5 rows × 26 columns</p>\n",
       "</div>"
      ],
      "text/plain": [
       "            ACCESS-CM2  ACCESS-ESM1-5  AWI-ESM-1-1-LR   BCC-CSM2-MR  \\\n",
       "time                                                                  \n",
       "1889-01-01    0.040427       1.814552       35.579336  4.268112e+00   \n",
       "1889-01-02    0.073777       0.303965        4.596520  1.190141e+00   \n",
       "1889-01-03    0.232656       0.019976        5.927467  1.003845e-09   \n",
       "1889-01-04    0.911319      13.623777        8.029624  8.225225e-02   \n",
       "1889-01-05    0.698013       0.021048        2.132686  2.496841e+00   \n",
       "\n",
       "                BCC-ESM1  CMCC-CM2-HR4  CMCC-CM2-SR5  CMCC-ESM2   CanESM5  \\\n",
       "time                                                                        \n",
       "1889-01-01  1.107466e-03     11.410537  3.322009e-08   2.668800  1.321215   \n",
       "1889-01-02  1.015323e-04      4.014984  1.312700e+00   0.946211  2.788724   \n",
       "1889-01-03  1.760345e-05      9.660565  9.103720e+00   0.431999  0.003672   \n",
       "1889-01-04  1.808932e-01      3.951528  1.317160e+01   0.368693  0.013578   \n",
       "1889-01-05  4.708019e-09      2.766362  1.822940e+01   0.339267  0.002468   \n",
       "\n",
       "            EC-Earth3-Veg-LR  ...  MPI-ESM-1-2-HAM  MPI-ESM1-2-HR  \\\n",
       "time                          ...                                   \n",
       "1889-01-01          1.515293  ...     4.244226e-13   1.390174e-13   \n",
       "1889-01-02          4.771375  ...     4.409552e+00   1.222283e-01   \n",
       "1889-01-03          4.233980  ...     2.269300e-01   3.762301e-01   \n",
       "1889-01-04         15.252495  ...     2.344586e-02   4.214019e-01   \n",
       "1889-01-05         11.920356  ...     4.270161e-13   1.879692e-01   \n",
       "\n",
       "            MPI-ESM1-2-LR    MRI-ESM2-0         NESM3    NorESM2-LM  \\\n",
       "time                                                                  \n",
       "1889-01-01   6.537884e-05  3.445495e-06  1.576096e+01  4.759651e-05   \n",
       "1889-01-02   1.049131e-13  4.791993e-09  3.675510e-01  4.350863e-01   \n",
       "1889-01-03   9.758706e-14  6.912302e-01  1.562869e-01  9.561101e+00   \n",
       "1889-01-04   7.060915e-03  3.835721e-02  2.472226e-07  5.301038e-01   \n",
       "1889-01-05   4.504985e+00  3.506923e-07  1.949792e-13  1.460928e-10   \n",
       "\n",
       "            NorESM2-MM  SAM0-UNICON   TaiESM1  observed_rainfall  \n",
       "time                                                              \n",
       "1889-01-01    2.451075     0.221324  2.257933           0.006612  \n",
       "1889-01-02    0.477231     3.757179  2.287381           0.090422  \n",
       "1889-01-03    0.023083     0.253357  1.199909           1.401452  \n",
       "1889-01-04    0.002699     2.185454  2.106737          14.869798  \n",
       "1889-01-05    0.001026     2.766507  1.763335           0.467628  \n",
       "\n",
       "[5 rows x 26 columns]"
      ]
     },
     "execution_count": 5,
     "metadata": {},
     "output_type": "execute_result"
    }
   ],
   "source": [
    "df.head()"
   ]
  },
  {
   "cell_type": "markdown",
   "metadata": {},
   "source": [
    "## Step 2: Drop rows with nans"
   ]
  },
  {
   "cell_type": "code",
   "execution_count": 6,
   "metadata": {},
   "outputs": [
    {
     "data": {
      "text/plain": [
       "(45989, 26)"
      ]
     },
     "execution_count": 6,
     "metadata": {},
     "output_type": "execute_result"
    }
   ],
   "source": [
    "df = df.dropna()\n",
    "\n",
    "df.shape"
   ]
  },
  {
   "cell_type": "markdown",
   "metadata": {},
   "source": [
    "## Step 3: Train test Split"
   ]
  },
  {
   "cell_type": "code",
   "execution_count": 7,
   "metadata": {},
   "outputs": [],
   "source": [
    "train_df, test_df = train_test_split(df, test_size=0.2, random_state=123)\n",
    "\n",
    "X_train, y_train = train_df.drop(columns=\"observed_rainfall\"), train_df[\"observed_rainfall\"]\n",
    "X_test, y_test = test_df.drop(columns=\"observed_rainfall\"), test_df[\"observed_rainfall\"]"
   ]
  },
  {
   "cell_type": "markdown",
   "metadata": {},
   "source": [
    "## Step 4: EDA and observations"
   ]
  },
  {
   "cell_type": "code",
   "execution_count": 8,
   "metadata": {},
   "outputs": [
    {
     "data": {
      "text/plain": [
       "(36791, 26)"
      ]
     },
     "execution_count": 8,
     "metadata": {},
     "output_type": "execute_result"
    }
   ],
   "source": [
    "train_df.shape"
   ]
  },
  {
   "cell_type": "markdown",
   "metadata": {},
   "source": [
    "**Observation:**\n",
    "\n",
    "There are 36,791 data in the train data frame, and there are 25 features (individual models) for predicting rainfalls in Sidney. And there is one target, which is the observed rainfall"
   ]
  },
  {
   "cell_type": "code",
   "execution_count": 9,
   "metadata": {},
   "outputs": [
    {
     "data": {
      "text/html": [
       "<div>\n",
       "<style scoped>\n",
       "    .dataframe tbody tr th:only-of-type {\n",
       "        vertical-align: middle;\n",
       "    }\n",
       "\n",
       "    .dataframe tbody tr th {\n",
       "        vertical-align: top;\n",
       "    }\n",
       "\n",
       "    .dataframe thead th {\n",
       "        text-align: right;\n",
       "    }\n",
       "</style>\n",
       "<table border=\"1\" class=\"dataframe\">\n",
       "  <thead>\n",
       "    <tr style=\"text-align: right;\">\n",
       "      <th></th>\n",
       "      <th>count</th>\n",
       "      <th>mean</th>\n",
       "      <th>std</th>\n",
       "      <th>min</th>\n",
       "      <th>25%</th>\n",
       "      <th>50%</th>\n",
       "      <th>75%</th>\n",
       "      <th>max</th>\n",
       "    </tr>\n",
       "  </thead>\n",
       "  <tbody>\n",
       "    <tr>\n",
       "      <th>ACCESS-CM2</th>\n",
       "      <td>36791.0</td>\n",
       "      <td>2.429419</td>\n",
       "      <td>6.791374</td>\n",
       "      <td>0.000000e+00</td>\n",
       "      <td>5.410842e-02</td>\n",
       "      <td>0.192980</td>\n",
       "      <td>1.445456</td>\n",
       "      <td>149.967634</td>\n",
       "    </tr>\n",
       "    <tr>\n",
       "      <th>ACCESS-ESM1-5</th>\n",
       "      <td>36791.0</td>\n",
       "      <td>2.938955</td>\n",
       "      <td>7.048794</td>\n",
       "      <td>0.000000e+00</td>\n",
       "      <td>2.124827e-02</td>\n",
       "      <td>0.492758</td>\n",
       "      <td>2.398539</td>\n",
       "      <td>157.605713</td>\n",
       "    </tr>\n",
       "    <tr>\n",
       "      <th>AWI-ESM-1-1-LR</th>\n",
       "      <td>36791.0</td>\n",
       "      <td>3.716329</td>\n",
       "      <td>7.280859</td>\n",
       "      <td>9.161142e-14</td>\n",
       "      <td>2.961787e-02</td>\n",
       "      <td>0.592315</td>\n",
       "      <td>3.601697</td>\n",
       "      <td>89.465749</td>\n",
       "    </tr>\n",
       "    <tr>\n",
       "      <th>BCC-CSM2-MR</th>\n",
       "      <td>36791.0</td>\n",
       "      <td>2.203086</td>\n",
       "      <td>6.518224</td>\n",
       "      <td>4.211430e-24</td>\n",
       "      <td>5.089918e-04</td>\n",
       "      <td>0.096441</td>\n",
       "      <td>1.318940</td>\n",
       "      <td>134.465223</td>\n",
       "    </tr>\n",
       "    <tr>\n",
       "      <th>BCC-ESM1</th>\n",
       "      <td>36791.0</td>\n",
       "      <td>2.748441</td>\n",
       "      <td>5.997439</td>\n",
       "      <td>1.091904e-24</td>\n",
       "      <td>2.381995e-03</td>\n",
       "      <td>0.298651</td>\n",
       "      <td>2.477893</td>\n",
       "      <td>87.134722</td>\n",
       "    </tr>\n",
       "    <tr>\n",
       "      <th>CMCC-CM2-HR4</th>\n",
       "      <td>36791.0</td>\n",
       "      <td>3.092784</td>\n",
       "      <td>6.459254</td>\n",
       "      <td>0.000000e+00</td>\n",
       "      <td>1.383154e-01</td>\n",
       "      <td>0.633548</td>\n",
       "      <td>3.182630</td>\n",
       "      <td>124.952390</td>\n",
       "    </tr>\n",
       "    <tr>\n",
       "      <th>CMCC-CM2-SR5</th>\n",
       "      <td>36791.0</td>\n",
       "      <td>3.575203</td>\n",
       "      <td>7.353451</td>\n",
       "      <td>-4.503054e-17</td>\n",
       "      <td>8.899328e-02</td>\n",
       "      <td>0.827889</td>\n",
       "      <td>3.727703</td>\n",
       "      <td>140.147801</td>\n",
       "    </tr>\n",
       "    <tr>\n",
       "      <th>CMCC-ESM2</th>\n",
       "      <td>36791.0</td>\n",
       "      <td>3.489756</td>\n",
       "      <td>7.039201</td>\n",
       "      <td>-3.186177e-19</td>\n",
       "      <td>9.271159e-02</td>\n",
       "      <td>0.848624</td>\n",
       "      <td>3.629963</td>\n",
       "      <td>137.591559</td>\n",
       "    </tr>\n",
       "    <tr>\n",
       "      <th>CanESM5</th>\n",
       "      <td>36791.0</td>\n",
       "      <td>2.879339</td>\n",
       "      <td>6.898890</td>\n",
       "      <td>0.000000e+00</td>\n",
       "      <td>2.249343e-02</td>\n",
       "      <td>0.337613</td>\n",
       "      <td>2.558854</td>\n",
       "      <td>135.569753</td>\n",
       "    </tr>\n",
       "    <tr>\n",
       "      <th>EC-Earth3-Veg-LR</th>\n",
       "      <td>36791.0</td>\n",
       "      <td>2.565430</td>\n",
       "      <td>5.732742</td>\n",
       "      <td>-9.934637e-19</td>\n",
       "      <td>1.201630e-02</td>\n",
       "      <td>0.429678</td>\n",
       "      <td>2.295852</td>\n",
       "      <td>96.423818</td>\n",
       "    </tr>\n",
       "    <tr>\n",
       "      <th>FGOALS-g3</th>\n",
       "      <td>36791.0</td>\n",
       "      <td>1.735850</td>\n",
       "      <td>4.472613</td>\n",
       "      <td>0.000000e+00</td>\n",
       "      <td>2.711776e-02</td>\n",
       "      <td>0.285408</td>\n",
       "      <td>1.335663</td>\n",
       "      <td>105.090247</td>\n",
       "    </tr>\n",
       "    <tr>\n",
       "      <th>GFDL-CM4</th>\n",
       "      <td>36791.0</td>\n",
       "      <td>1.804218</td>\n",
       "      <td>5.715438</td>\n",
       "      <td>0.000000e+00</td>\n",
       "      <td>3.880399e-03</td>\n",
       "      <td>0.121130</td>\n",
       "      <td>0.946704</td>\n",
       "      <td>123.151082</td>\n",
       "    </tr>\n",
       "    <tr>\n",
       "      <th>INM-CM4-8</th>\n",
       "      <td>36791.0</td>\n",
       "      <td>3.859644</td>\n",
       "      <td>7.555400</td>\n",
       "      <td>0.000000e+00</td>\n",
       "      <td>1.154701e-01</td>\n",
       "      <td>1.220051</td>\n",
       "      <td>4.206049</td>\n",
       "      <td>134.261623</td>\n",
       "    </tr>\n",
       "    <tr>\n",
       "      <th>INM-CM5-0</th>\n",
       "      <td>36791.0</td>\n",
       "      <td>4.078760</td>\n",
       "      <td>8.279935</td>\n",
       "      <td>0.000000e+00</td>\n",
       "      <td>8.168302e-02</td>\n",
       "      <td>1.165983</td>\n",
       "      <td>4.260509</td>\n",
       "      <td>133.973785</td>\n",
       "    </tr>\n",
       "    <tr>\n",
       "      <th>KIOST-ESM</th>\n",
       "      <td>36791.0</td>\n",
       "      <td>1.683288</td>\n",
       "      <td>4.262038</td>\n",
       "      <td>0.000000e+00</td>\n",
       "      <td>1.950224e-02</td>\n",
       "      <td>0.292295</td>\n",
       "      <td>1.570500</td>\n",
       "      <td>100.232418</td>\n",
       "    </tr>\n",
       "    <tr>\n",
       "      <th>MIROC6</th>\n",
       "      <td>36791.0</td>\n",
       "      <td>3.117144</td>\n",
       "      <td>7.797983</td>\n",
       "      <td>1.044483e-31</td>\n",
       "      <td>1.872492e-02</td>\n",
       "      <td>0.350660</td>\n",
       "      <td>2.290873</td>\n",
       "      <td>167.149938</td>\n",
       "    </tr>\n",
       "    <tr>\n",
       "      <th>MPI-ESM-1-2-HAM</th>\n",
       "      <td>36791.0</td>\n",
       "      <td>3.213535</td>\n",
       "      <td>6.979341</td>\n",
       "      <td>3.315622e-13</td>\n",
       "      <td>1.169275e-04</td>\n",
       "      <td>0.208184</td>\n",
       "      <td>2.699071</td>\n",
       "      <td>93.067661</td>\n",
       "    </tr>\n",
       "    <tr>\n",
       "      <th>MPI-ESM1-2-HR</th>\n",
       "      <td>36791.0</td>\n",
       "      <td>1.299377</td>\n",
       "      <td>4.890737</td>\n",
       "      <td>1.088608e-13</td>\n",
       "      <td>1.270013e-13</td>\n",
       "      <td>0.001579</td>\n",
       "      <td>0.346546</td>\n",
       "      <td>109.500784</td>\n",
       "    </tr>\n",
       "    <tr>\n",
       "      <th>MPI-ESM1-2-LR</th>\n",
       "      <td>36791.0</td>\n",
       "      <td>2.041242</td>\n",
       "      <td>5.347782</td>\n",
       "      <td>9.155419e-14</td>\n",
       "      <td>1.358104e-13</td>\n",
       "      <td>0.114036</td>\n",
       "      <td>1.192421</td>\n",
       "      <td>74.843685</td>\n",
       "    </tr>\n",
       "    <tr>\n",
       "      <th>MRI-ESM2-0</th>\n",
       "      <td>36791.0</td>\n",
       "      <td>1.533212</td>\n",
       "      <td>5.000287</td>\n",
       "      <td>9.479186e-33</td>\n",
       "      <td>5.380599e-05</td>\n",
       "      <td>0.031856</td>\n",
       "      <td>0.673265</td>\n",
       "      <td>101.690024</td>\n",
       "    </tr>\n",
       "    <tr>\n",
       "      <th>NESM3</th>\n",
       "      <td>36791.0</td>\n",
       "      <td>1.726792</td>\n",
       "      <td>4.872754</td>\n",
       "      <td>1.435053e-13</td>\n",
       "      <td>1.866808e-13</td>\n",
       "      <td>0.049897</td>\n",
       "      <td>0.787474</td>\n",
       "      <td>80.457832</td>\n",
       "    </tr>\n",
       "    <tr>\n",
       "      <th>NorESM2-LM</th>\n",
       "      <td>36791.0</td>\n",
       "      <td>2.458268</td>\n",
       "      <td>5.815333</td>\n",
       "      <td>0.000000e+00</td>\n",
       "      <td>5.478007e-03</td>\n",
       "      <td>0.169617</td>\n",
       "      <td>1.822582</td>\n",
       "      <td>114.898109</td>\n",
       "    </tr>\n",
       "    <tr>\n",
       "      <th>NorESM2-MM</th>\n",
       "      <td>36791.0</td>\n",
       "      <td>2.890478</td>\n",
       "      <td>7.129072</td>\n",
       "      <td>0.000000e+00</td>\n",
       "      <td>1.001294e-02</td>\n",
       "      <td>0.255937</td>\n",
       "      <td>2.450690</td>\n",
       "      <td>163.164524</td>\n",
       "    </tr>\n",
       "    <tr>\n",
       "      <th>SAM0-UNICON</th>\n",
       "      <td>36791.0</td>\n",
       "      <td>3.383557</td>\n",
       "      <td>7.927354</td>\n",
       "      <td>-3.604673e-17</td>\n",
       "      <td>3.651962e-02</td>\n",
       "      <td>0.653992</td>\n",
       "      <td>3.275132</td>\n",
       "      <td>154.971771</td>\n",
       "    </tr>\n",
       "    <tr>\n",
       "      <th>TaiESM1</th>\n",
       "      <td>36791.0</td>\n",
       "      <td>3.417809</td>\n",
       "      <td>7.558577</td>\n",
       "      <td>-2.148475e-14</td>\n",
       "      <td>4.934874e-02</td>\n",
       "      <td>0.667542</td>\n",
       "      <td>3.234430</td>\n",
       "      <td>167.356173</td>\n",
       "    </tr>\n",
       "    <tr>\n",
       "      <th>observed_rainfall</th>\n",
       "      <td>36791.0</td>\n",
       "      <td>2.726320</td>\n",
       "      <td>8.078310</td>\n",
       "      <td>0.000000e+00</td>\n",
       "      <td>8.083568e-03</td>\n",
       "      <td>0.163215</td>\n",
       "      <td>1.612815</td>\n",
       "      <td>192.933030</td>\n",
       "    </tr>\n",
       "  </tbody>\n",
       "</table>\n",
       "</div>"
      ],
      "text/plain": [
       "                     count      mean       std           min           25%  \\\n",
       "ACCESS-CM2         36791.0  2.429419  6.791374  0.000000e+00  5.410842e-02   \n",
       "ACCESS-ESM1-5      36791.0  2.938955  7.048794  0.000000e+00  2.124827e-02   \n",
       "AWI-ESM-1-1-LR     36791.0  3.716329  7.280859  9.161142e-14  2.961787e-02   \n",
       "BCC-CSM2-MR        36791.0  2.203086  6.518224  4.211430e-24  5.089918e-04   \n",
       "BCC-ESM1           36791.0  2.748441  5.997439  1.091904e-24  2.381995e-03   \n",
       "CMCC-CM2-HR4       36791.0  3.092784  6.459254  0.000000e+00  1.383154e-01   \n",
       "CMCC-CM2-SR5       36791.0  3.575203  7.353451 -4.503054e-17  8.899328e-02   \n",
       "CMCC-ESM2          36791.0  3.489756  7.039201 -3.186177e-19  9.271159e-02   \n",
       "CanESM5            36791.0  2.879339  6.898890  0.000000e+00  2.249343e-02   \n",
       "EC-Earth3-Veg-LR   36791.0  2.565430  5.732742 -9.934637e-19  1.201630e-02   \n",
       "FGOALS-g3          36791.0  1.735850  4.472613  0.000000e+00  2.711776e-02   \n",
       "GFDL-CM4           36791.0  1.804218  5.715438  0.000000e+00  3.880399e-03   \n",
       "INM-CM4-8          36791.0  3.859644  7.555400  0.000000e+00  1.154701e-01   \n",
       "INM-CM5-0          36791.0  4.078760  8.279935  0.000000e+00  8.168302e-02   \n",
       "KIOST-ESM          36791.0  1.683288  4.262038  0.000000e+00  1.950224e-02   \n",
       "MIROC6             36791.0  3.117144  7.797983  1.044483e-31  1.872492e-02   \n",
       "MPI-ESM-1-2-HAM    36791.0  3.213535  6.979341  3.315622e-13  1.169275e-04   \n",
       "MPI-ESM1-2-HR      36791.0  1.299377  4.890737  1.088608e-13  1.270013e-13   \n",
       "MPI-ESM1-2-LR      36791.0  2.041242  5.347782  9.155419e-14  1.358104e-13   \n",
       "MRI-ESM2-0         36791.0  1.533212  5.000287  9.479186e-33  5.380599e-05   \n",
       "NESM3              36791.0  1.726792  4.872754  1.435053e-13  1.866808e-13   \n",
       "NorESM2-LM         36791.0  2.458268  5.815333  0.000000e+00  5.478007e-03   \n",
       "NorESM2-MM         36791.0  2.890478  7.129072  0.000000e+00  1.001294e-02   \n",
       "SAM0-UNICON        36791.0  3.383557  7.927354 -3.604673e-17  3.651962e-02   \n",
       "TaiESM1            36791.0  3.417809  7.558577 -2.148475e-14  4.934874e-02   \n",
       "observed_rainfall  36791.0  2.726320  8.078310  0.000000e+00  8.083568e-03   \n",
       "\n",
       "                        50%       75%         max  \n",
       "ACCESS-CM2         0.192980  1.445456  149.967634  \n",
       "ACCESS-ESM1-5      0.492758  2.398539  157.605713  \n",
       "AWI-ESM-1-1-LR     0.592315  3.601697   89.465749  \n",
       "BCC-CSM2-MR        0.096441  1.318940  134.465223  \n",
       "BCC-ESM1           0.298651  2.477893   87.134722  \n",
       "CMCC-CM2-HR4       0.633548  3.182630  124.952390  \n",
       "CMCC-CM2-SR5       0.827889  3.727703  140.147801  \n",
       "CMCC-ESM2          0.848624  3.629963  137.591559  \n",
       "CanESM5            0.337613  2.558854  135.569753  \n",
       "EC-Earth3-Veg-LR   0.429678  2.295852   96.423818  \n",
       "FGOALS-g3          0.285408  1.335663  105.090247  \n",
       "GFDL-CM4           0.121130  0.946704  123.151082  \n",
       "INM-CM4-8          1.220051  4.206049  134.261623  \n",
       "INM-CM5-0          1.165983  4.260509  133.973785  \n",
       "KIOST-ESM          0.292295  1.570500  100.232418  \n",
       "MIROC6             0.350660  2.290873  167.149938  \n",
       "MPI-ESM-1-2-HAM    0.208184  2.699071   93.067661  \n",
       "MPI-ESM1-2-HR      0.001579  0.346546  109.500784  \n",
       "MPI-ESM1-2-LR      0.114036  1.192421   74.843685  \n",
       "MRI-ESM2-0         0.031856  0.673265  101.690024  \n",
       "NESM3              0.049897  0.787474   80.457832  \n",
       "NorESM2-LM         0.169617  1.822582  114.898109  \n",
       "NorESM2-MM         0.255937  2.450690  163.164524  \n",
       "SAM0-UNICON        0.653992  3.275132  154.971771  \n",
       "TaiESM1            0.667542  3.234430  167.356173  \n",
       "observed_rainfall  0.163215  1.612815  192.933030  "
      ]
     },
     "execution_count": 9,
     "metadata": {},
     "output_type": "execute_result"
    }
   ],
   "source": [
    "train_df.describe().T"
   ]
  },
  {
   "cell_type": "markdown",
   "metadata": {},
   "source": [
    "**Observation:**\n",
    "\n",
    "Across different models, the predicted rainfall has similar mean values and standard deviations. Also, all minimum values are quite close to 0. However, the maximum values varies a lot between different models as some models give around 167, while other models return as low as 74. "
   ]
  },
  {
   "cell_type": "code",
   "execution_count": 10,
   "metadata": {},
   "outputs": [
    {
     "data": {
      "text/plain": [
       "ACCESS-CM2          2.429419\n",
       "ACCESS-ESM1-5       2.938955\n",
       "AWI-ESM-1-1-LR      3.716329\n",
       "BCC-CSM2-MR         2.203086\n",
       "BCC-ESM1            2.748441\n",
       "CMCC-CM2-HR4        3.092784\n",
       "CMCC-CM2-SR5        3.575203\n",
       "CMCC-ESM2           3.489756\n",
       "CanESM5             2.879339\n",
       "EC-Earth3-Veg-LR    2.565430\n",
       "FGOALS-g3           1.735850\n",
       "GFDL-CM4            1.804218\n",
       "INM-CM4-8           3.859644\n",
       "INM-CM5-0           4.078760\n",
       "KIOST-ESM           1.683288\n",
       "MIROC6              3.117144\n",
       "MPI-ESM-1-2-HAM     3.213535\n",
       "MPI-ESM1-2-HR       1.299377\n",
       "MPI-ESM1-2-LR       2.041242\n",
       "MRI-ESM2-0          1.533212\n",
       "NESM3               1.726792\n",
       "NorESM2-LM          2.458268\n",
       "NorESM2-MM          2.890478\n",
       "SAM0-UNICON         3.383557\n",
       "TaiESM1             3.417809\n",
       "dtype: float64"
      ]
     },
     "execution_count": 10,
     "metadata": {},
     "output_type": "execute_result"
    }
   ],
   "source": [
    "train_df.loc[:, train_df.columns != 'observed_rainfall'].mean()"
   ]
  },
  {
   "cell_type": "markdown",
   "metadata": {},
   "source": [
    "**Observations:**\n",
    "\n",
    "I took the average of predicted rainfall for different models. As we can see above, model INM-CM5-0 returns the highest average amount of rainfall, while model MPI-ESM1-2-HR returns the lowest average amount of rainfall."
   ]
  },
  {
   "cell_type": "code",
   "execution_count": 11,
   "metadata": {},
   "outputs": [
    {
     "data": {
      "image/png": "[encoded data removed]",
      "text/plain": [
       "<Figure size 576x432 with 1 Axes>"
      ]
     },
     "metadata": {},
     "output_type": "display_data"
    }
   ],
   "source": [
    "plt.hist(train_df['observed_rainfall'], bins = 100)\n",
    "plt.xlabel('Actual amount of rainfall')\n",
    "plt.ylabel('Counts')\n",
    "plt.title('Distribution of observed rainfall (target)');"
   ]
  },
  {
   "cell_type": "markdown",
   "metadata": {},
   "source": [
    "**Observation:**\n",
    "\n",
    "This is a significantly right-skewed distribution. It illustrates that Sidney barely rain as 0 observed rainfall is the most common instance and 0 observed rainfall accounts for much higher proportion than other amounts of rainfall. It may indicate that individual models may predict no rainfall much more frequent than other numbers of amount. "
   ]
  },
  {
   "cell_type": "code",
   "execution_count": 12,
   "metadata": {},
   "outputs": [
    {
     "data": {
      "image/png": "[encoded data removed]",
      "text/plain": [
       "<Figure size 576x432 with 1 Axes>"
      ]
     },
     "metadata": {},
     "output_type": "display_data"
    }
   ],
   "source": [
    "plt.hist(train_df.loc[:, train_df.columns != 'observed_rainfall'], bins = 100)\n",
    "plt.legend(train_df.loc[:, train_df.columns != 'observed_rainfall'].columns.values.tolist(),\n",
    "           loc='center left', \n",
    "           bbox_to_anchor=(1, 0.5), \n",
    "           prop={'size': 8})\n",
    "plt.xlabel('Predicted rainfall')\n",
    "plt.ylabel('Counts')\n",
    "plt.title('Distribution of predicted rainfall');"
   ]
  },
  {
   "cell_type": "markdown",
   "metadata": {},
   "source": [
    "**Observation:**\n",
    "\n",
    "As we guessed before, individual models predict 0 amount of rainfall as the most frequent answer."
   ]
  },
  {
   "cell_type": "markdown",
   "metadata": {},
   "source": [
    "## Step 5: Train and evaluate the machine learning model"
   ]
  },
  {
   "cell_type": "code",
   "execution_count": 13,
   "metadata": {},
   "outputs": [
    {
     "data": {
      "text/plain": [
       "RandomForestRegressor(random_state=123)"
      ]
     },
     "execution_count": 13,
     "metadata": {},
     "output_type": "execute_result"
    }
   ],
   "source": [
    "model_untuned = RandomForestRegressor(random_state=123)\n",
    "model_untuned.fit(X_train, y_train)"
   ]
  },
  {
   "cell_type": "code",
   "execution_count": 14,
   "metadata": {},
   "outputs": [
    {
     "data": {
      "text/html": [
       "<div>\n",
       "<style scoped>\n",
       "    .dataframe tbody tr th:only-of-type {\n",
       "        vertical-align: middle;\n",
       "    }\n",
       "\n",
       "    .dataframe tbody tr th {\n",
       "        vertical-align: top;\n",
       "    }\n",
       "\n",
       "    .dataframe thead th {\n",
       "        text-align: right;\n",
       "    }\n",
       "</style>\n",
       "<table border=\"1\" class=\"dataframe\">\n",
       "  <thead>\n",
       "    <tr style=\"text-align: right;\">\n",
       "      <th></th>\n",
       "      <th>Model</th>\n",
       "      <th>RMSE</th>\n",
       "    </tr>\n",
       "  </thead>\n",
       "  <tbody>\n",
       "    <tr>\n",
       "      <th>0</th>\n",
       "      <td>Ensembled Model</td>\n",
       "      <td>8.860048</td>\n",
       "    </tr>\n",
       "  </tbody>\n",
       "</table>\n",
       "</div>"
      ],
      "text/plain": [
       "             Model      RMSE\n",
       "0  Ensembled Model  8.860048"
      ]
     },
     "execution_count": 14,
     "metadata": {},
     "output_type": "execute_result"
    }
   ],
   "source": [
    "data = {'Model': ['Ensembled Model'], 'RMSE': [mean_squared_error(y_test, model_untuned.predict(X_test), squared=False)]} \n",
    "\n",
    "result_df = pd.DataFrame(data).reset_index(drop=True)\n",
    "\n",
    "result_df"
   ]
  },
  {
   "cell_type": "markdown",
   "metadata": {},
   "source": [
    "## Step 6: Discuss results"
   ]
  },
  {
   "cell_type": "code",
   "execution_count": 15,
   "metadata": {},
   "outputs": [
    {
     "data": {
      "text/html": [
       "<div>\n",
       "<style scoped>\n",
       "    .dataframe tbody tr th:only-of-type {\n",
       "        vertical-align: middle;\n",
       "    }\n",
       "\n",
       "    .dataframe tbody tr th {\n",
       "        vertical-align: top;\n",
       "    }\n",
       "\n",
       "    .dataframe thead th {\n",
       "        text-align: right;\n",
       "    }\n",
       "</style>\n",
       "<table border=\"1\" class=\"dataframe\">\n",
       "  <thead>\n",
       "    <tr style=\"text-align: right;\">\n",
       "      <th></th>\n",
       "      <th>RMSE</th>\n",
       "    </tr>\n",
       "  </thead>\n",
       "  <tbody>\n",
       "    <tr>\n",
       "      <th>INM-CM5-0</th>\n",
       "      <td>12.250223</td>\n",
       "    </tr>\n",
       "    <tr>\n",
       "      <th>SAM0-UNICON</th>\n",
       "      <td>11.678749</td>\n",
       "    </tr>\n",
       "    <tr>\n",
       "      <th>TaiESM1</th>\n",
       "      <td>11.528083</td>\n",
       "    </tr>\n",
       "    <tr>\n",
       "      <th>CMCC-CM2-SR5</th>\n",
       "      <td>11.480614</td>\n",
       "    </tr>\n",
       "    <tr>\n",
       "      <th>INM-CM4-8</th>\n",
       "      <td>11.451635</td>\n",
       "    </tr>\n",
       "    <tr>\n",
       "      <th>MIROC6</th>\n",
       "      <td>11.352976</td>\n",
       "    </tr>\n",
       "    <tr>\n",
       "      <th>CMCC-ESM2</th>\n",
       "      <td>11.246493</td>\n",
       "    </tr>\n",
       "    <tr>\n",
       "      <th>CanESM5</th>\n",
       "      <td>11.151318</td>\n",
       "    </tr>\n",
       "    <tr>\n",
       "      <th>ACCESS-CM2</th>\n",
       "      <td>11.038999</td>\n",
       "    </tr>\n",
       "    <tr>\n",
       "      <th>AWI-ESM-1-1-LR</th>\n",
       "      <td>10.996616</td>\n",
       "    </tr>\n",
       "    <tr>\n",
       "      <th>NorESM2-MM</th>\n",
       "      <td>10.939740</td>\n",
       "    </tr>\n",
       "    <tr>\n",
       "      <th>MPI-ESM-1-2-HAM</th>\n",
       "      <td>10.932004</td>\n",
       "    </tr>\n",
       "    <tr>\n",
       "      <th>BCC-CSM2-MR</th>\n",
       "      <td>10.761381</td>\n",
       "    </tr>\n",
       "    <tr>\n",
       "      <th>ACCESS-ESM1-5</th>\n",
       "      <td>10.695305</td>\n",
       "    </tr>\n",
       "    <tr>\n",
       "      <th>CMCC-CM2-HR4</th>\n",
       "      <td>10.643204</td>\n",
       "    </tr>\n",
       "    <tr>\n",
       "      <th>BCC-ESM1</th>\n",
       "      <td>10.615578</td>\n",
       "    </tr>\n",
       "    <tr>\n",
       "      <th>GFDL-CM4</th>\n",
       "      <td>10.511682</td>\n",
       "    </tr>\n",
       "    <tr>\n",
       "      <th>EC-Earth3-Veg-LR</th>\n",
       "      <td>10.453606</td>\n",
       "    </tr>\n",
       "    <tr>\n",
       "      <th>NorESM2-LM</th>\n",
       "      <td>10.410145</td>\n",
       "    </tr>\n",
       "    <tr>\n",
       "      <th>MPI-ESM1-2-LR</th>\n",
       "      <td>10.260886</td>\n",
       "    </tr>\n",
       "    <tr>\n",
       "      <th>NESM3</th>\n",
       "      <td>9.978137</td>\n",
       "    </tr>\n",
       "    <tr>\n",
       "      <th>MPI-ESM1-2-HR</th>\n",
       "      <td>9.969823</td>\n",
       "    </tr>\n",
       "    <tr>\n",
       "      <th>MRI-ESM2-0</th>\n",
       "      <td>9.922795</td>\n",
       "    </tr>\n",
       "    <tr>\n",
       "      <th>FGOALS-g3</th>\n",
       "      <td>9.687788</td>\n",
       "    </tr>\n",
       "    <tr>\n",
       "      <th>KIOST-ESM</th>\n",
       "      <td>9.600480</td>\n",
       "    </tr>\n",
       "  </tbody>\n",
       "</table>\n",
       "</div>"
      ],
      "text/plain": [
       "                       RMSE\n",
       "INM-CM5-0         12.250223\n",
       "SAM0-UNICON       11.678749\n",
       "TaiESM1           11.528083\n",
       "CMCC-CM2-SR5      11.480614\n",
       "INM-CM4-8         11.451635\n",
       "MIROC6            11.352976\n",
       "CMCC-ESM2         11.246493\n",
       "CanESM5           11.151318\n",
       "ACCESS-CM2        11.038999\n",
       "AWI-ESM-1-1-LR    10.996616\n",
       "NorESM2-MM        10.939740\n",
       "MPI-ESM-1-2-HAM   10.932004\n",
       "BCC-CSM2-MR       10.761381\n",
       "ACCESS-ESM1-5     10.695305\n",
       "CMCC-CM2-HR4      10.643204\n",
       "BCC-ESM1          10.615578\n",
       "GFDL-CM4          10.511682\n",
       "EC-Earth3-Veg-LR  10.453606\n",
       "NorESM2-LM        10.410145\n",
       "MPI-ESM1-2-LR     10.260886\n",
       "NESM3              9.978137\n",
       "MPI-ESM1-2-HR      9.969823\n",
       "MRI-ESM2-0         9.922795\n",
       "FGOALS-g3          9.687788\n",
       "KIOST-ESM          9.600480"
      ]
     },
     "execution_count": 15,
     "metadata": {},
     "output_type": "execute_result"
    }
   ],
   "source": [
    "all_results = {}\n",
    "\n",
    "for col in X_test.columns:\n",
    "    RMSE = mean_squared_error(y_test, X_test[col], squared=False)\n",
    "    all_results[col] = RMSE\n",
    "\n",
    "model_results_df = pd.DataFrame(all_results.values(), index=all_results.keys(), columns=['RMSE']).sort_values('RMSE', ascending=False)\n",
    "\n",
    "model_results_df"
   ]
  },
  {
   "cell_type": "markdown",
   "metadata": {},
   "source": [
    "**Observation:**\n",
    "\n",
    "In order to make sure the number of instances are equal for comparison purpose, I used the test data frame to calculate the RMSE for each individual model. By comparing the RMSE of our trained ensembled regressor with individual model's performance, we can conclude that our model outperforms all individual models as our ensembled model's RMSE is the lowest one. "
   ]
  },
  {
   "cell_type": "markdown",
   "metadata": {},
   "source": [
    "## Part 2:"
   ]
  },
  {
   "cell_type": "markdown",
   "metadata": {},
   "source": [
    "### Preparation for deploying model next week"
   ]
  },
  {
   "cell_type": "markdown",
   "metadata": {},
   "source": [
    "***NOTE: Complete task 4 from the milestone3 before coming here***"
   ]
  },
  {
   "cell_type": "markdown",
   "metadata": {},
   "source": [
    "We’ve found the best hyperparameter settings with MLlib (from the task 4 from milestone3), here we then use the same hyperparameters to train a scikit-learn model. "
   ]
  },
  {
   "cell_type": "code",
   "execution_count": 16,
   "metadata": {},
   "outputs": [
    {
     "ename": "ValueError",
     "evalue": "n_estimators must be an integer, got <class 'sklearn.ensemble._forest.RandomForestRegressor'>.",
     "output_type": "error",
     "traceback": [
      "\u001b[0;31m---------------------------------------------------------------------------\u001b[0m",
      "\u001b[0;31mValueError\u001b[0m                                Traceback (most recent call last)",
      "Input \u001b[0;32mIn [16]\u001b[0m, in \u001b[0;36m<cell line: 2>\u001b[0;34m()\u001b[0m\n\u001b[1;32m      1\u001b[0m model \u001b[38;5;241m=\u001b[39m RandomForestRegressor(n_estimators\u001b[38;5;241m=\u001b[39m___, max_depth\u001b[38;5;241m=\u001b[39m___)\n\u001b[0;32m----> 2\u001b[0m \u001b[43mmodel\u001b[49m\u001b[38;5;241;43m.\u001b[39;49m\u001b[43mfit\u001b[49m\u001b[43m(\u001b[49m\u001b[43mX_train\u001b[49m\u001b[43m,\u001b[49m\u001b[43m \u001b[49m\u001b[43my_train\u001b[49m\u001b[43m)\u001b[49m\n",
      "File \u001b[0;32m~/opt/miniconda3/envs/525_2022/lib/python3.8/site-packages/sklearn/ensemble/_forest.py:392\u001b[0m, in \u001b[0;36mBaseForest.fit\u001b[0;34m(self, X, y, sample_weight)\u001b[0m\n\u001b[1;32m    389\u001b[0m     n_samples_bootstrap \u001b[38;5;241m=\u001b[39m \u001b[38;5;28;01mNone\u001b[39;00m\n\u001b[1;32m    391\u001b[0m \u001b[38;5;66;03m# Check parameters\u001b[39;00m\n\u001b[0;32m--> 392\u001b[0m \u001b[38;5;28;43mself\u001b[39;49m\u001b[38;5;241;43m.\u001b[39;49m\u001b[43m_validate_estimator\u001b[49m\u001b[43m(\u001b[49m\u001b[43m)\u001b[49m\n\u001b[1;32m    393\u001b[0m \u001b[38;5;66;03m# TODO: Remove in v1.2\u001b[39;00m\n\u001b[1;32m    394\u001b[0m \u001b[38;5;28;01mif\u001b[39;00m \u001b[38;5;28misinstance\u001b[39m(\u001b[38;5;28mself\u001b[39m, (RandomForestRegressor, ExtraTreesRegressor)):\n",
      "File \u001b[0;32m~/opt/miniconda3/envs/525_2022/lib/python3.8/site-packages/sklearn/ensemble/_base.py:131\u001b[0m, in \u001b[0;36mBaseEnsemble._validate_estimator\u001b[0;34m(self, default)\u001b[0m\n\u001b[1;32m    126\u001b[0m \u001b[38;5;124;03m\"\"\"Check the estimator and the n_estimator attribute.\u001b[39;00m\n\u001b[1;32m    127\u001b[0m \n\u001b[1;32m    128\u001b[0m \u001b[38;5;124;03mSets the base_estimator_` attributes.\u001b[39;00m\n\u001b[1;32m    129\u001b[0m \u001b[38;5;124;03m\"\"\"\u001b[39;00m\n\u001b[1;32m    130\u001b[0m \u001b[38;5;28;01mif\u001b[39;00m \u001b[38;5;129;01mnot\u001b[39;00m \u001b[38;5;28misinstance\u001b[39m(\u001b[38;5;28mself\u001b[39m\u001b[38;5;241m.\u001b[39mn_estimators, numbers\u001b[38;5;241m.\u001b[39mIntegral):\n\u001b[0;32m--> 131\u001b[0m     \u001b[38;5;28;01mraise\u001b[39;00m \u001b[38;5;167;01mValueError\u001b[39;00m(\n\u001b[1;32m    132\u001b[0m         \u001b[38;5;124m\"\u001b[39m\u001b[38;5;124mn_estimators must be an integer, got \u001b[39m\u001b[38;5;132;01m{0}\u001b[39;00m\u001b[38;5;124m.\u001b[39m\u001b[38;5;124m\"\u001b[39m\u001b[38;5;241m.\u001b[39mformat(\n\u001b[1;32m    133\u001b[0m             \u001b[38;5;28mtype\u001b[39m(\u001b[38;5;28mself\u001b[39m\u001b[38;5;241m.\u001b[39mn_estimators)\n\u001b[1;32m    134\u001b[0m         )\n\u001b[1;32m    135\u001b[0m     )\n\u001b[1;32m    137\u001b[0m \u001b[38;5;28;01mif\u001b[39;00m \u001b[38;5;28mself\u001b[39m\u001b[38;5;241m.\u001b[39mn_estimators \u001b[38;5;241m<\u001b[39m\u001b[38;5;241m=\u001b[39m \u001b[38;5;241m0\u001b[39m:\n\u001b[1;32m    138\u001b[0m     \u001b[38;5;28;01mraise\u001b[39;00m \u001b[38;5;167;01mValueError\u001b[39;00m(\n\u001b[1;32m    139\u001b[0m         \u001b[38;5;124m\"\u001b[39m\u001b[38;5;124mn_estimators must be greater than zero, got \u001b[39m\u001b[38;5;132;01m{0}\u001b[39;00m\u001b[38;5;124m.\u001b[39m\u001b[38;5;124m\"\u001b[39m\u001b[38;5;241m.\u001b[39mformat(\n\u001b[1;32m    140\u001b[0m             \u001b[38;5;28mself\u001b[39m\u001b[38;5;241m.\u001b[39mn_estimators\n\u001b[1;32m    141\u001b[0m         )\n\u001b[1;32m    142\u001b[0m     )\n",
      "\u001b[0;31mValueError\u001b[0m: n_estimators must be an integer, got <class 'sklearn.ensemble._forest.RandomForestRegressor'>."
     ]
    }
   ],
   "source": [
    "model = RandomForestRegressor(n_estimators=___, max_depth=___)\n",
    "model.fit(X_train, y_train)"
   ]
  },
  {
   "cell_type": "code",
   "execution_count": null,
   "metadata": {},
   "outputs": [],
   "source": [
    "print(f\"Train RMSE: {mean_squared_error(y_train, model.predict(X_train), squared=False):.2f}\")\n",
    "print(f\" Test RMSE: {mean_squared_error(y_test, model.predict(X_test), squared=False):.2f}\")"
   ]
  },
  {
   "cell_type": "code",
   "execution_count": null,
   "metadata": {},
   "outputs": [],
   "source": [
    "# ready to deploy\n",
    "dump(model, \"model.joblib\")"
   ]
  },
  {
   "cell_type": "markdown",
   "metadata": {},
   "source": [
    "***Upload model.joblib to s3 under output folder. You choose how you want to upload it (using CLI, SDK, or web console).***"
   ]
  }
 ],
 "metadata": {
  "kernelspec": {
   "display_name": "Python [conda env:525_2022]",
   "language": "python",
   "name": "conda-env-525_2022-py"
  },
  "language_info": {
   "codemirror_mode": {
    "name": "ipython",
    "version": 3
   },
   "file_extension": ".py",
   "mimetype": "text/x-python",
   "name": "python",
   "nbconvert_exporter": "python",
   "pygments_lexer": "ipython3",
   "version": "3.8.6"
  }
 },
 "nbformat": 4,
 "nbformat_minor": 4
}
